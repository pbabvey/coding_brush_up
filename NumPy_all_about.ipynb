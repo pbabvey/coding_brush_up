{
  "nbformat": 4,
  "nbformat_minor": 0,
  "metadata": {
    "colab": {
      "name": "NumPy_all_about.ipynb",
      "provenance": [],
      "toc_visible": true,
      "authorship_tag": "ABX9TyPDCHHLAuZXHl4e0vyWCaEf",
      "include_colab_link": true
    },
    "kernelspec": {
      "name": "python3",
      "display_name": "Python 3"
    }
  },
  "cells": [
    {
      "cell_type": "markdown",
      "metadata": {
        "id": "view-in-github",
        "colab_type": "text"
      },
      "source": [
        "<a href=\"https://colab.research.google.com/github/pbabvey/coding_brush_up/blob/master/NumPy_all_about.ipynb\" target=\"_parent\"><img src=\"https://colab.research.google.com/assets/colab-badge.svg\" alt=\"Open In Colab\"/></a>"
      ]
    },
    {
      "cell_type": "code",
      "metadata": {
        "id": "QDTfJ5UZo971"
      },
      "source": [
        ""
      ],
      "execution_count": null,
      "outputs": []
    },
    {
      "cell_type": "markdown",
      "metadata": {
        "id": "sNX0NyRXqpn_"
      },
      "source": [
        "# Define Arrays"
      ]
    },
    {
      "cell_type": "code",
      "metadata": {
        "id": "fSSJa_EPpvmc",
        "colab": {
          "base_uri": "https://localhost:8080/",
          "height": 34
        },
        "outputId": "dc6288eb-d600-40d5-dc09-cd233da3c9b1"
      },
      "source": [
        "import numpy as np\n",
        "x = np.array([[12,3,4],[3,0,-1]])\n",
        "x.ndim"
      ],
      "execution_count": null,
      "outputs": [
        {
          "output_type": "execute_result",
          "data": {
            "text/plain": [
              "2"
            ]
          },
          "metadata": {
            "tags": []
          },
          "execution_count": 5
        }
      ]
    },
    {
      "cell_type": "code",
      "metadata": {
        "id": "l-DqAjLYpzjA",
        "colab": {
          "base_uri": "https://localhost:8080/",
          "height": 34
        },
        "outputId": "909c12dc-20b4-4fbe-cb9d-457e3bbd74ae"
      },
      "source": [
        "x = np.array([[5, 78, 2, 34, 0],\n",
        "              [6, 79, 3, 35, 1],\n",
        "              [7, 80, 4, 36, 2]])\n",
        "x.ndim"
      ],
      "execution_count": null,
      "outputs": [
        {
          "output_type": "execute_result",
          "data": {
            "text/plain": [
              "2"
            ]
          },
          "metadata": {
            "tags": []
          },
          "execution_count": 8
        }
      ]
    },
    {
      "cell_type": "code",
      "metadata": {
        "id": "N9O5EGAGpz7A",
        "colab": {
          "base_uri": "https://localhost:8080/",
          "height": 68
        },
        "outputId": "b01b9c71-d46e-402f-e852-e943c09558ce"
      },
      "source": [
        "y=x.astype('float64')/80\n",
        "y"
      ],
      "execution_count": null,
      "outputs": [
        {
          "output_type": "execute_result",
          "data": {
            "text/plain": [
              "array([[0.0625, 0.975 , 0.025 , 0.425 , 0.    ],\n",
              "       [0.075 , 0.9875, 0.0375, 0.4375, 0.0125],\n",
              "       [0.0875, 1.    , 0.05  , 0.45  , 0.025 ]])"
            ]
          },
          "metadata": {
            "tags": []
          },
          "execution_count": 9
        }
      ]
    },
    {
      "cell_type": "markdown",
      "metadata": {
        "id": "Ozn3RpEErJeg"
      },
      "source": [
        "### random arrays"
      ]
    },
    {
      "cell_type": "code",
      "metadata": {
        "id": "jxOy2_8HqN2S",
        "colab": {
          "base_uri": "https://localhost:8080/",
          "height": 136
        },
        "outputId": "6677d32e-137d-47cb-feca-13f0a8b037f3"
      },
      "source": [
        "#multiply matrices\n",
        "A = np.random.randint(5,size=(2,3))\n",
        "B = np.random.randint(5,size=(3,2))\n",
        "print(A)\n",
        "print(B)\n",
        "C = np.dot(A,B)\n",
        "C"
      ],
      "execution_count": null,
      "outputs": [
        {
          "output_type": "stream",
          "text": [
            "[[3 2 4]\n",
            " [1 2 1]]\n",
            "[[2 1]\n",
            " [0 0]\n",
            " [0 2]]\n"
          ],
          "name": "stdout"
        },
        {
          "output_type": "execute_result",
          "data": {
            "text/plain": [
              "array([[ 6, 11],\n",
              "       [ 2,  3]])"
            ]
          },
          "metadata": {
            "tags": []
          },
          "execution_count": 10
        }
      ]
    },
    {
      "cell_type": "code",
      "metadata": {
        "id": "yg4CyB4ErUtn",
        "colab": {
          "base_uri": "https://localhost:8080/",
          "height": 153
        },
        "outputId": "6a6c624a-13f4-4c2a-810c-038adab05021"
      },
      "source": [
        "x = np.random.random(( 3, 2, 5))\n",
        "y = np.random.random((2, 5))\n",
        "z = np.maximum(x, y)\n",
        "z"
      ],
      "execution_count": null,
      "outputs": [
        {
          "output_type": "execute_result",
          "data": {
            "text/plain": [
              "array([[[0.58585131, 0.98613745, 0.85398083, 0.8056581 , 0.63153706],\n",
              "        [0.56911715, 0.62016268, 0.64092263, 0.29224701, 0.87642197]],\n",
              "\n",
              "       [[0.4126968 , 0.65678298, 0.85398083, 0.87019307, 0.64119208],\n",
              "        [0.82181541, 0.3662144 , 0.7445715 , 0.71956732, 0.87642197]],\n",
              "\n",
              "       [[0.23889378, 0.79617226, 0.85398083, 0.8056581 , 0.68754194],\n",
              "        [0.56911715, 0.3662144 , 0.65242453, 0.66863007, 0.87642197]]])"
            ]
          },
          "metadata": {
            "tags": []
          },
          "execution_count": 13
        }
      ]
    },
    {
      "cell_type": "markdown",
      "metadata": {
        "id": "lVb6hfhzpCxE"
      },
      "source": [
        "### empty \n",
        "create a matrix and arbitrary values for cells"
      ]
    },
    {
      "cell_type": "code",
      "metadata": {
        "id": "24-0o8r2pJLH",
        "colab": {
          "base_uri": "https://localhost:8080/",
          "height": 68
        },
        "outputId": "41062ce4-cdf2-4d3a-90c5-66e55e204cb5"
      },
      "source": [
        "import numpy as np\n",
        "A = np.empty(10)\n",
        "A"
      ],
      "execution_count": null,
      "outputs": [
        {
          "output_type": "execute_result",
          "data": {
            "text/plain": [
              "array([2.6903171e-316, 0.0000000e+000, 0.0000000e+000, 0.0000000e+000,\n",
              "       0.0000000e+000, 0.0000000e+000, 0.0000000e+000, 0.0000000e+000,\n",
              "       0.0000000e+000, 0.0000000e+000])"
            ]
          },
          "metadata": {
            "tags": []
          },
          "execution_count": 4
        }
      ]
    },
    {
      "cell_type": "markdown",
      "metadata": {
        "id": "go6cSAyh0Sf-"
      },
      "source": [
        "## subarray selection"
      ]
    },
    {
      "cell_type": "code",
      "metadata": {
        "id": "NTGXeoDd0RD8",
        "colab": {
          "base_uri": "https://localhost:8080/",
          "height": 34
        },
        "outputId": "4263c9ec-1661-48a3-d3d5-d6beb0e0ba54"
      },
      "source": [
        "import numpy as np\n",
        "\n",
        "a =  np.array([[1,2,3],[4,5,6]])\n",
        "a[:,2]\n"
      ],
      "execution_count": null,
      "outputs": [
        {
          "output_type": "execute_result",
          "data": {
            "text/plain": [
              "array([3, 6])"
            ]
          },
          "metadata": {
            "tags": []
          },
          "execution_count": 14
        }
      ]
    },
    {
      "cell_type": "markdown",
      "metadata": {
        "id": "8vV9Ypu0qyK4"
      },
      "source": [
        "# Transformations"
      ]
    },
    {
      "cell_type": "code",
      "metadata": {
        "id": "e24NIbMIq2W4"
      },
      "source": [
        ""
      ],
      "execution_count": null,
      "outputs": []
    },
    {
      "cell_type": "markdown",
      "metadata": {
        "id": "S1we9v-Zq2n1"
      },
      "source": [
        "### transformation, reshape"
      ]
    },
    {
      "cell_type": "code",
      "metadata": {
        "id": "MybLiAJ_qlyU",
        "colab": {
          "base_uri": "https://localhost:8080/",
          "height": 119
        },
        "outputId": "7d14045b-a2ab-4ef0-8c05-5190295dfc21"
      },
      "source": [
        "# transpose and reshape\n",
        "print(A)\n",
        "print(np.transpose(A))\n",
        "A.reshape((1,6))"
      ],
      "execution_count": null,
      "outputs": [
        {
          "output_type": "stream",
          "text": [
            "[[3 2 4]\n",
            " [1 2 1]]\n",
            "[[3 1]\n",
            " [2 2]\n",
            " [4 1]]\n"
          ],
          "name": "stdout"
        },
        {
          "output_type": "execute_result",
          "data": {
            "text/plain": [
              "array([[3, 2, 4, 1, 2, 1]])"
            ]
          },
          "metadata": {
            "tags": []
          },
          "execution_count": 12
        }
      ]
    },
    {
      "cell_type": "markdown",
      "metadata": {
        "id": "3CX_TZ0UqoLV"
      },
      "source": [
        ""
      ]
    },
    {
      "cell_type": "code",
      "metadata": {
        "id": "kaBRLlnRU-FB",
        "colab": {
          "base_uri": "https://localhost:8080/",
          "height": 34
        },
        "outputId": "2870834d-d692-46cd-8ed3-9e6024675a8c"
      },
      "source": [
        "import numpy as np\n",
        "np.argmax([[1,2,5,9],[3,1,8,6]], axis=0)"
      ],
      "execution_count": null,
      "outputs": [
        {
          "output_type": "execute_result",
          "data": {
            "text/plain": [
              "array([1, 0, 1, 0])"
            ]
          },
          "metadata": {
            "tags": []
          },
          "execution_count": 11
        }
      ]
    },
    {
      "cell_type": "code",
      "metadata": {
        "id": "McYdZQ59qi6y"
      },
      "source": [
        ""
      ],
      "execution_count": null,
      "outputs": []
    }
  ]
}