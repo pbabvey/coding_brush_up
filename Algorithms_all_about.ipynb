{
  "nbformat": 4,
  "nbformat_minor": 0,
  "metadata": {
    "colab": {
      "name": "Algorithms_all_about.ipynb",
      "provenance": [],
      "toc_visible": true,
      "authorship_tag": "ABX9TyMFKJeRUrH/F9YzXLIFGRhX",
      "include_colab_link": true
    },
    "kernelspec": {
      "name": "python3",
      "display_name": "Python 3"
    }
  },
  "cells": [
    {
      "cell_type": "markdown",
      "metadata": {
        "id": "view-in-github",
        "colab_type": "text"
      },
      "source": [
        "<a href=\"https://colab.research.google.com/github/pbabvey/coding_brush_up/blob/master/Algorithms_all_about.ipynb\" target=\"_parent\"><img src=\"https://colab.research.google.com/assets/colab-badge.svg\" alt=\"Open In Colab\"/></a>"
      ]
    },
    {
      "cell_type": "code",
      "metadata": {
        "id": "EoQyG_wAEUVx",
        "colab": {
          "base_uri": "https://localhost:8080/",
          "height": 34
        },
        "outputId": "509b3db9-88f3-4982-ef09-fbf43e0c52c4"
      },
      "source": [
        "class Person:\n",
        "  def __init__(self, fname, lname):\n",
        "    self.firstname = fname\n",
        "    self.lastname = lname\n",
        "\n",
        "  def printname(self):\n",
        "    print(self.firstname, self.lastname)\n",
        "\n",
        "#Use the Person class to create an object, and then execute the printname method:\n",
        "\n",
        "x = Person(\"John\", \"Doe\")\n",
        "x.printname()"
      ],
      "execution_count": null,
      "outputs": [
        {
          "output_type": "stream",
          "text": [
            "John Doe\n"
          ],
          "name": "stdout"
        }
      ]
    },
    {
      "cell_type": "code",
      "metadata": {
        "id": "k1U-TMWHEosS"
      },
      "source": [
        "class Student(Person):\n",
        "  def __init__(self, fname, lname, year):\n",
        "    super().__init__(fname, lname)\n",
        "    self.graduationyear = year\n",
        "\n",
        "  def welcome(self):\n",
        "    print(\"Welcome\", self.firstname, self.lastname, \"to the class of\", self.graduationyear)"
      ],
      "execution_count": null,
      "outputs": []
    },
    {
      "cell_type": "code",
      "metadata": {
        "id": "JHj5GU1cEpmj"
      },
      "source": [
        "class Student(Person):\n",
        "    def __init__(self, fname, lname, year):\n",
        "        super().__init__(fname, lname)\n",
        "        "
      ],
      "execution_count": null,
      "outputs": []
    },
    {
      "cell_type": "markdown",
      "metadata": {
        "id": "StVxciZDr6cr"
      },
      "source": [
        "importnat note"
      ]
    },
    {
      "cell_type": "code",
      "metadata": {
        "id": "kcbtHsr3rgbv"
      },
      "source": [
        "def afunc(func):\n",
        "    def wrapper(*args, **kwargs):\n",
        "        print(\"Before this function\")\n",
        "        return func(*args, **kwargs)\n",
        "    return wrapper"
      ],
      "execution_count": null,
      "outputs": []
    },
    {
      "cell_type": "code",
      "metadata": {
        "id": "z8a9jjbcr5au"
      },
      "source": [
        "def add_one(x,y,z):\n",
        "    return x + y + z"
      ],
      "execution_count": null,
      "outputs": []
    },
    {
      "cell_type": "code",
      "metadata": {
        "id": "qJVDR22SsIKs"
      },
      "source": [
        "f = afunc(add_one)"
      ],
      "execution_count": null,
      "outputs": []
    },
    {
      "cell_type": "code",
      "metadata": {
        "id": "UqSXC6P-sMy4",
        "colab": {
          "base_uri": "https://localhost:8080/",
          "height": 51
        },
        "outputId": "b3bdcb47-5963-46d6-f0b4-d570de7d2a2c"
      },
      "source": [
        "A = [1,2,3]\n",
        "f(*A)"
      ],
      "execution_count": null,
      "outputs": [
        {
          "output_type": "stream",
          "text": [
            "Before this function\n"
          ],
          "name": "stdout"
        },
        {
          "output_type": "execute_result",
          "data": {
            "text/plain": [
              "6"
            ]
          },
          "metadata": {
            "tags": []
          },
          "execution_count": 15
        }
      ]
    },
    {
      "cell_type": "code",
      "metadata": {
        "id": "DvfzPa0GsO-B",
        "colab": {
          "base_uri": "https://localhost:8080/",
          "height": 51
        },
        "outputId": "680bdd1c-83be-4d49-eaf8-f39e5dc63133"
      },
      "source": [
        "A = {'x':3,'y':5,'z':6}\n",
        "f(**A)"
      ],
      "execution_count": null,
      "outputs": [
        {
          "output_type": "stream",
          "text": [
            "Before this function\n"
          ],
          "name": "stdout"
        },
        {
          "output_type": "execute_result",
          "data": {
            "text/plain": [
              "14"
            ]
          },
          "metadata": {
            "tags": []
          },
          "execution_count": 17
        }
      ]
    },
    {
      "cell_type": "code",
      "metadata": {
        "id": "rGdS8igqwVrT"
      },
      "source": [
        "# so interesting\n",
        "class Point():\n",
        "    def __init__(self, x, y):\n",
        "        self.x = x\n",
        "        self.y = y\n",
        "\n",
        "    #def __repr__(self):\n",
        "    #    return f\"{self.x + self.y}\"\n",
        "\n",
        "    def __str__(self):\n",
        "        return f\"{self.x + self.y}\""
      ],
      "execution_count": null,
      "outputs": []
    },
    {
      "cell_type": "code",
      "metadata": {
        "id": "_3ZQRdJYxZBy",
        "colab": {
          "base_uri": "https://localhost:8080/",
          "height": 35
        },
        "outputId": "8a5c40b3-7df2-4179-ceaf-2db975592c47"
      },
      "source": [
        "p = Point(1,4)\n",
        "str(p)"
      ],
      "execution_count": null,
      "outputs": [
        {
          "output_type": "execute_result",
          "data": {
            "application/vnd.google.colaboratory.intrinsic+json": {
              "type": "string"
            },
            "text/plain": [
              "'5'"
            ]
          },
          "metadata": {
            "tags": []
          },
          "execution_count": 27
        }
      ]
    },
    {
      "cell_type": "code",
      "metadata": {
        "id": "e5WaQp6VzaOj",
        "colab": {
          "base_uri": "https://localhost:8080/",
          "height": 102
        },
        "outputId": "a3d172a5-08ac-45d9-86b4-cf142687e6f1"
      },
      "source": [
        "def f(*args, **kwargs):\n",
        "    print(args)\n",
        "    print(kwargs)\n",
        "    print(*args)\n",
        "    #print(kwargs)\n",
        "    for key, value in kwargs.items():\n",
        "        print(key,value)\n",
        "f(12,13,\"heat\", value=12, d = \"sffsf\")"
      ],
      "execution_count": null,
      "outputs": [
        {
          "output_type": "stream",
          "text": [
            "(12, 13, 'heat')\n",
            "{'value': 12, 'd': 'sffsf'}\n",
            "12 13 heat\n",
            "value 12\n",
            "d sffsf\n"
          ],
          "name": "stdout"
        }
      ]
    },
    {
      "cell_type": "markdown",
      "metadata": {
        "id": "GHdQGGMr060w"
      },
      "source": [
        "https://stackoverflow.com/questions/1769403/what-is-the-purpose-and-use-of-kwargs"
      ]
    },
    {
      "cell_type": "code",
      "metadata": {
        "id": "LP9HVo6gEt1s",
        "colab": {
          "base_uri": "https://localhost:8080/",
          "height": 68
        },
        "outputId": "40a12f15-886c-49df-f032-feee56ef2066"
      },
      "source": [
        "import itertools\n",
        "from collections import deque\n",
        "import time\n",
        "\n",
        "def count_iter_items(iterable):\n",
        "    counter = itertools.count()\n",
        "    deque(zip(iterable, counter), maxlen=0)  # (consume at C speed)\n",
        "    return next(counter)\n",
        "\n",
        "start_time = time.time()\n",
        "count_iter_items(range(1000000))\n",
        "print(time.time()-start_time)\n",
        "#0.047423601150512695\n",
        "\n",
        "\n",
        "iterable = range(1000000)\n",
        "start_time = time.time()\n",
        "sum(1 for _ in iterable)\n",
        "print(time.time()-start_time)\n",
        "#0.06085681915283203\n",
        "\n",
        "iterable = range(1000000)\n",
        "count = 0\n",
        "start_time = time.time()\n",
        "for iter in iterable:\n",
        "    count += 1\n",
        "print(time.time()-start_time)\n",
        "#0.06085681915283203"
      ],
      "execution_count": null,
      "outputs": [
        {
          "output_type": "stream",
          "text": [
            "0.04065346717834473\n",
            "0.060674428939819336\n",
            "0.09642457962036133\n"
          ],
          "name": "stdout"
        }
      ]
    },
    {
      "cell_type": "code",
      "metadata": {
        "id": "A2uNdRIJR5sT",
        "colab": {
          "base_uri": "https://localhost:8080/",
          "height": 34
        },
        "outputId": "827580c9-5fec-4bcb-da69-811a7cc54ffa"
      },
      "source": [
        ""
      ],
      "execution_count": null,
      "outputs": [
        {
          "output_type": "stream",
          "text": [
            "0.06085681915283203\n"
          ],
          "name": "stdout"
        }
      ]
    },
    {
      "cell_type": "code",
      "metadata": {
        "id": "y1m3STIPGS-H",
        "colab": {
          "base_uri": "https://localhost:8080/",
          "height": 102
        },
        "outputId": "c5078362-329d-4777-eaac-f4273854a981"
      },
      "source": [
        "count = itertools.count()\n",
        "for i in range(5):\n",
        "    print(next(count))"
      ],
      "execution_count": null,
      "outputs": [
        {
          "output_type": "stream",
          "text": [
            "0\n",
            "1\n",
            "2\n",
            "3\n",
            "4\n"
          ],
          "name": "stdout"
        }
      ]
    },
    {
      "cell_type": "code",
      "metadata": {
        "id": "uEtvzINvI9sI",
        "colab": {
          "base_uri": "https://localhost:8080/",
          "height": 283
        },
        "outputId": "76f5e1f6-24c6-4632-fe12-730626971cd3"
      },
      "source": [
        "C = zip(range(5),range(7))\n",
        "for i in range(7):\n",
        "    print(next(C))"
      ],
      "execution_count": null,
      "outputs": [
        {
          "output_type": "stream",
          "text": [
            "(0, 0)\n",
            "(1, 1)\n",
            "(2, 2)\n",
            "(3, 3)\n",
            "(4, 4)\n"
          ],
          "name": "stdout"
        },
        {
          "output_type": "error",
          "ename": "StopIteration",
          "evalue": "ignored",
          "traceback": [
            "\u001b[0;31m---------------------------------------------------------------------------\u001b[0m",
            "\u001b[0;31mStopIteration\u001b[0m                             Traceback (most recent call last)",
            "\u001b[0;32m<ipython-input-9-7b597c44f817>\u001b[0m in \u001b[0;36m<module>\u001b[0;34m()\u001b[0m\n\u001b[1;32m      1\u001b[0m \u001b[0mC\u001b[0m \u001b[0;34m=\u001b[0m \u001b[0mzip\u001b[0m\u001b[0;34m(\u001b[0m\u001b[0mrange\u001b[0m\u001b[0;34m(\u001b[0m\u001b[0;36m5\u001b[0m\u001b[0;34m)\u001b[0m\u001b[0;34m,\u001b[0m\u001b[0mrange\u001b[0m\u001b[0;34m(\u001b[0m\u001b[0;36m7\u001b[0m\u001b[0;34m)\u001b[0m\u001b[0;34m)\u001b[0m\u001b[0;34m\u001b[0m\u001b[0;34m\u001b[0m\u001b[0m\n\u001b[1;32m      2\u001b[0m \u001b[0;32mfor\u001b[0m \u001b[0mi\u001b[0m \u001b[0;32min\u001b[0m \u001b[0mrange\u001b[0m\u001b[0;34m(\u001b[0m\u001b[0;36m7\u001b[0m\u001b[0;34m)\u001b[0m\u001b[0;34m:\u001b[0m\u001b[0;34m\u001b[0m\u001b[0;34m\u001b[0m\u001b[0m\n\u001b[0;32m----> 3\u001b[0;31m     \u001b[0mprint\u001b[0m\u001b[0;34m(\u001b[0m\u001b[0mnext\u001b[0m\u001b[0;34m(\u001b[0m\u001b[0mC\u001b[0m\u001b[0;34m)\u001b[0m\u001b[0;34m)\u001b[0m\u001b[0;34m\u001b[0m\u001b[0;34m\u001b[0m\u001b[0m\n\u001b[0m",
            "\u001b[0;31mStopIteration\u001b[0m: "
          ]
        }
      ]
    },
    {
      "cell_type": "code",
      "metadata": {
        "id": "_kMvYMxgLZ1Q",
        "colab": {
          "base_uri": "https://localhost:8080/",
          "height": 34
        },
        "outputId": "52ca5aab-7939-4c69-97dd-c06d660f22d4"
      },
      "source": [
        "deque(zip(range(5), range(8)), maxlen=0)"
      ],
      "execution_count": null,
      "outputs": [
        {
          "output_type": "execute_result",
          "data": {
            "text/plain": [
              "deque([])"
            ]
          },
          "metadata": {
            "tags": []
          },
          "execution_count": 11
        }
      ]
    },
    {
      "cell_type": "markdown",
      "metadata": {
        "id": "3xrKQzUaLxxl"
      },
      "source": [
        "Collections.deque <br>\n",
        "https://www.geeksforgeeks.org/deque-in-python/"
      ]
    },
    {
      "cell_type": "code",
      "metadata": {
        "id": "W7-RemKyMnxE",
        "colab": {
          "base_uri": "https://localhost:8080/",
          "height": 34
        },
        "outputId": "c2afe1ff-c66d-4533-b2a2-3778450486f3"
      },
      "source": [
        "a = 5.343535355\n",
        "print(f\"OK! {a:0.3f}\")"
      ],
      "execution_count": null,
      "outputs": [
        {
          "output_type": "stream",
          "text": [
            "OK! 5.344\n"
          ],
          "name": "stdout"
        }
      ]
    },
    {
      "cell_type": "code",
      "metadata": {
        "id": "ik7nNLb4NY4w",
        "colab": {
          "base_uri": "https://localhost:8080/",
          "height": 34
        },
        "outputId": "bee89c08-adf5-46e3-90a1-05eeffa37dec"
      },
      "source": [
        "print(\"OK! {:0.3f}\".format(a))"
      ],
      "execution_count": null,
      "outputs": [
        {
          "output_type": "stream",
          "text": [
            "OK! 5.344\n"
          ],
          "name": "stdout"
        }
      ]
    },
    {
      "cell_type": "code",
      "metadata": {
        "id": "mDjsnFPmC8lL",
        "colab": {
          "base_uri": "https://localhost:8080/",
          "height": 68
        },
        "outputId": "9165eb5a-376d-44f4-fa6a-64605dcc6e72"
      },
      "source": [
        "print(ord(\"(\"),ord(\")\"))\n",
        "print(ord(\"[\"),ord(\"]\"))\n",
        "print(ord(\"{\"),ord(\"}\"))\n"
      ],
      "execution_count": null,
      "outputs": [
        {
          "output_type": "stream",
          "text": [
            "40 41\n",
            "91 93\n",
            "123 125\n"
          ],
          "name": "stdout"
        }
      ]
    },
    {
      "cell_type": "code",
      "metadata": {
        "id": "fCI4krV_vec0",
        "colab": {
          "base_uri": "https://localhost:8080/",
          "height": 34
        },
        "outputId": "b96d4daa-67ec-4669-853e-c3595f3a3702"
      },
      "source": [
        "2.6*120"
      ],
      "execution_count": null,
      "outputs": [
        {
          "output_type": "execute_result",
          "data": {
            "text/plain": [
              "312.0"
            ]
          },
          "metadata": {
            "tags": []
          },
          "execution_count": 1
        }
      ]
    },
    {
      "cell_type": "code",
      "metadata": {
        "id": "LHbegtiOJPBZ"
      },
      "source": [
        "from collections import deque\n",
        "def isBalanced(S):\n",
        "    q = deque() \n",
        "    for s in S:\n",
        "        #print(list(q))\n",
        "        if s in [\"({[\"]:\n",
        "            q.append(s)\n",
        "        else:\n",
        "            if not q:\n",
        "                return \"NO\"\n",
        "            else:\n",
        "                t = q.pop()\n",
        "                if ord(s) - ord(t) not in [1,2]:\n",
        "                    return \"NO\"\n",
        "    if not q:\n",
        "        return \"YES\""
      ],
      "execution_count": null,
      "outputs": []
    },
    {
      "cell_type": "code",
      "metadata": {
        "id": "Kvj5A1QuOe74",
        "colab": {
          "base_uri": "https://localhost:8080/",
          "height": 35
        },
        "outputId": "04e3da31-dc69-46f2-c115-144406df9e3c"
      },
      "source": [
        "isBalanced(\"{{}[{}[{}[]]]}{}({{[]}})[[(){}][]]{}(([]{[][]()()}{{{()()}{[]}({}[]{()})}{()}[[]][()]}))\")"
      ],
      "execution_count": null,
      "outputs": [
        {
          "output_type": "execute_result",
          "data": {
            "application/vnd.google.colaboratory.intrinsic+json": {
              "type": "string"
            },
            "text/plain": [
              "'YES'"
            ]
          },
          "metadata": {
            "tags": []
          },
          "execution_count": 14
        }
      ]
    },
    {
      "cell_type": "code",
      "metadata": {
        "id": "zfrWbxP_sZld",
        "colab": {
          "base_uri": "https://localhost:8080/",
          "height": 34
        },
        "outputId": "bf19c4cd-b675-48c9-8cc8-10e92c077021"
      },
      "source": [
        "from itertools import accumulate\n",
        "from functools import reduce\n",
        "def partialSum(stack):\n",
        "    return accumulate([0] + stack[::-1])\n",
        "\n",
        "def equalStacks(h1, h2, h3):\n",
        "    stacks = [h1,h2,h3]\n",
        "    partials = [set(partialSum(x)) for x in stacks]\n",
        "    possibles = reduce(set.intersection, partials)\n",
        "    return max(possibles)\n",
        "\n",
        "equalStacks([1,3,4],[4,7],[2,2,1,4,2])"
      ],
      "execution_count": null,
      "outputs": [
        {
          "output_type": "execute_result",
          "data": {
            "text/plain": [
              "7"
            ]
          },
          "metadata": {
            "tags": []
          },
          "execution_count": 5
        }
      ]
    },
    {
      "cell_type": "code",
      "metadata": {
        "id": "-wzxvPcTskHG",
        "colab": {
          "base_uri": "https://localhost:8080/",
          "height": 51
        },
        "outputId": "1b7659c0-c944-49d8-9c42-dcef9a65cfd9"
      },
      "source": [
        "a = 5\n",
        "b = 3\n",
        "a,b = b,a\n",
        "print(a)\n",
        "print(b)"
      ],
      "execution_count": null,
      "outputs": [
        {
          "output_type": "stream",
          "text": [
            "3\n",
            "5\n"
          ],
          "name": "stdout"
        }
      ]
    },
    {
      "cell_type": "code",
      "metadata": {
        "id": "7Mo04vFv6iIz",
        "colab": {
          "base_uri": "https://localhost:8080/",
          "height": 34
        },
        "outputId": "31c08c33-e37e-4baf-988b-8d0e16b22638"
      },
      "source": [
        "A = [1,4,7]\n",
        "B = map(str,A)\n",
        "print(*B)"
      ],
      "execution_count": null,
      "outputs": [
        {
          "output_type": "stream",
          "text": [
            "1 4 7\n"
          ],
          "name": "stdout"
        }
      ]
    },
    {
      "cell_type": "code",
      "metadata": {
        "id": "aEdaautu8b8h",
        "colab": {
          "base_uri": "https://localhost:8080/",
          "height": 300
        },
        "outputId": "53a81aa3-1cb9-489d-cf78-79983763e9ba"
      },
      "source": [
        "def sample(aaa):\n",
        "    print(aaa[1])\n",
        "\n",
        "sample(B)"
      ],
      "execution_count": null,
      "outputs": [
        {
          "output_type": "error",
          "ename": "TypeError",
          "evalue": "ignored",
          "traceback": [
            "\u001b[0;31m---------------------------------------------------------------------------\u001b[0m",
            "\u001b[0;31mTypeError\u001b[0m                                 Traceback (most recent call last)",
            "\u001b[0;32m<ipython-input-6-6db6513f169b>\u001b[0m in \u001b[0;36m<module>\u001b[0;34m()\u001b[0m\n\u001b[1;32m      2\u001b[0m     \u001b[0mprint\u001b[0m\u001b[0;34m(\u001b[0m\u001b[0maaa\u001b[0m\u001b[0;34m[\u001b[0m\u001b[0;36m1\u001b[0m\u001b[0;34m]\u001b[0m\u001b[0;34m)\u001b[0m\u001b[0;34m\u001b[0m\u001b[0;34m\u001b[0m\u001b[0m\n\u001b[1;32m      3\u001b[0m \u001b[0;34m\u001b[0m\u001b[0m\n\u001b[0;32m----> 4\u001b[0;31m \u001b[0msample\u001b[0m\u001b[0;34m(\u001b[0m\u001b[0mB\u001b[0m\u001b[0;34m)\u001b[0m\u001b[0;34m\u001b[0m\u001b[0;34m\u001b[0m\u001b[0m\n\u001b[0m",
            "\u001b[0;32m<ipython-input-6-6db6513f169b>\u001b[0m in \u001b[0;36msample\u001b[0;34m(aaa)\u001b[0m\n\u001b[1;32m      1\u001b[0m \u001b[0;32mdef\u001b[0m \u001b[0msample\u001b[0m\u001b[0;34m(\u001b[0m\u001b[0maaa\u001b[0m\u001b[0;34m)\u001b[0m\u001b[0;34m:\u001b[0m\u001b[0;34m\u001b[0m\u001b[0;34m\u001b[0m\u001b[0m\n\u001b[0;32m----> 2\u001b[0;31m     \u001b[0mprint\u001b[0m\u001b[0;34m(\u001b[0m\u001b[0maaa\u001b[0m\u001b[0;34m[\u001b[0m\u001b[0;36m1\u001b[0m\u001b[0;34m]\u001b[0m\u001b[0;34m)\u001b[0m\u001b[0;34m\u001b[0m\u001b[0;34m\u001b[0m\u001b[0m\n\u001b[0m\u001b[1;32m      3\u001b[0m \u001b[0;34m\u001b[0m\u001b[0m\n\u001b[1;32m      4\u001b[0m \u001b[0msample\u001b[0m\u001b[0;34m(\u001b[0m\u001b[0mB\u001b[0m\u001b[0;34m)\u001b[0m\u001b[0;34m\u001b[0m\u001b[0;34m\u001b[0m\u001b[0m\n",
            "\u001b[0;31mTypeError\u001b[0m: 'map' object is not subscriptable"
          ]
        }
      ]
    },
    {
      "cell_type": "code",
      "metadata": {
        "id": "U4QPXyPJ8Ijs",
        "colab": {
          "base_uri": "https://localhost:8080/",
          "height": 34
        },
        "outputId": "277a2118-5e6e-4f1a-ac76-fb357ebec4fa"
      },
      "source": [
        "#Q-sort\n",
        "#https://en.wikipedia.org/wiki/Quicksort#Algorithm\n",
        "def partition(L,H,A):\n",
        "    pivot = A[H]\n",
        "    i = L\n",
        "    for j in range(L,H):\n",
        "        if  A[j] < pivot:\n",
        "            A[i], A[j] = A[j], A[i]\n",
        "            i += 1\n",
        "    A[i], A[H] = A[H], A[i]\n",
        "    return i\n",
        "\n",
        "def qsort(L,H,A):\n",
        "    \n",
        "    if L<H:\n",
        "        p = partition(L,H,A)\n",
        "        qsort(L,p-1,A)\n",
        "        qsort(p+1,H,A)\n",
        "\n",
        "A = [6,4,3,7,2,9,11,0,5,3,1,3]\n",
        "qsort(0,len(A)-1,A)\n",
        "print(A)"
      ],
      "execution_count": null,
      "outputs": [
        {
          "output_type": "stream",
          "text": [
            "[0, 1, 2, 3, 3, 3, 4, 5, 6, 7, 9, 11]\n"
          ],
          "name": "stdout"
        }
      ]
    },
    {
      "cell_type": "code",
      "metadata": {
        "id": "2s7wTjxjEdJr"
      },
      "source": [
        "def partition(L,H,A):\n",
        "    pivot = A[H]\n",
        "    i = L\n",
        "    for j in range(L,H):\n",
        "        if A[j] < pivot:\n",
        "            A[i], A[j] = A[j], A[i]\n",
        "            i += 1\n",
        "    A[i], A[H] = A[H], A[i]\n",
        "    return i\n",
        "def qsort(L,H,A):\n",
        "    if L<H:\n",
        "        p = partition(L,H,A)\n",
        "        qsort(L,p-1,A)\n",
        "        qsort(p+1,H,A)\n",
        "qsort(0,len(A)-1,A)"
      ],
      "execution_count": null,
      "outputs": []
    },
    {
      "cell_type": "markdown",
      "metadata": {
        "id": "0L-bf_FdzmuS"
      },
      "source": [
        ""
      ]
    },
    {
      "cell_type": "code",
      "metadata": {
        "id": "NvaqG0DFCL-K",
        "colab": {
          "base_uri": "https://localhost:8080/",
          "height": 119
        },
        "outputId": "bf0982fb-f6ca-48e8-8210-16ba5faa1cda"
      },
      "source": [
        "S = 1.8+4.9+5+2.3+6.3+11.3\n",
        "print(1.8,1.8*100/S)\n",
        "print(4.9,4.9*100/S)\n",
        "print(5,5*100/S)\n",
        "print(2.3,2.3*100/S)\n",
        "print(6.3,6.3*100/S)\n",
        "print(11.3,11.3*100/S)"
      ],
      "execution_count": null,
      "outputs": [
        {
          "output_type": "stream",
          "text": [
            "1.8 5.69620253164557\n",
            "4.9 15.506329113924052\n",
            "5 15.822784810126581\n",
            "2.3 7.278481012658227\n",
            "6.3 19.93670886075949\n",
            "11.3 35.75949367088607\n"
          ],
          "name": "stdout"
        }
      ]
    },
    {
      "cell_type": "code",
      "metadata": {
        "id": "JNWAJvIXYhcf",
        "colab": {
          "base_uri": "https://localhost:8080/",
          "height": 34
        },
        "outputId": "4c475283-5e5c-4f54-f60c-313d4f3c8a8f"
      },
      "source": [
        "A = [1,2,3,4,5,6]\n",
        "B = [1,2,3,1,1,1]\n",
        "A[2:4] += B[2:4]\n",
        "A"
      ],
      "execution_count": null,
      "outputs": [
        {
          "output_type": "execute_result",
          "data": {
            "text/plain": [
              "[1, 2, 3, 4, 3, 1, 5, 6]"
            ]
          },
          "metadata": {
            "tags": []
          },
          "execution_count": 3
        }
      ]
    },
    {
      "cell_type": "code",
      "metadata": {
        "id": "3Un19blhoVCV"
      },
      "source": [
        "# it doesn't work on terminal\n",
        "import sys\n",
        "for i in range(10):\n",
        "    my_list = sys.stdin.readline().strip()\n",
        "    print(my_list)\n"
      ],
      "execution_count": null,
      "outputs": []
    },
    {
      "cell_type": "markdown",
      "metadata": {
        "id": "mXRmRfWfHqjd"
      },
      "source": [
        "# Python functions"
      ]
    },
    {
      "cell_type": "markdown",
      "metadata": {
        "id": "a1SDZZLPF2si"
      },
      "source": [
        "## Queue\n",
        "\n",
        "https://docs.python.org/2.5/lib/deque-objects.html\n",
        "\n",
        "https://thedataincubator.github.io/coding-challenges/challenges/queue-using-two-stacks.html\n"
      ]
    },
    {
      "cell_type": "code",
      "metadata": {
        "id": "i65b9Gva55Ub"
      },
      "source": [
        ""
      ],
      "execution_count": null,
      "outputs": []
    },
    {
      "cell_type": "markdown",
      "metadata": {
        "id": "s-uHDeO_st1o"
      },
      "source": [
        "##HEAPQ"
      ]
    },
    {
      "cell_type": "code",
      "metadata": {
        "id": "1F0yN6TxsyHP"
      },
      "source": [
        "import heapq\n",
        "\n",
        "class PriorityQueue(object):\n",
        "\n",
        "    def __init__(self):\n",
        "        self.arriving = []\n",
        "\n",
        "    def load_customer(self, arrival, order_time):\n",
        "        heapq.heappush(self.arriving, (arrival, order_time))\n",
        "\n",
        "    def process(self):\n",
        "        instore = []\n",
        "        total_wait = 0\n",
        "        total_cust = 0\n",
        "        now = -1\n",
        "\n",
        "        while self.arriving or instore:\n",
        "            if not instore and self.arriving[0][0] > now:\n",
        "                # Fast-forward to next arrival\n",
        "                now = self.arriving[0][0]\n",
        "\n",
        "            # Load everyone who's shown up since last pizza started\n",
        "            while self.arriving and self.arriving[0][0] <= now:\n",
        "                arrival, order_time = heapq.heappop(self.arriving)\n",
        "                heapq.heappush(instore, (order_time, arrival))\n",
        "\n",
        "            order_time, arrival = heapq.heappop(instore)\n",
        "            now += order_time\n",
        "            total_wait += now - arrival\n",
        "            total_cust += 1\n",
        "\n",
        "        return total_wait // total_cust\n",
        "\n",
        "pq = PriorityQueue()\n",
        "pq.load_customer(1,2)"
      ],
      "execution_count": null,
      "outputs": []
    },
    {
      "cell_type": "markdown",
      "metadata": {
        "id": "tqM-Ba1AFyoP"
      },
      "source": [
        "# Binary Search"
      ]
    },
    {
      "cell_type": "code",
      "metadata": {
        "id": "BWrsekOXF0vc"
      },
      "source": [
        "# python 3 program to implement \n",
        "# binary search in sorted array \n",
        "\n",
        "def binarySearch(arr, low, high, key): \n",
        "\n",
        "\tif (high < low): \n",
        "\t\treturn -1\n",
        "\t# low + (high - low)/2 \n",
        "\tmid = (low + high)//2\n",
        "\n",
        "\tif (key == arr[mid]): \n",
        "\t\treturn mid \n",
        "\n",
        "\tif (key > arr[int(mid)]): \n",
        "\t\treturn binarySearch(arr, (mid + 1), high, key) \n",
        "\n",
        "\treturn (binarySearch(arr, low, (mid -1), key)) \n",
        "\n",
        "# Driver program to check above functions \n",
        "# Let us search 3 in below array \n",
        "arr = [5, 6, 7, 8, 9, 10] \n",
        "n = len(arr) \n",
        "key = 10\n",
        "print(\"Index:\", int(binarySearch(arr, 0, n-1, key) )) \n",
        "\n",
        "# This code is contributed by \n",
        "# Smitha Dinesh Semwal \n"
      ],
      "execution_count": null,
      "outputs": []
    },
    {
      "cell_type": "markdown",
      "metadata": {
        "id": "2-B98HTiF-b8"
      },
      "source": [
        "# Sorting"
      ]
    },
    {
      "cell_type": "markdown",
      "metadata": {
        "id": "sOwBwtJem_BC"
      },
      "source": [
        "## Insertion sort\n",
        "https://www.geeksforgeeks.org/binary-insertion-sort/ <br>\n",
        "Give you an idea of binary search\n",
        "\n",
        "Be careful when there are several equal numbers, it put the new number in which location. With using >= instead of = and <= instead of = everything will changes in case we encounter a set of equal numbers."
      ]
    },
    {
      "cell_type": "code",
      "metadata": {
        "colab": {
          "base_uri": "https://localhost:8080/"
        },
        "id": "EC7gVLIb-qBV",
        "outputId": "9b0de720-4533-47e8-cf3c-27736492e2ec"
      },
      "source": [
        "# Python Program implementation\n",
        "# of binary insertion sort\n",
        "\n",
        "\n",
        "def binary_search(arr, val, start, end):\n",
        "\t\n",
        "\t# we need to distinugish whether we \n",
        "\t# should insert before or after the \n",
        "\t# left boundary. imagine [0] is the last \n",
        "\t# step of the binary search and we need \n",
        "\t# to decide where to insert -1\n",
        "\tif start == end:\n",
        "\t\tif arr[start] > val:\n",
        "\t\t\treturn start\n",
        "\t\telse:\n",
        "\t\t\treturn start+1\n",
        "\n",
        "\t# this occurs if we are moving \n",
        "\t# beyond left's boundary meaning \n",
        "\t# the left boundary is the least \n",
        "\t# position to find a number greater than val\n",
        "\tif start > end:\n",
        "\t\treturn start\n",
        "\n",
        "\tmid = (start+end)//2\n",
        "\tif arr[mid] < val:\n",
        "\t\treturn binary_search(arr, val, mid+1, end)\n",
        "\telif arr[mid] > val:\n",
        "\t\treturn binary_search(arr, val, start, mid-1)\n",
        "\telse:\n",
        "\t\treturn mid\n",
        "\n",
        "\n",
        "def insertion_sort(arr):\n",
        "\tfor i in range(1, len(arr)):\n",
        "\t\tval = arr[i]\n",
        "\t\tj = binary_search(arr, val, 0, i-1)\n",
        "\t\tarr = arr[:j] + [val] + arr[j:i] + arr[i+1:]\n",
        "\treturn arr\n",
        "\n",
        "\n",
        "print(\"Sorted array:\")\n",
        "print(insertion_sort([37, 23, 0, 17, 12, 72, 31,\n",
        "\t\t\t\t\t46, 100, 88, 54]))\n",
        "\n",
        "\n"
      ],
      "execution_count": null,
      "outputs": [
        {
          "output_type": "stream",
          "text": [
            "Sorted array:\n",
            "[0, 12, 17, 23, 31, 37, 46, 54, 72, 88, 100]\n"
          ],
          "name": "stdout"
        }
      ]
    },
    {
      "cell_type": "code",
      "metadata": {
        "colab": {
          "base_uri": "https://localhost:8080/"
        },
        "id": "lcUoRIuMRxfk",
        "outputId": "3f8fa0a6-d1bb-4bc9-cf9b-63cba264562d"
      },
      "source": [
        "def smaller_equal_count(arr, val, start, end):\n",
        "\n",
        "    if start == end:\n",
        "        if arr[start] > val:\n",
        "            return start\n",
        "        else:\n",
        "            return start+1\n",
        "\n",
        "    if start > end:\n",
        "        return start\n",
        "\n",
        "    mid = (start+end)//2\n",
        "    if arr[mid] <= val:\n",
        "        return smaller_equal_count(arr, val, mid+1, end)\n",
        "    elif arr[mid] > val:\n",
        "        return smaller_equal_count(arr, val, start, mid-1)\n",
        "    else:\n",
        "        return mid"
      ],
      "execution_count": null,
      "outputs": [
        {
          "output_type": "execute_result",
          "data": {
            "text/plain": [
              "0"
            ]
          },
          "metadata": {
            "tags": []
          },
          "execution_count": 14
        }
      ]
    },
    {
      "cell_type": "code",
      "metadata": {
        "id": "dWP1Y9A7Uw0K"
      },
      "source": [
        "def smaller_count(arr, val, start, end):\n",
        "\n",
        "    if start == end:\n",
        "        if arr[start] >= val:\n",
        "            return start\n",
        "        else:\n",
        "            return start+1\n",
        "\n",
        "    if start > end:\n",
        "        return start\n",
        "\n",
        "    mid = (start+end)//2\n",
        "\n",
        "    if arr[mid] < val:\n",
        "        return smaller_count(arr, val, mid+1, end)\n",
        "    elif arr[mid] >= val:\n",
        "        return smaller_count(arr, val, start, mid-1)\n",
        "    else:\n",
        "        return mid"
      ],
      "execution_count": null,
      "outputs": []
    },
    {
      "cell_type": "markdown",
      "metadata": {
        "id": "2OnqdTrEGGBg"
      },
      "source": [
        "## Heapsort"
      ]
    },
    {
      "cell_type": "markdown",
      "metadata": {
        "id": "6qGRkRN0GDE5"
      },
      "source": [
        "## Quicksort"
      ]
    },
    {
      "cell_type": "markdown",
      "metadata": {
        "id": "Wl5Zhs8lIaZa"
      },
      "source": [
        "# Data Structure"
      ]
    },
    {
      "cell_type": "markdown",
      "metadata": {
        "id": "UCGP4P3QoUB7"
      },
      "source": [
        "## Linked List\n",
        "\n",
        "Geek [link](https://www.geeksforgeeks.org/data-structures/linked-list/singly-linked-list/) covers everything"
      ]
    },
    {
      "cell_type": "markdown",
      "metadata": {
        "id": "HvX9bx3TpA5_"
      },
      "source": [
        "Delete a Linked List"
      ]
    },
    {
      "cell_type": "code",
      "metadata": {
        "id": "hU7TfmeuorD0"
      },
      "source": [
        "# Python3 program to delete all \n",
        "# the nodes of singly linked list \n",
        "\n",
        "# Node class \n",
        "class Node: \n",
        "\n",
        "\t# Function to initialise the node object \n",
        "\tdef __init__(self, data): \n",
        "\t\tself.data = data # Assign data \n",
        "\t\tself.next = None # Initialize next as null \n",
        "\n",
        "\n",
        "# Constructor to initialize the node object \n",
        "class LinkedList: \n",
        "\n",
        "\t# Function to initialize head \n",
        "\tdef __init__(self): \n",
        "\t\tself.head = None\n",
        "\n",
        "\tdef deleteList(self): \n",
        "\t\t\n",
        "\t\t# initialize the current node \n",
        "\t\tcurrent = self.head \n",
        "\t\twhile current: \n",
        "\t\t\tprev = current.next # move next node \n",
        "\t\t\t\n",
        "\t\t\t# delete the current node \n",
        "\t\t\tdel current.data \n",
        "\t\t\t\n",
        "\t\t\t# set current equals prev node \n",
        "\t\t\tcurrent = prev \n",
        "\n",
        "\t# push function to add node in front of llist \n",
        "\tdef push(self, new_data): \n",
        "\n",
        "\t\t# Allocate the Node & \n",
        "\t\t# Put in the data \n",
        "\t\tnew_node = Node(new_data) \n",
        "\t\t\n",
        "\t\t# Make next of new Node as head \n",
        "\t\tnew_node.next = self.head \n",
        "\t\t\n",
        "\t\t# Move the head to point to new Node \n",
        "\t\tself.head = new_node \n",
        "\n",
        "# Use push() to construct below \n",
        "# list 1-> 12-> 1-> 4-> 1 \n",
        "if __name__ == '__main__': \n",
        "\n",
        "\tllist = LinkedList() \n",
        "\tllist.push(1) \n",
        "\tllist.push(4) \n",
        "\tllist.push(1) \n",
        "\tllist.push(12) \n",
        "\tllist.push(1) \n",
        "\n",
        "\n",
        "\tprint(\"Deleting linked list\") \n",
        "\tllist.deleteList() \n",
        "\t\n",
        "\tprint(\"Linked list deleted\") \n"
      ],
      "execution_count": null,
      "outputs": []
    },
    {
      "cell_type": "code",
      "metadata": {
        "id": "-QNKJz7czsX3",
        "colab": {
          "base_uri": "https://localhost:8080/",
          "height": 68
        },
        "outputId": "69b807ab-84c3-4fc6-e65c-515d7f2e8994"
      },
      "source": [
        "# My attempt\n",
        "\n",
        "class Node:\n",
        "    def __init__(self, data):\n",
        "        self.data = data\n",
        "        self.next = None\n",
        "\n",
        "\n",
        "class LinkedList:\n",
        "    def __init__(self):\n",
        "        self.head = None\n",
        "    \n",
        "    def push_node(self, new_data):\n",
        "        new_node = Node(new_data)\n",
        "        new_node.next = self.head\n",
        "        self.head = new_node\n",
        "\n",
        "    def delete_list(self):\n",
        "        \n",
        "        current = self.head\n",
        "        while current:\n",
        "            print(current.data)\n",
        "            reserve = current.next\n",
        "            del current.data\n",
        "            current = reserve\n",
        "\n",
        "llist = LinkedList()\n",
        "llist.push_node(5)\n",
        "llist.push_node(7)\n",
        "llist.push_node(11)\n",
        "llist.delete_list()"
      ],
      "execution_count": null,
      "outputs": [
        {
          "output_type": "stream",
          "text": [
            "11\n",
            "7\n",
            "5\n"
          ],
          "name": "stdout"
        }
      ]
    },
    {
      "cell_type": "markdown",
      "metadata": {
        "id": "jBnjImb4p4_H"
      },
      "source": [
        "### Merge sorted list"
      ]
    },
    {
      "cell_type": "code",
      "metadata": {
        "id": "qD4ac-KRp9hN"
      },
      "source": [
        "# Python3 program to merge two \n",
        "# sorted linked lists in-place. \n",
        "import math \n",
        "\n",
        "class Node: \n",
        "\tdef __init__(self, data): \n",
        "\t\tself.data = data \n",
        "\t\tself.next = None\n",
        "\n",
        "# Function to create newNode in a linkedlist \n",
        "def newNode( key): \n",
        "\ttemp = Node(key) \n",
        "\ttemp.data = key \n",
        "\ttemp.next = None\n",
        "\treturn temp \n",
        "\n",
        "# A utility function to print linked list \n",
        "def printList( node): \n",
        "\twhile (node != None): \n",
        "\t\tprint(node.data, end = \" \") \n",
        "\t\tnode = node.next\n",
        "\n",
        "# Merges two given lists in-place. \n",
        "# This function mainly compares \n",
        "# head nodes and calls mergeUtil() \n",
        "def merge( h1, h2): \n",
        "\tif (h1 == None): \n",
        "\t\treturn h2 \n",
        "\tif (h2 == None): \n",
        "\t\treturn h1 \n",
        "\n",
        "\t# start with the linked list \n",
        "\t# whose head data is the least \n",
        "\tif (h1.data < h2.data): \n",
        "\t\th1.next = merge(h1.next, h2) \n",
        "\t\treturn h1 \n",
        "\t\n",
        "\telse: \n",
        "\t\th2.next = merge(h1, h2.next) \n",
        "\t\treturn h2 \n",
        "\t\n",
        "# Driver Code \n",
        "if __name__=='__main__': \n",
        "\thead1 = newNode(1) \n",
        "\thead1.next = newNode(3) \n",
        "\thead1.next.next = newNode(5) \n",
        "\n",
        "\t# 1.3.5 LinkedList created \n",
        "\thead2 = newNode(0) \n",
        "\thead2.next = newNode(2) \n",
        "\thead2.next.next = newNode(4) \n",
        "\n",
        "\t# 0.2.4 LinkedList created \n",
        "\tmergedhead = merge(head1, head2) \n",
        "\n",
        "\tprintList(mergedhead) \n",
        "\n",
        "# This code is contributed by Srathore \n"
      ],
      "execution_count": null,
      "outputs": []
    },
    {
      "cell_type": "markdown",
      "metadata": {
        "id": "qOFMPwFQ4l2s"
      },
      "source": [
        "Finding loop in the link list"
      ]
    },
    {
      "cell_type": "code",
      "metadata": {
        "id": "-a4xrWAw4oZH",
        "colab": {
          "base_uri": "https://localhost:8080/",
          "height": 34
        },
        "outputId": "548b72d9-f88c-481d-a6f2-a01205c000b6"
      },
      "source": [
        "# Floyd Cycle Finding: solution 3\n",
        "\n",
        "# Node class \n",
        "class Node: \n",
        "\n",
        "\t# Constructor to initialize the node object \n",
        "\tdef __init__(self, data): \n",
        "\t\tself.data = data \n",
        "\t\tself.next = None\n",
        "\n",
        "class LinkedList: \n",
        "\n",
        "\t# Function to initialize head \n",
        "\tdef __init__(self): \n",
        "\t\tself.head = None\n",
        "\n",
        "\t# Function to insert a new node at the beginning \n",
        "\tdef push(self, new_data): \n",
        "\t\tnew_node = Node(new_data) \n",
        "\t\tnew_node.next = self.head \n",
        "\t\tself.head = new_node \n",
        "\n",
        "\t# Utility function to print it the linked LinkedList \n",
        "\tdef printList(self): \n",
        "\t\ttemp = self.head \n",
        "\t\twhile(temp): \n",
        "\t\t\tprint(temp.data) \n",
        "\t\t\ttemp = temp.next\n",
        "\n",
        "\n",
        "\tdef detectLoop(self): \n",
        "\t\tslow_p = self.head \n",
        "\t\tfast_p = self.head \n",
        "\t\twhile  slow_p and fast_p and fast_p.next: \n",
        "\t\t\tslow_p = slow_p.next\n",
        "\t\t\tfast_p = fast_p.next.next\n",
        "\t\t\tif slow_p == fast_p: \n",
        "\t\t\t\treturn True\n",
        "\n",
        "            return False\n",
        "\n",
        "# Driver program for testing \n",
        "llist = LinkedList() \n",
        "llist.push(20) \n",
        "llist.push(4) \n",
        "llist.push(15) \n",
        "llist.push(10) \n",
        "\n",
        "# Create a loop for testing \n",
        "llist.head.next.next.next.next = llist.head \n",
        "if llist.detectLoop(): \n",
        "\t\tprint (\"Found Loop\")\n",
        "else: \n",
        "\t\tprint (\"No Loop\")\n",
        "\n"
      ],
      "execution_count": null,
      "outputs": [
        {
          "output_type": "stream",
          "text": [
            "Found Loop\n"
          ],
          "name": "stdout"
        }
      ]
    },
    {
      "cell_type": "code",
      "metadata": {
        "id": "Lu_3b3A3uclu"
      },
      "source": [
        "if __name__ == '__main__':\n",
        "    import sys\n",
        "    _ = sys.stdin.readline()\n",
        "    pq = PriorityQueue()\n",
        "    for line in sys.stdin:\n",
        "        pq.load_customer(*(int(i) for i in line.strip().split(' ')))\n",
        "    print(pq.process())"
      ],
      "execution_count": null,
      "outputs": []
    },
    {
      "cell_type": "code",
      "metadata": {
        "id": "Spxaru-ElkDZ"
      },
      "source": [
        "def minimumAverage(customers):\n",
        "    #\n",
        "    # Write your code here.\n",
        "    #\n",
        "    N = len(customers)\n",
        "    customers = sorted(customers, key = lambda x: x[0])\n",
        "    customerDict = [{\"IN\":i,\"L\":j,\"OUT\":-1} for i,j in customers]\n",
        "    #print(customerDict)\n",
        "    T = 0\n",
        "    served = 0\n",
        "    while served != N:\n",
        "\n",
        "        L_min = 10**9+1\n",
        "        next_served = -1\n",
        "        for i,c in enumerate(customerDict):\n",
        "            if c[\"OUT\"] == -1:\n",
        "                if c[\"IN\"] <= T:\n",
        "                    if c[\"L\"] < L_min:\n",
        "                        next_served = (i,c[\"L\"])\n",
        "                        L_min = c[\"L\"]\n",
        "        if next_served != -1: \n",
        "            customerDict[next_served[0]][\"OUT\"] = T + next_served[1]\n",
        "            served += 1\n",
        "        if next_served != -1:\n",
        "            T += next_served[1]\n",
        "        else:\n",
        "            T = min([c[\"IN\"] for c in customerDict if c[\"OUT\"]==-1])\n",
        "\n",
        "    print(customerDict)\n",
        "    return int(sum([c[\"OUT\"]-c[\"IN\"] for c in customerDict])/\n",
        "len([c[\"OUT\"]-c[\"IN\"] for c in customerDict]))\n",
        "\n"
      ],
      "execution_count": null,
      "outputs": []
    },
    {
      "cell_type": "code",
      "metadata": {
        "id": "DyYfErpRm286",
        "colab": {
          "base_uri": "https://localhost:8080/",
          "height": 71
        },
        "outputId": "b502e097-5c0f-4600-e0b0-e26657377669"
      },
      "source": [
        "minimumAverage(\n",
        ")"
      ],
      "execution_count": null,
      "outputs": [
        {
          "output_type": "stream",
          "text": [
            "[{'IN': 283280121, 'L': 782916802, 'OUT': 1544882940}, {'IN': 317664929, 'L': 898415172, 'OUT': 3291210757}, {'IN': 951133776, 'L': 376367013, 'OUT': 376367013}, {'IN': 961148050, 'L': 385599125, 'OUT': 761966138}, {'IN': 980913391, 'L': 847912645, 'OUT': 2392795585}]\n"
          ],
          "name": "stdout"
        },
        {
          "output_type": "execute_result",
          "data": {
            "text/plain": [
              "974616433"
            ]
          },
          "metadata": {
            "tags": []
          },
          "execution_count": 3
        }
      ]
    },
    {
      "cell_type": "markdown",
      "metadata": {
        "id": "L-jupxFL5KKV"
      },
      "source": [
        "## Binary Heap"
      ]
    },
    {
      "cell_type": "code",
      "metadata": {
        "id": "cYpfEqGy5PHL"
      },
      "source": [
        "# Binary Heap\n",
        "\n",
        "class BinHeap:\n",
        "    def __init__(self):\n",
        "        self.heapList = [0]\n",
        "        self.currentSize = 0\n",
        "\n",
        "    def minChild(self,i):\n",
        "        if i * 2 + 1 > self.currentSize:\n",
        "            return i * 2\n",
        "        else:\n",
        "            if self.heapList[i*2] < self.heapList[i*2+1]:\n",
        "                return i * 2\n",
        "            else:\n",
        "                return i * 2 + 1\n",
        "        \n",
        "    def percUp(self,i):\n",
        "        while i // 2 > 0:\n",
        "            if self.heapList[i] < self.heapList[i // 2]:\n",
        "                tmp = self.heapList[i // 2]\n",
        "                self.heapList[i // 2] = self.heapList[i]\n",
        "                self.heapList[i] = tmp\n",
        "            i = i // 2\n",
        "        \n",
        "    def percDown(self,i):\n",
        "        while (i * 2) <= self.currentSize:\n",
        "            mc = self.minChild(i)\n",
        "            if self.heapList[i] > self.heapList[mc]:\n",
        "                tmp = self.heapList[i]\n",
        "                self.heapList[i] = self.heapList[mc]\n",
        "                self.heapList[mc] = tmp\n",
        "            i = mc\n",
        "\n",
        "    def insert(self,k):\n",
        "        self.heapList.append(k)\n",
        "        self.currentSize = self.currentSize + 1\n",
        "        self.percUp(self.currentSize)\n",
        "\n",
        "    def delMin(self):\n",
        "        retval = self.heapList[1]\n",
        "        self.heapList[1] = self.heapList[self.currentSize]\n",
        "        self.currentSize = self.currentSize - 1\n",
        "        self.heapList.pop()\n",
        "        self.percDown(1)\n",
        "        return retval"
      ],
      "execution_count": null,
      "outputs": []
    },
    {
      "cell_type": "markdown",
      "metadata": {
        "id": "5izZ2sSUl5IZ"
      },
      "source": [
        "binary heap with key-val with update feature for Dijkstra"
      ]
    },
    {
      "cell_type": "code",
      "metadata": {
        "id": "H3QLvEaol-GZ"
      },
      "source": [
        "import math\n",
        "import os\n",
        "import random\n",
        "import re\n",
        "import sys\n",
        "import heapq   \n",
        "from collections import defaultdict\n",
        "\n",
        "# Binary Heap\n",
        "\n",
        "class BinHeap:\n",
        "    def __init__(self):\n",
        "        self.heapList = [0]\n",
        "        self.currentSize = 0\n",
        "        self.loc = {0:0}\n",
        "        self.val = {0:0}\n",
        "        \n",
        "    def percUp(self,i):\n",
        "        while i // 2 > 0:\n",
        "            if self.val[self.heapList[i]] < self.val[self.heapList[i // 2]]:\n",
        "                self.heapList[i], self.heapList[i // 2] = self.heapList[i // 2], self.heapList[i] \n",
        "                self.loc[self.heapList[i]], self.loc[self.heapList[i//2]] = self.loc[self.heapList[i//2]], self.loc[self.heapList[i]]\n",
        "\n",
        "            i = i // 2\n",
        "            \n",
        "    def insert(self,k,val):\n",
        "        self.val[k] = val\n",
        "        self.heapList.append(k)\n",
        "        self.currentSize = self.currentSize + 1\n",
        "        self.loc[k] = self.currentSize\n",
        "        self.percUp(self.currentSize)\n",
        "\n",
        "    def heapUpdate(self,k,val):\n",
        "        if k in self.loc: #assuming it's smaller than the previous val\n",
        "            self.val[k] = val\n",
        "            self.percUp(self.loc[k]) \n",
        "        else:\n",
        "            self.insert(k,val)\n",
        "\n",
        "    def percDown(self,i):\n",
        "        while (i * 2) <= self.currentSize:\n",
        "            mc = self.minChild(i)\n",
        "            if self.val[self.heapList[i]] > self.val[self.heapList[mc]]:\n",
        "                self.heapList[i], self.heapList[mc] = self.heapList[mc], self.heapList[i]                \n",
        "                self.loc[self.heapList[i]], self.loc[self.heapList[mc]] = self.loc[self.heapList[mc]], self.loc[self.heapList[i]]\n",
        "            i = mc\n",
        "\n",
        "    def minChild(self,i):\n",
        "        if i * 2 + 1 > self.currentSize:\n",
        "            return i * 2\n",
        "        else:\n",
        "            if self.val[self.heapList[i*2]] < self.val[self.heapList[i*2+1]]:\n",
        "                return i * 2\n",
        "            else:\n",
        "                return i * 2 + 1\n",
        "    def delMin(self):\n",
        "        retval = self.heapList[1]\n",
        "        self.heapList[1] = self.heapList[self.currentSize]\n",
        "        self.loc[self.heapList[self.currentSize]] = 1\n",
        "        self.currentSize = self.currentSize - 1\n",
        "        self.heapList.pop()\n",
        "        self.percDown(1)\n",
        "        return retval, self.val[retval]"
      ],
      "execution_count": null,
      "outputs": []
    },
    {
      "cell_type": "code",
      "metadata": {
        "id": "GtBSkuBnwBQl",
        "colab": {
          "base_uri": "https://localhost:8080/",
          "height": 136
        },
        "outputId": "b3ac927c-a7c4-4d1e-8c66-18119eb3480d"
      },
      "source": [
        "B = BinHeap()\n",
        "B.heapUpdate(1,12)\n",
        "B.heapUpdate(2,15)\n",
        "B.heapUpdate(3,10)\n",
        "B.heapUpdate(4,8)\n",
        "B.heapUpdate(5,100)\n",
        "print(B.delMin())\n",
        "print(B.heapList)\n",
        "print(B.delMin())\n",
        "print(B.heapList)\n",
        "B.heapUpdate(6,9)\n",
        "print(B.heapList)\n",
        "B.heapUpdate(5,5)\n",
        "print(B.heapList)\n",
        "print(B.delMin())"
      ],
      "execution_count": null,
      "outputs": [
        {
          "output_type": "stream",
          "text": [
            "(4, 8)\n",
            "[0, 3, 2, 1, 5]\n",
            "(3, 10)\n",
            "[0, 1, 2, 5]\n",
            "[0, 6, 1, 5, 2]\n",
            "[0, 5, 1, 6, 2]\n"
          ],
          "name": "stdout"
        },
        {
          "output_type": "execute_result",
          "data": {
            "text/plain": [
              "(5, 5)"
            ]
          },
          "metadata": {
            "tags": []
          },
          "execution_count": 49
        }
      ]
    },
    {
      "cell_type": "markdown",
      "metadata": {
        "id": "SgZfai5cXN5O"
      },
      "source": [
        "## Binary Search Tree"
      ]
    },
    {
      "cell_type": "code",
      "metadata": {
        "id": "OAriRA52aYyo"
      },
      "source": [
        ""
      ],
      "execution_count": null,
      "outputs": []
    },
    {
      "cell_type": "markdown",
      "metadata": {
        "id": "ZYox31YKlR-6"
      },
      "source": [
        "# Graph Algorithms\n",
        "\n",
        "See all the materials on geeks [here](https://www.geeksforgeeks.org/graph-data-structure-and-algorithms/)\n",
        "\n",
        "Some abreviations and keywords ,<br>\n",
        "DAG: directed acyclic graph\n",
        "\n"
      ]
    },
    {
      "cell_type": "code",
      "metadata": {
        "id": "wowpvft-lT-p"
      },
      "source": [
        ""
      ],
      "execution_count": null,
      "outputs": []
    },
    {
      "cell_type": "markdown",
      "metadata": {
        "id": "DKRw0bITlUZe"
      },
      "source": [
        "## DFS\n",
        "The time complexity and space complexity are both O(E), where E is the number of outcomes."
      ]
    },
    {
      "cell_type": "code",
      "metadata": {
        "id": "REzpCddIlVwu",
        "colab": {
          "base_uri": "https://localhost:8080/"
        },
        "outputId": "596e0fa4-f094-44bb-c978-3be2c454a3c7"
      },
      "source": [
        "# Python3 program to print DFS traversal \n",
        "# from a given given graph \n",
        "from collections import defaultdict \n",
        "\n",
        "# This class represents a directed graph using \n",
        "# adjacency list representation \n",
        "class Graph: \n",
        "\n",
        "\t# Constructor \n",
        "\tdef __init__(self): \n",
        "\n",
        "\t\t# default dictionary to store graph \n",
        "\t\tself.graph = defaultdict(list) \n",
        "\n",
        "\t# function to add an edge to graph \n",
        "\tdef addEdge(self, u, v): \n",
        "\t\tself.graph[u].append(v) \n",
        "\n",
        "\t# A function used by DFS \n",
        "\tdef DFSUtil(self, v, visited): \n",
        "\n",
        "\t\t# Mark the current node as visited \n",
        "\t\t# and print it \n",
        "\t\tvisited[v] = True\n",
        "\t\tprint(v, end = ' ') \n",
        "\n",
        "\t\t# Recur for all the vertices \n",
        "\t\t# adjacent to this vertex \n",
        "\t\tfor i in self.graph[v]: \n",
        "\t\t\tif visited[i] == False: \n",
        "\t\t\t\tself.DFSUtil(i, visited) \n",
        "\n",
        "\t# The function to do DFS traversal. It uses \n",
        "\t# recursive DFSUtil() \n",
        "\tdef DFS(self, v): \n",
        "\n",
        "\t\t# Mark all the vertices as not visited \n",
        "\t\tvisited = [False] * (max(self.graph)+1) \n",
        "\n",
        "\t\t# Call the recursive helper function \n",
        "\t\t# to print DFS traversal \n",
        "\t\tself.DFSUtil(v, visited) \n",
        "\n",
        "# Driver code \n",
        "\n",
        "# Create a sample graph\n",
        "g = Graph() \n",
        "g.addEdge(0, 1) \n",
        "g.addEdge(0, 2) \n",
        "g.addEdge(1, 2) \n",
        "g.addEdge(2, 0) \n",
        "g.addEdge(2, 3) \n",
        "g.addEdge(3, 3) \n",
        "\n",
        "print(\"Following is DFS from (starting from vertex 2)\") \n",
        "g.DFS(2) \n",
        "\n"
      ],
      "execution_count": null,
      "outputs": [
        {
          "output_type": "stream",
          "text": [
            "Following is DFS from (starting from vertex 2)\n",
            "2 0 1 3 "
          ],
          "name": "stdout"
        }
      ]
    },
    {
      "cell_type": "markdown",
      "metadata": {
        "id": "Iy_EdU059ZY4"
      },
      "source": [
        "### is cyclic for directed?\n",
        "Elements of programming interviews has another solution"
      ]
    },
    {
      "cell_type": "code",
      "metadata": {
        "id": "EkKSUcIW-AQp"
      },
      "source": [
        "# Python program to detect cycle \n",
        "# in a graph \n",
        "\n",
        "from collections import defaultdict \n",
        "\n",
        "class Graph(): \n",
        "\tdef __init__(self,vertices): \n",
        "\t\tself.graph = defaultdict(list) \n",
        "\t\tself.V = vertices \n",
        "\n",
        "\tdef addEdge(self,u,v): \n",
        "\t\tself.graph[u].append(v) \n",
        "\n",
        "\tdef isCyclicUtil(self, v, visited, recStack): \n",
        "\n",
        "\t\t# Mark current node as visited and \n",
        "\t\t# adds to recursion stack \n",
        "\t\tvisited[v] = True\n",
        "\t\trecStack[v] = True\n",
        "\n",
        "\t\t# Recur for all neighbours \n",
        "\t\t# if any neighbour is visited and in \n",
        "\t\t# recStack then graph is cyclic \n",
        "\t\tfor neighbour in self.graph[v]: \n",
        "\t\t\tif visited[neighbour] == False: \n",
        "\t\t\t\tif self.isCyclicUtil(neighbour, visited, recStack) == True: \n",
        "\t\t\t\t\treturn True\n",
        "\t\t\telif recStack[neighbour] == True: \n",
        "\t\t\t\treturn True\n",
        "\n",
        "\t\t# The node needs to be poped from \n",
        "\t\t# recursion stack before function ends \n",
        "\t\trecStack[v] = False\n",
        "\t\treturn False\n",
        "\n",
        "\t# Returns true if graph is cyclic else false \n",
        "\tdef isCyclic(self): \n",
        "\t\tvisited = [False] * self.V \n",
        "\t\trecStack = [False] * self.V \n",
        "\t\tfor node in range(self.V): \n",
        "\t\t\tif visited[node] == False: \n",
        "\t\t\t\tif self.isCyclicUtil(node,visited,recStack) == True: \n",
        "\t\t\t\t\treturn True\n",
        "\t\treturn False\n",
        "\n",
        "g = Graph(4) \n",
        "g.addEdge(0, 1) \n",
        "g.addEdge(0, 2) \n",
        "g.addEdge(1, 2) \n",
        "g.addEdge(2, 0) \n",
        "g.addEdge(2, 3) \n",
        "g.addEdge(3, 3) \n",
        "\n",
        "if g.isCyclic() == 1: \n",
        "\tprint \"Graph has a cycle\"\n",
        "else: \n",
        "\tprint \"Graph has no cycle\"\n",
        "\n"
      ],
      "execution_count": null,
      "outputs": []
    },
    {
      "cell_type": "markdown",
      "metadata": {
        "id": "SPqSMZHXcmHr"
      },
      "source": [
        "### is cyclic for undirected?"
      ]
    },
    {
      "cell_type": "code",
      "metadata": {
        "id": "PPy7bQ1LlV0A",
        "colab": {
          "base_uri": "https://localhost:8080/"
        },
        "outputId": "d847d66c-67bf-4e58-faf1-2ce30d24af8d"
      },
      "source": [
        "# Python Program to detect cycle in an undirected graph \n",
        "from collections import defaultdict \n",
        "\n",
        "class Graph: \n",
        "\n",
        "\tdef __init__(self,vertices): \n",
        "\t\n",
        "\t\t# No. of vertices \n",
        "\t\tself.V= vertices \n",
        "\t\t\n",
        "\t\t# Default dictionary to store graph \n",
        "\t\tself.graph = defaultdict(list) \n",
        "\n",
        "\t# Function to add an edge to graph \n",
        "\tdef addEdge(self,v,u): \n",
        "\t\t\n",
        "\t\tself.graph[v].append(u) \n",
        "\t\tself.graph[u].append(v) \n",
        "\n",
        "\t# A recursive function that uses \n",
        "\t# visited[] and parent to detect \n",
        "\t# cycle in subgraph reachable from vertex v. \n",
        "\tdef isCyclicUtil(self, v, visited, parent): \n",
        "\n",
        "\t\t# Mark the current node as visited \n",
        "\t\tvisited[v]= True\n",
        "\n",
        "\t\t# Recur for all the vertices \n",
        "\t\t# adjacent to this vertex \n",
        "\t\tfor i in self.graph[v]: \n",
        "\t\t\t\n",
        "\t\t\t# If the node is not \n",
        "\t\t\t# visited then recurse on it \n",
        "\t\t\tif visited[i] == False : \n",
        "\t\t\t\tif(self.isCyclicUtil(i,visited,v)): \n",
        "\t\t\t\t\treturn True\n",
        "            # If an adjacent vertex is  \n",
        "            # visited and not parent  \n",
        "            # of current vertex, \n",
        "            # then there is a cycle \n",
        "\t\t\telif parent != i: \n",
        "\t\t\t\treturn True\n",
        "\t\t\n",
        "\t\treturn False\n",
        "\t\t\n",
        "\n",
        "\t# Returns true if the graph contains a cycle, else false. \n",
        "\tdef isCyclic(self): \n",
        "\t\t\n",
        "\t\t# Mark all the vertices as not visited \n",
        "\t\tvisited =[False]*(self.V) \n",
        "\t\t\n",
        "\t\t# Call the recursive helper \n",
        "\t\t# function to detect cycle in different \n",
        "\t\t# DFS trees \n",
        "\t\tfor i in range(self.V): \n",
        "\t\t\t\n",
        "\t\t\t# Don't recur for u if it \n",
        "\t\t\t# is already visited \n",
        "\t\t\tif visited[i] == False: \n",
        "\t\t\t\tif(self.isCyclicUtil \n",
        "\t\t\t\t\t(i,visited,-1)) == True: \n",
        "\t\t\t\t\treturn True\n",
        "\t\t\n",
        "\t\treturn False\n",
        "\n",
        "# Create a graph given in the above diagram \n",
        "g = Graph(5) \n",
        "g.addEdge(1, 0) \n",
        "g.addEdge(1, 2) \n",
        "g.addEdge(2, 0) \n",
        "g.addEdge(0, 3) \n",
        "g.addEdge(3, 4) \n",
        "\n",
        "if g.isCyclic(): \n",
        "\tprint(\"Graph contains cycle\")\n",
        "else : \n",
        "\tprint(\"Graph does not contain cycle\")\n",
        " \n",
        "\n",
        "g1 = Graph(3) \n",
        "g1.addEdge(0,1) \n",
        "g1.addEdge(1,2) \n",
        "\n",
        "if g1.isCyclic(): \n",
        "\tprint(\"Graph contains cycle\")\n",
        "else : \n",
        "\tprint(\"Graph does not contain cycle\")\n",
        "\n"
      ],
      "execution_count": null,
      "outputs": [
        {
          "output_type": "stream",
          "text": [
            "Graph contains cycle\n",
            "Graph does not contain cycle\n"
          ],
          "name": "stdout"
        }
      ]
    },
    {
      "cell_type": "markdown",
      "metadata": {
        "id": "42pnXcsc5pb4"
      },
      "source": [
        "## BSF\n",
        "The original algorithm:"
      ]
    },
    {
      "cell_type": "code",
      "metadata": {
        "id": "f5VYgh-5lV3m",
        "colab": {
          "base_uri": "https://localhost:8080/"
        },
        "outputId": "d3c0cc7f-ea14-4cb3-8960-b335cc486b67"
      },
      "source": [
        "from collections import deque\n",
        "\n",
        "def bfs(g,start):\n",
        "    N = len(g)\n",
        "    print(N)\n",
        "\n",
        "    color = ['white' for node in range(N)]\n",
        "    parent = [None for node in range(N)]\n",
        "    distance = [None for node in range(N)]\n",
        "\n",
        "    distance[start] = 0\n",
        "    color[start] = 'grey'\n",
        "\n",
        "    Q = deque()\n",
        "    Q.append(start)\n",
        "    \n",
        "    while Q:\n",
        "        node = Q.popleft()\n",
        "        for nbr in g[node]:\n",
        "            if color[nbr] == 'white':\n",
        "                color[nbr] = 'grey'\n",
        "                parent[nbr] = node\n",
        "                distance[nbr] = distance[node] + 1\n",
        "                Q.append(nbr)\n",
        "        color[node] = 'black'\n",
        "\n",
        "    print(parent)\n",
        "    print(distance)\n",
        "\n",
        "\n",
        "Graph = {0:[1,2,3],1:[0,4],2:[0,3],3:[0,2],4:[1,5],5:[4]}\n",
        "bfs(Graph,0)"
      ],
      "execution_count": null,
      "outputs": [
        {
          "output_type": "stream",
          "text": [
            "6\n",
            "[None, 0, 0, 0, 1, 4]\n",
            "[0, 1, 1, 1, 2, 3]\n"
          ],
          "name": "stdout"
        }
      ]
    },
    {
      "cell_type": "markdown",
      "metadata": {
        "id": "zbpJ9SqIQC5m"
      },
      "source": [
        "## Minimum Spanning Tree"
      ]
    },
    {
      "cell_type": "markdown",
      "metadata": {
        "id": "gvfKdB9BQKba"
      },
      "source": [
        "### Kruskal’s algorithm\n",
        "\n",
        "The following algorithm is [from](https://www.programiz.com/dsa/kruskal-algorithm)"
      ]
    },
    {
      "cell_type": "code",
      "metadata": {
        "id": "OMuTbGf6QCVv",
        "colab": {
          "base_uri": "https://localhost:8080/",
          "height": 102
        },
        "outputId": "b6871b6b-6eb1-4620-8924-323a288b40a5"
      },
      "source": [
        "# Kruskal's algorithm in Python\n",
        "\n",
        "\n",
        "class Graph:\n",
        "    def __init__(self, vertices):\n",
        "        self.V = vertices\n",
        "        self.graph = []\n",
        "\n",
        "    def add_edge(self, u, v, w):\n",
        "        self.graph.append([u, v, w])\n",
        "\n",
        "    # Search function\n",
        "\n",
        "    def find(self, parent, i):\n",
        "        if parent[i] == i:\n",
        "            return i\n",
        "        return self.find(parent, parent[i])\n",
        "\n",
        "    def apply_union(self, parent, rank, x, y):\n",
        "        xroot = self.find(parent, x)\n",
        "        yroot = self.find(parent, y)\n",
        "        if rank[xroot] < rank[yroot]:\n",
        "            parent[xroot] = yroot\n",
        "        elif rank[xroot] > rank[yroot]:\n",
        "            parent[yroot] = xroot\n",
        "        else:\n",
        "            parent[yroot] = xroot\n",
        "            rank[xroot] += 1\n",
        "\n",
        "    #  Applying Kruskal algorithm\n",
        "    def kruskal_algo(self):\n",
        "        result = []\n",
        "        i, e = 0, 0\n",
        "        self.graph = sorted(self.graph, key=lambda item: item[2])\n",
        "        parent = []\n",
        "        rank = []\n",
        "        for node in range(self.V):\n",
        "            parent.append(node)\n",
        "            rank.append(0)\n",
        "        while e < self.V - 1:\n",
        "            u, v, w = self.graph[i]\n",
        "            i = i + 1\n",
        "            x = self.find(parent, u)\n",
        "            y = self.find(parent, v)\n",
        "            if x != y:\n",
        "                e = e + 1\n",
        "                result.append([u, v, w])\n",
        "                self.apply_union(parent, rank, x, y)\n",
        "        for u, v, weight in result:\n",
        "            print(\"%d - %d: %d\" % (u, v, weight))\n",
        "\n",
        "\n",
        "g = Graph(6)\n",
        "g.add_edge(0, 1, 4)\n",
        "g.add_edge(0, 2, 4)\n",
        "g.add_edge(1, 2, 2)\n",
        "g.add_edge(1, 0, 4)\n",
        "g.add_edge(2, 0, 4)\n",
        "g.add_edge(2, 1, 2)\n",
        "g.add_edge(2, 3, 3)\n",
        "g.add_edge(2, 5, 2)\n",
        "g.add_edge(2, 4, 4)\n",
        "g.add_edge(3, 2, 3)\n",
        "g.add_edge(3, 4, 3)\n",
        "g.add_edge(4, 2, 4)\n",
        "g.add_edge(4, 3, 3)\n",
        "g.add_edge(5, 2, 2)\n",
        "g.add_edge(5, 4, 3)\n",
        "g.kruskal_algo()"
      ],
      "execution_count": null,
      "outputs": [
        {
          "output_type": "stream",
          "text": [
            "1 - 2: 2\n",
            "2 - 5: 2\n",
            "2 - 3: 3\n",
            "3 - 4: 3\n",
            "0 - 1: 4\n"
          ],
          "name": "stdout"
        }
      ]
    },
    {
      "cell_type": "markdown",
      "metadata": {
        "id": "Xnh5YX-1QNnX"
      },
      "source": [
        "### Prim’s algorithm\n",
        "\n",
        "The following algorithm is [from](https://bradfieldcs.com/algos/graphs/prims-spanning-tree-algorithm/)"
      ]
    },
    {
      "cell_type": "code",
      "metadata": {
        "id": "yuoMEL_wQPlj",
        "colab": {
          "base_uri": "https://localhost:8080/",
          "height": 34
        },
        "outputId": "b3923ad8-7df7-4f17-859a-de0e8ea791de"
      },
      "source": [
        "from collections import defaultdict\n",
        "import heapq\n",
        "\n",
        "\n",
        "def create_spanning_tree(graph, starting_vertex):\n",
        "    mst = defaultdict(set)\n",
        "    visited = set([starting_vertex])\n",
        "    edges = [(cost, starting_vertex, to)\n",
        "        for to, cost in graph[starting_vertex].items()]\n",
        "    heapq.heapify(edges)\n",
        "\n",
        "    while edges:\n",
        "        cost, frm, to = heapq.heappop(edges)\n",
        "        if to not in visited:\n",
        "            visited.add(to)\n",
        "            mst[frm].add(to)\n",
        "            for to_next, cost in graph[to].items():\n",
        "                if to_next not in visited:\n",
        "                    heapq.heappush(edges, (cost, to, to_next))\n",
        "\n",
        "    return mst\n",
        "\n",
        "example_graph = {\n",
        "    'A': {'B': 2, 'C': 3},\n",
        "    'B': {'A': 2, 'C': 1, 'D': 1, 'E': 4},\n",
        "    'C': {'A': 3, 'B': 1, 'F': 5},\n",
        "    'D': {'B': 1, 'E': 1},\n",
        "    'E': {'B': 4, 'D': 1, 'F': 1},\n",
        "    'F': {'C': 5, 'E': 1, 'G': 1},\n",
        "    'G': {'F': 1},\n",
        "}\n",
        "\n",
        "dict(create_spanning_tree(example_graph, 'A'))\n",
        "\n",
        "# {'A': set(['B']),\n",
        "#  'B': set(['C', 'D']),\n",
        "#  'D': set(['E']),\n",
        "#  'E': set(['F']),\n",
        "#  'F': set(['G'])}"
      ],
      "execution_count": null,
      "outputs": [
        {
          "output_type": "execute_result",
          "data": {
            "text/plain": [
              "{'A': {'B'}, 'B': {'C', 'D'}, 'D': {'E'}, 'E': {'F'}, 'F': {'G'}}"
            ]
          },
          "metadata": {
            "tags": []
          },
          "execution_count": 12
        }
      ]
    },
    {
      "cell_type": "code",
      "metadata": {
        "id": "AemJvEZxRpEB"
      },
      "source": [
        "# an older code I had from the time working on codefight\n",
        "# A Python program for Prim's Minimum Spanning Tree (MST) algorithm. \n",
        "# The program is for adjacency matrix representation of the graph \n",
        "\n",
        "import sys # Library for INT_MAX \n",
        "\n",
        "class Graph(): \n",
        "\n",
        "\tdef __init__(self, vertices): \n",
        "\t\tself.V = vertices \n",
        "\t\tself.graph = [[0 for column in range(vertices)] \n",
        "\t\t\t\t\tfor row in range(vertices)] \n",
        "\n",
        "\t# A utility function to print the constructed MST stored in parent[] \n",
        "\tdef printMST(self, parent): \n",
        "\t\tprint (\"Edge \\tWeight\")\n",
        "\t\tfor i in range(1,self.V): \n",
        "\t\t\tprint (parent[i],\"-\",i,\"\\t\",self.graph[i][ parent[i] ] )\n",
        "\n",
        "\t# A utility function to find the vertex with \n",
        "\t# minimum distance value, from the set of vertices \n",
        "\t# not yet included in shortest path tree \n",
        "\tdef minKey(self, key, mstSet): \n",
        "\n",
        "\t\t# Initilaize min value \n",
        "\t\tmin = float('inf')\n",
        "\n",
        "\t\tfor v in range(self.V): \n",
        "\t\t\tif key[v] < min and mstSet[v] == False: \n",
        "\t\t\t\tmin = key[v] \n",
        "\t\t\t\tmin_index = v \n",
        "\n",
        "\t\treturn min_index \n",
        "\n",
        "\t# Function to construct and print MST for a graph \n",
        "\t# represented using adjacency matrix representation \n",
        "\tdef primMST(self): \n",
        "\n",
        "\t\t#Key values used to pick minimum weight edge in cut \n",
        "\t\tkey = [float('inf')] * self.V \n",
        "\t\tparent = [None] * self.V # Array to store constructed MST \n",
        "\t\t# Make key 0 so that this vertex is picked as first vertex \n",
        "\t\tkey[0] = 0\n",
        "\t\tmstSet = [False] * self.V \n",
        "\n",
        "\t\tparent[0] = -1 # First node is always the root of \n",
        "\n",
        "\t\tfor cout in range(self.V): \n",
        "\n",
        "\t\t\t# Pick the minimum distance vertex from \n",
        "\t\t\t# the set of vertices not yet processed. \n",
        "\t\t\t# u is always equal to src in first iteration \n",
        "\t\t\tu = self.minKey(key, mstSet) \n",
        "\n",
        "\t\t\t# Put the minimum distance vertex in \n",
        "\t\t\t# the shortest path tree \n",
        "\t\t\tmstSet[u] = True\n",
        "\n",
        "\t\t\t# Update dist value of the adjacent vertices \n",
        "\t\t\t# of the picked vertex only if the current \n",
        "\t\t\t# distance is greater than new distance and \n",
        "\t\t\t# the vertex in not in the shotest path tree \n",
        "\t\t\tfor v in range(self.V): \n",
        "\t\t\t\t# graph[u][v] is non zero only for adjacent vertices of m \n",
        "\t\t\t\t# mstSet[v] is false for vertices not yet included in MST \n",
        "\t\t\t\t# Update the key only if graph[u][v] is smaller than key[v] \n",
        "\t\t\t\tif self.graph[u][v] > 0 and mstSet[v] == False and key[v] > self.graph[u][v]: \n",
        "\t\t\t\t\t\tkey[v] = self.graph[u][v] \n",
        "\t\t\t\t\t\tparent[v] = u \n",
        "\n",
        "\t\tself.printMST(parent) \n",
        "\n",
        "g = Graph(5) \n",
        "g.graph = [ [0, 2, 0, 6, 0], \n",
        "\t\t\t[2, 0, 3, 8, 5], \n",
        "\t\t\t[0, 3, 0, 0, 7], \n",
        "\t\t\t[6, 8, 0, 0, 9], \n",
        "\t\t\t[0, 5, 7, 9, 0]] \n",
        "\n",
        "g.primMST()\n",
        "\n",
        "# Contributed by Divyanshu Mehta \n"
      ],
      "execution_count": null,
      "outputs": []
    },
    {
      "cell_type": "markdown",
      "metadata": {
        "id": "41wsglufWQmF"
      },
      "source": [
        "## Single-source shortest path"
      ]
    },
    {
      "cell_type": "markdown",
      "metadata": {
        "id": "d-oFASV3WZed"
      },
      "source": [
        "### Dijkstra Algorithm\n",
        "Dijkstra is an algorithm for weighted graphs. BFS works for unweighted graphs\n",
        "Another algorithm of O(v^2) on [geek](https://www.geeksforgeeks.org/python-program-for-dijkstras-shortest-path-algorithm-greedy-algo-7/)\n",
        "\n",
        "I don't know why if we use the queue instead of a heap the algorithm does not work, it seems it works but is so slow."
      ]
    },
    {
      "cell_type": "code",
      "metadata": {
        "id": "iI8O4fSYWcUI",
        "colab": {
          "base_uri": "https://localhost:8080/",
          "height": 34
        },
        "outputId": "010b4fdd-5706-488f-9044-023d84ca3209"
      },
      "source": [
        "import heapq\n",
        "\n",
        "\n",
        "def calculate_distances(graph, starting_vertex):\n",
        "    distances = {vertex: float('infinity') for vertex in graph}\n",
        "    distances[starting_vertex] = 0\n",
        "\n",
        "    pq = [(0, starting_vertex)]\n",
        "    while len(pq) > 0:\n",
        "        current_distance, current_vertex = heapq.heappop(pq)\n",
        "\n",
        "        # Nodes can get added to the priority queue multiple times. We only\n",
        "        # process a vertex the first time we remove it from the priority queue.\n",
        "        if current_distance > distances[current_vertex]:\n",
        "            continue\n",
        "\n",
        "        for neighbor, weight in graph[current_vertex].items():\n",
        "            distance = current_distance + weight\n",
        "\n",
        "            # Only consider this new path if it's better than any path we've\n",
        "            # already found.\n",
        "            if distance < distances[neighbor]:\n",
        "                distances[neighbor] = distance\n",
        "                heapq.heappush(pq, (distance, neighbor))\n",
        "\n",
        "    return distances\n",
        "\n",
        "\n",
        "example_graph = {\n",
        "    'U': {'V': 2, 'W': 5, 'X': 1},\n",
        "    'V': {'U': 2, 'X': 2, 'W': 3},\n",
        "    'W': {'V': 3, 'U': 5, 'X': 3, 'Y': 1, 'Z': 5},\n",
        "    'X': {'U': 1, 'V': 2, 'W': 3, 'Y': 1},\n",
        "    'Y': {'X': 1, 'W': 1, 'Z': 1},\n",
        "    'Z': {'W': 5, 'Y': 1},\n",
        "}\n",
        "print(calculate_distances(example_graph, 'X'))\n",
        "# => {'U': 1, 'W': 2, 'V': 2, 'Y': 1, 'X': 0, 'Z': 2}"
      ],
      "execution_count": null,
      "outputs": [
        {
          "output_type": "stream",
          "text": [
            "{'U': 1, 'V': 2, 'W': 2, 'X': 0, 'Y': 1, 'Z': 2}\n"
          ],
          "name": "stdout"
        }
      ]
    },
    {
      "cell_type": "markdown",
      "metadata": {
        "id": "GKkoQnVB6i5m"
      },
      "source": [
        "My implementation \n",
        "See [this](https://stackoverflow.com/questions/9255620/why-does-dijkstras-algorithm-use-decrease-key) to compare different appraoches. This algorithm is for weighted graph "
      ]
    },
    {
      "cell_type": "code",
      "metadata": {
        "id": "LGEF6fezo4_I",
        "colab": {
          "base_uri": "https://localhost:8080/",
          "height": 34
        },
        "outputId": "899a5cfc-4312-4c8a-fdaf-cb45076ce677"
      },
      "source": [
        "# another efficient way to do that\n",
        "from collections import defaultdict\n",
        "\n",
        "class BinHeap:\n",
        "    def __init__(self):\n",
        "        self.heapList = [0]\n",
        "        self.currentSize = 0\n",
        "        self.loc = {0:0}\n",
        "        self.val = {0:0}\n",
        "        \n",
        "    def percUp(self,i):\n",
        "        while i // 2 > 0:\n",
        "            if self.val[self.heapList[i]] < self.val[self.heapList[i // 2]]:\n",
        "                self.heapList[i], self.heapList[i // 2] = self.heapList[i // 2], self.heapList[i] \n",
        "                self.loc[self.heapList[i]], self.loc[self.heapList[i//2]] = self.loc[self.heapList[i//2]], self.loc[self.heapList[i]]\n",
        "\n",
        "            i = i // 2\n",
        "            \n",
        "    def insert(self,k,val):\n",
        "        self.val[k] = val\n",
        "        self.heapList.append(k)\n",
        "        self.currentSize = self.currentSize + 1\n",
        "        self.loc[k] = self.currentSize\n",
        "        self.percUp(self.currentSize)\n",
        "\n",
        "    def heapUpdate(self,k,val):\n",
        "        if k in self.loc: \n",
        "            self.val[k] = val\n",
        "            self.percUp(self.loc[k]) \n",
        "        else:\n",
        "            self.insert(k,val)\n",
        "\n",
        "    def percDown(self,i):\n",
        "        while (i * 2) <= self.currentSize:\n",
        "            mc = self.minChild(i)\n",
        "            if self.val[self.heapList[i]] > self.val[self.heapList[mc]]:\n",
        "                self.heapList[i], self.heapList[mc] = self.heapList[mc], self.heapList[i]                \n",
        "                self.loc[self.heapList[i]], self.loc[self.heapList[mc]] = self.loc[self.heapList[mc]], self.loc[self.heapList[i]]\n",
        "            i = mc\n",
        "\n",
        "    def minChild(self,i):\n",
        "        if i * 2 + 1 > self.currentSize:\n",
        "            return i * 2\n",
        "        else:\n",
        "            if self.val[self.heapList[i*2]] < self.val[self.heapList[i*2+1]]:\n",
        "                return i * 2\n",
        "            else:\n",
        "                return i * 2 + 1\n",
        "    def delMin(self):\n",
        "        retval = self.heapList[1]\n",
        "        self.heapList[1] = self.heapList[self.currentSize]\n",
        "        self.loc[self.heapList[self.currentSize]] = 1\n",
        "        self.currentSize = self.currentSize - 1\n",
        "        self.heapList.pop()\n",
        "        self.percDown(1)\n",
        "        return retval, self.val[retval]\n",
        "\n",
        "def shortestReach(n, edges, s):\n",
        "    distance = [float('infinity') for node in range(n+1)]\n",
        "    eList = defaultdict(dict)\n",
        "\n",
        "    for v1,v2,w in edges:\n",
        "        if v1 == v2:\n",
        "            continue\n",
        "        if v1 in eList and v2 in eList[v1]:\n",
        "            if w < eList[v1][v2]:\n",
        "                eList[v1][v2] = w\n",
        "                eList[v2][v1] = w\n",
        "        else:\n",
        "            eList[v1].update({v2:w})\n",
        "            eList[v2].update({v1:w})\n",
        "    bh = BinHeap()\n",
        "    bh.heapUpdate(s,0)\n",
        "    distance[s] = 0\n",
        "\n",
        "    while bh.currentSize > 0:\n",
        "\n",
        "        current_node, current_distance = bh.delMin()\n",
        "\n",
        "        if current_distance > distance[current_node]:\n",
        "            continue\n",
        "        \n",
        "        for nbr in eList[current_node]:\n",
        "            nbr_distance = current_distance + eList[current_node][nbr]\n",
        "            if nbr_distance < distance[nbr]:\n",
        "                distance[nbr] = nbr_distance\n",
        "                bh.heapUpdate(nbr, nbr_distance)\n",
        "    \n",
        "    return [d if d != float('infinity') else -1 for i,d in enumerate(distance) if i not in [0,s]]"
      ],
      "execution_count": null,
      "outputs": [
        {
          "output_type": "execute_result",
          "data": {
            "text/plain": [
              "{3}"
            ]
          },
          "metadata": {
            "tags": []
          },
          "execution_count": 23
        }
      ]
    },
    {
      "cell_type": "markdown",
      "metadata": {
        "id": "OzOIhT5j5u6r"
      },
      "source": [
        "# Dynamic Programming"
      ]
    },
    {
      "cell_type": "markdown",
      "metadata": {
        "id": "WTQwiSkW5xGn"
      },
      "source": [
        "## Longest common subsequence"
      ]
    },
    {
      "cell_type": "markdown",
      "metadata": {
        "id": "DUMw50pU50sX"
      },
      "source": [
        "## Count common subsequence\n",
        "Geek [link](https://www.geeksforgeeks.org/count-common-subsequence-in-two-strings/)\n"
      ]
    },
    {
      "cell_type": "markdown",
      "metadata": {
        "id": "kxZFGIrPG98l"
      },
      "source": [
        "## Optimal Binary Search Tree\n",
        "\n",
        "Geek [link](https://www.geeksforgeeks.org/optimal-binary-search-tree-dp-24/)"
      ]
    },
    {
      "cell_type": "code",
      "metadata": {
        "id": "rIS5y2CDlV_S"
      },
      "source": [
        ""
      ],
      "execution_count": null,
      "outputs": []
    }
  ]
}