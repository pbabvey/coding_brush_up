{
  "nbformat": 4,
  "nbformat_minor": 0,
  "metadata": {
    "colab": {
      "name": "TensorFlow_all_about.ipynb",
      "provenance": [],
      "toc_visible": true,
      "machine_shape": "hm",
      "mount_file_id": "191m5LUuwHbJaY5M_Bz9SpyIrfNCbfnWi",
      "authorship_tag": "ABX9TyN0SKo35gePJK1bYkYG6j+7",
      "include_colab_link": true
    },
    "kernelspec": {
      "name": "python3",
      "display_name": "Python 3"
    },
    "accelerator": "GPU"
  },
  "cells": [
    {
      "cell_type": "markdown",
      "metadata": {
        "id": "view-in-github",
        "colab_type": "text"
      },
      "source": [
        "<a href=\"https://colab.research.google.com/github/pbabvey/coding_brush_up/blob/master/TensorFlow_all_about.ipynb\" target=\"_parent\"><img src=\"https://colab.research.google.com/assets/colab-badge.svg\" alt=\"Open In Colab\"/></a>"
      ]
    },
    {
      "cell_type": "markdown",
      "metadata": {
        "id": "QkxYb3WJMyeR"
      },
      "source": [
        "# Algabraic transformations"
      ]
    },
    {
      "cell_type": "markdown",
      "metadata": {
        "id": "zt1sLNCZ0t2I"
      },
      "source": [
        "# Linear Algebra using TF"
      ]
    },
    {
      "cell_type": "markdown",
      "metadata": {
        "id": "VNXmGQyYNekA"
      },
      "source": [
        "Lot's of useful information:\n",
        "https://biswajitsahoo1111.github.io/post/doing-linear-algebra-using-tensorflow-2/ <br>\n",
        "also the content are available in a Colab Notebook\n",
        "I'm adding to it from other sources"
      ]
    },
    {
      "cell_type": "code",
      "metadata": {
        "colab": {
          "base_uri": "https://localhost:8080/"
        },
        "id": "oT7tE2BJ0_xE",
        "outputId": "05f38af7-403f-4ade-a087-b866653ee483"
      },
      "source": [
        "import tensorflow as tf\n",
        "print(tf.__version__)"
      ],
      "execution_count": null,
      "outputs": [
        {
          "output_type": "stream",
          "name": "stdout",
          "text": [
            "2.6.0\n"
          ]
        }
      ]
    },
    {
      "cell_type": "code",
      "metadata": {
        "colab": {
          "base_uri": "https://localhost:8080/"
        },
        "id": "1Lq8W39c4N2y",
        "outputId": "8935ae6b-b5a6-40e3-e244-259143abb595"
      },
      "source": [
        "a = tf.constant(5.0)\n",
        "print(a)\n",
        "print(a.numpy())"
      ],
      "execution_count": null,
      "outputs": [
        {
          "output_type": "stream",
          "name": "stdout",
          "text": [
            "tf.Tensor(5.0, shape=(), dtype=float32)\n",
            "5.0\n"
          ]
        }
      ]
    },
    {
      "cell_type": "code",
      "metadata": {
        "colab": {
          "base_uri": "https://localhost:8080/"
        },
        "id": "IEXrQlL64keK",
        "outputId": "60176a76-5da7-4cb3-cc9b-687a147a26df"
      },
      "source": [
        "a = tf.constant([1, 3, 7, 9]) \n",
        "print(a,'\\n')\n",
        "a = tf.constant([[1,2,3,4], [5,6,7,8]])\n",
        "print(a,'\\n') \n",
        "a = tf.constant([1,2,3,4,5,6,7,8.0], shape = (2,4))\n",
        "print(a,'\\n')\n",
        "a = tf.constant(tf.range(1,13), shape = (2,3,2))\n",
        "print(a,'\\n')"
      ],
      "execution_count": null,
      "outputs": [
        {
          "output_type": "stream",
          "name": "stdout",
          "text": [
            "tf.Tensor([1 3 7 9], shape=(4,), dtype=int32) \n",
            "\n",
            "tf.Tensor(\n",
            "[[1 2 3 4]\n",
            " [5 6 7 8]], shape=(2, 4), dtype=int32) \n",
            "\n",
            "tf.Tensor(\n",
            "[[1. 2. 3. 4.]\n",
            " [5. 6. 7. 8.]], shape=(2, 4), dtype=float32) \n",
            "\n",
            "tf.Tensor(\n",
            "[[[ 1  2]\n",
            "  [ 3  4]\n",
            "  [ 5  6]]\n",
            "\n",
            " [[ 7  8]\n",
            "  [ 9 10]\n",
            "  [11 12]]], shape=(2, 3, 2), dtype=int32) \n",
            "\n"
          ]
        }
      ]
    },
    {
      "cell_type": "code",
      "metadata": {
        "colab": {
          "base_uri": "https://localhost:8080/"
        },
        "id": "Xd46rgs9naOy",
        "outputId": "dae8a6a4-cd6c-499c-cdcb-0a62ac6e17d4"
      },
      "source": [
        "import tensorflow as tf\n",
        "\n",
        "b = tf.constant([1.,2,3])\n",
        "x = b * 10\n",
        "y = x + b\n",
        "print(y)\n",
        "\n"
      ],
      "execution_count": null,
      "outputs": [
        {
          "output_type": "stream",
          "name": "stdout",
          "text": [
            "tf.Tensor([11. 22. 33.], shape=(3,), dtype=float32)\n"
          ]
        }
      ]
    },
    {
      "cell_type": "markdown",
      "metadata": {
        "id": "29N6z1IP3SoP"
      },
      "source": [
        "\n",
        "\n",
        "### Creating a sequence of numbers\n",
        "\n",
        "There are two ways to generate sequence of numbers in `Tensorflow`. Functions `tf.range` and `tf.linspace` can be used for that purpose. Sequences generated by these functions are equally spaced."
      ]
    },
    {
      "cell_type": "code",
      "metadata": {
        "colab": {
          "base_uri": "https://localhost:8080/"
        },
        "id": "tikFdTMZ5Py6",
        "outputId": "94f21a63-db00-4060-83df-a7e97f8f8bb2"
      },
      "source": [
        "seq = tf.range(start = 1,limit = 10, delta = 1)\n",
        "print(seq.numpy())\n",
        "seq = tf.range(start = 1, limit = 9, delta = 1.5)\n",
        "print(seq.numpy())"
      ],
      "execution_count": null,
      "outputs": [
        {
          "output_type": "stream",
          "text": [
            "[1 2 3 4 5 6 7 8 9]\n",
            "[1.  2.5 4.  5.5 7.  8.5]\n"
          ],
          "name": "stdout"
        }
      ]
    },
    {
      "cell_type": "code",
      "metadata": {
        "colab": {
          "base_uri": "https://localhost:8080/"
        },
        "id": "yEl7Mfaq5P4n",
        "outputId": "3360a236-4627-459f-98fd-839aed2e0ce2"
      },
      "source": [
        "tf.linspace(start = 1.0, stop = 10, num = 25)  # Start must be a `float`. "
      ],
      "execution_count": null,
      "outputs": [
        {
          "output_type": "execute_result",
          "data": {
            "text/plain": [
              "<tf.Tensor: shape=(25,), dtype=float32, numpy=\n",
              "array([ 1.   ,  1.375,  1.75 ,  2.125,  2.5  ,  2.875,  3.25 ,  3.625,\n",
              "        4.   ,  4.375,  4.75 ,  5.125,  5.5  ,  5.875,  6.25 ,  6.625,\n",
              "        7.   ,  7.375,  7.75 ,  8.125,  8.5  ,  8.875,  9.25 ,  9.625,\n",
              "       10.   ], dtype=float32)>"
            ]
          },
          "metadata": {
            "tags": []
          },
          "execution_count": 17
        }
      ]
    },
    {
      "cell_type": "markdown",
      "metadata": {
        "id": "DLYoJQAE8UhW"
      },
      "source": [
        "## Slicing"
      ]
    },
    {
      "cell_type": "code",
      "metadata": {
        "colab": {
          "base_uri": "https://localhost:8080/"
        },
        "id": "QQMUeig06CaR",
        "outputId": "403d2a42-5a00-4326-cb98-2fe2a0f7f6ac"
      },
      "source": [
        "vector = tf.range(start = 1, limit = 10)\n",
        "print(vector[3:7].numpy(), '\\n')\n",
        "matrix = tf.constant(tf.range(20, dtype = tf.float32), shape = (4,5))\n",
        "print(matrix, '\\n') \n",
        "print(matrix[1:3, 2:4],'\\n')\n",
        "print(matrix[:3,2:])"
      ],
      "execution_count": null,
      "outputs": [
        {
          "output_type": "stream",
          "text": [
            "[4 5 6 7] \n",
            "\n",
            "tf.Tensor(\n",
            "[[ 0.  1.  2.  3.  4.]\n",
            " [ 5.  6.  7.  8.  9.]\n",
            " [10. 11. 12. 13. 14.]\n",
            " [15. 16. 17. 18. 19.]], shape=(4, 5), dtype=float32) \n",
            "\n",
            "tf.Tensor(\n",
            "[[ 7.  8.]\n",
            " [12. 13.]], shape=(2, 2), dtype=float32)\n",
            "tf.Tensor(\n",
            "[[ 2.  3.  4.]\n",
            " [ 7.  8.  9.]\n",
            " [12. 13. 14.]], shape=(3, 3), dtype=float32)\n"
          ],
          "name": "stdout"
        }
      ]
    },
    {
      "cell_type": "markdown",
      "metadata": {
        "id": "cKrgmcYM9G6p"
      },
      "source": [
        "## Modifying elements of a matrix\n",
        "\n",
        "`Tensors` in `tensorflow`, once created, can't be modified. So the following code segment will result in an error.\n",
        "\n",
        "```\n",
        ">>> a = tf.constant([1,2,3,4])\n",
        ">>> a[2] = 5  # Error\n",
        "```\n",
        "\n",
        "Instead of creating a `tensor`, we create a `Variable`. `Variables` work just like `tensors` with the added advantage that their values can be modified. So if we want to modify entries of our matrix at a later stage, we have to first create our matrix as a variable. "
      ]
    },
    {
      "cell_type": "code",
      "metadata": {
        "colab": {
          "base_uri": "https://localhost:8080/"
        },
        "id": "zUEqR8Vo6CdU",
        "outputId": "20b79be0-aaff-4c44-9f26-e4daae010f9b"
      },
      "source": [
        "variable_mat = tf.Variable(tf.constant(tf.range(12, dtype = tf.float32), shape = (3,4)))\n",
        "\n",
        "variable_mat[:2,2:4].assign(-1*tf.ones(shape = (2,2)))\n",
        "\n",
        "variable_mat"
      ],
      "execution_count": null,
      "outputs": [
        {
          "output_type": "execute_result",
          "data": {
            "text/plain": [
              "<tf.Variable 'Variable:0' shape=(3, 4) dtype=float32, numpy=\n",
              "array([[ 0.,  1., -1., -1.],\n",
              "       [ 4.,  5., -1., -1.],\n",
              "       [ 8.,  9., 10., 11.]], dtype=float32)>"
            ]
          },
          "metadata": {
            "tags": []
          },
          "execution_count": 25
        }
      ]
    },
    {
      "cell_type": "markdown",
      "metadata": {
        "id": "aWm6krSn-Yxq"
      },
      "source": [
        "## Transpose of a matrix\n",
        "\n",
        "For real matrices `transpose` just means changing the rows into columns and vice versa. There are three functions that achieve this.\n",
        "\n",
        "* `tf.transpose`\n",
        "* `tf.adjoint`\n",
        "* `tf.matrix_transpose`\n",
        "\n",
        "For real matrices, all three functions give identical results."
      ]
    },
    {
      "cell_type": "code",
      "metadata": {
        "colab": {
          "base_uri": "https://localhost:8080/"
        },
        "id": "aegDSHi9-a6I",
        "outputId": "592ff266-cf15-4048-990a-851d3ce89eb3"
      },
      "source": [
        "matrix = tf.constant(tf.range(20, dtype = tf.float32), shape = (4,5))\n",
        "matrix_tr = tf.transpose(matrix)\n",
        "print(matrix_tr)"
      ],
      "execution_count": null,
      "outputs": [
        {
          "output_type": "stream",
          "text": [
            "tf.Tensor(\n",
            "[[ 0.  5. 10. 15.]\n",
            " [ 1.  6. 11. 16.]\n",
            " [ 2.  7. 12. 17.]\n",
            " [ 3.  8. 13. 18.]\n",
            " [ 4.  9. 14. 19.]], shape=(5, 4), dtype=float32)\n"
          ],
          "name": "stdout"
        }
      ]
    },
    {
      "cell_type": "code",
      "metadata": {
        "colab": {
          "base_uri": "https://localhost:8080/"
        },
        "id": "OM3R5Qci6Cgq",
        "outputId": "8d91004e-d165-4fa8-fa33-82d892f04037"
      },
      "source": [
        "print(tf.linalg.adjoint(matrix))\n",
        "print(tf.linalg.matrix_transpose(matrix))"
      ],
      "execution_count": null,
      "outputs": [
        {
          "output_type": "stream",
          "text": [
            "tf.Tensor(\n",
            "[[ 0.  5. 10. 15.]\n",
            " [ 1.  6. 11. 16.]\n",
            " [ 2.  7. 12. 17.]\n",
            " [ 3.  8. 13. 18.]\n",
            " [ 4.  9. 14. 19.]], shape=(5, 4), dtype=float32)\n",
            "tf.Tensor(\n",
            "[[ 0.  5. 10. 15.]\n",
            " [ 1.  6. 11. 16.]\n",
            " [ 2.  7. 12. 17.]\n",
            " [ 3.  8. 13. 18.]\n",
            " [ 4.  9. 14. 19.]], shape=(5, 4), dtype=float32)\n"
          ],
          "name": "stdout"
        }
      ]
    },
    {
      "cell_type": "markdown",
      "metadata": {
        "id": "uqe0_of-_E0w"
      },
      "source": [
        "## Some common matrices"
      ]
    },
    {
      "cell_type": "code",
      "metadata": {
        "colab": {
          "base_uri": "https://localhost:8080/"
        },
        "id": "enEmeSUdAVij",
        "outputId": "40e3c798-6769-4e56-c2fa-0cb735d52cdf"
      },
      "source": [
        "print(tf.zeros(shape = (3,5), dtype = tf.float32))\n",
        "print(tf.ones(shape = (2,4), dtype = tf.float32))"
      ],
      "execution_count": null,
      "outputs": [
        {
          "output_type": "stream",
          "text": [
            "tf.Tensor(\n",
            "[[0. 0. 0. 0. 0.]\n",
            " [0. 0. 0. 0. 0.]\n",
            " [0. 0. 0. 0. 0.]], shape=(3, 5), dtype=float32)\n",
            "tf.Tensor(\n",
            "[[1. 1. 1. 1.]\n",
            " [1. 1. 1. 1.]], shape=(2, 4), dtype=float32)\n"
          ],
          "name": "stdout"
        }
      ]
    },
    {
      "cell_type": "code",
      "metadata": {
        "colab": {
          "base_uri": "https://localhost:8080/"
        },
        "id": "D_NIZjf3_Gyb",
        "outputId": "64b975cb-46b1-448f-f98b-fb5ade32862a"
      },
      "source": [
        "print(tf.linalg.eye(5))\n",
        "print(tf.linalg.diag([1.,2,3,4,5]))"
      ],
      "execution_count": null,
      "outputs": [
        {
          "output_type": "stream",
          "text": [
            "tf.Tensor(\n",
            "[[1. 0. 0. 0. 0.]\n",
            " [0. 1. 0. 0. 0.]\n",
            " [0. 0. 1. 0. 0.]\n",
            " [0. 0. 0. 1. 0.]\n",
            " [0. 0. 0. 0. 1.]], shape=(5, 5), dtype=float32)\n",
            "tf.Tensor(\n",
            "[[1. 0. 0. 0. 0.]\n",
            " [0. 2. 0. 0. 0.]\n",
            " [0. 0. 3. 0. 0.]\n",
            " [0. 0. 0. 4. 0.]\n",
            " [0. 0. 0. 0. 5.]], shape=(5, 5), dtype=float32)\n"
          ],
          "name": "stdout"
        }
      ]
    },
    {
      "cell_type": "code",
      "metadata": {
        "colab": {
          "base_uri": "https://localhost:8080/"
        },
        "id": "Orwm9dFf_hGy",
        "outputId": "c77f6192-a51b-416d-c2ca-5ec70d61304b"
      },
      "source": [
        "print(tf.linalg.diag([1,2,3,4], k = 1))   # Values in super-diagonal\n",
        "print(tf.linalg.diag([1,2,3], k = -2))   "
      ],
      "execution_count": null,
      "outputs": [
        {
          "output_type": "stream",
          "text": [
            "tf.Tensor(\n",
            "[[0 1 0 0 0]\n",
            " [0 0 2 0 0]\n",
            " [0 0 0 3 0]\n",
            " [0 0 0 0 4]\n",
            " [0 0 0 0 0]], shape=(5, 5), dtype=int32)\n",
            "tf.Tensor(\n",
            "[[0 0 0 0 0]\n",
            " [0 0 0 0 0]\n",
            " [1 0 0 0 0]\n",
            " [0 2 0 0 0]\n",
            " [0 0 3 0 0]], shape=(5, 5), dtype=int32)\n"
          ],
          "name": "stdout"
        }
      ]
    },
    {
      "cell_type": "code",
      "metadata": {
        "colab": {
          "base_uri": "https://localhost:8080/"
        },
        "id": "jMYX_Lep6CjZ",
        "outputId": "fd14e38a-786a-455d-924d-ec3971666205"
      },
      "source": [
        "tf.linalg.diag([1,2,3,4,5], k = 0, padding_value = -1)"
      ],
      "execution_count": null,
      "outputs": [
        {
          "output_type": "execute_result",
          "data": {
            "text/plain": [
              "<tf.Tensor: shape=(5, 5), dtype=int32, numpy=\n",
              "array([[ 1, -1, -1, -1, -1],\n",
              "       [-1,  2, -1, -1, -1],\n",
              "       [-1, -1,  3, -1, -1],\n",
              "       [-1, -1, -1,  4, -1],\n",
              "       [-1, -1, -1, -1,  5]], dtype=int32)>"
            ]
          },
          "metadata": {
            "tags": []
          },
          "execution_count": 32
        }
      ]
    },
    {
      "cell_type": "code",
      "metadata": {
        "colab": {
          "base_uri": "https://localhost:8080/"
        },
        "id": "YHGdQ524_6VZ",
        "outputId": "5854113b-82ad-45ff-d64b-036e1039388c"
      },
      "source": [
        "mat = tf.zeros(shape = (5,5))\n",
        "diag = tf.constant([1,2,3,4,5.])\n",
        "tf.linalg.set_diag(input = mat, diagonal = diag, k = 0)"
      ],
      "execution_count": null,
      "outputs": [
        {
          "output_type": "execute_result",
          "data": {
            "text/plain": [
              "<tf.Tensor: shape=(5, 5), dtype=float32, numpy=\n",
              "array([[1., 0., 0., 0., 0.],\n",
              "       [0., 2., 0., 0., 0.],\n",
              "       [0., 0., 3., 0., 0.],\n",
              "       [0., 0., 0., 4., 0.],\n",
              "       [0., 0., 0., 0., 5.]], dtype=float32)>"
            ]
          },
          "metadata": {
            "tags": []
          },
          "execution_count": 33
        }
      ]
    },
    {
      "cell_type": "code",
      "metadata": {
        "colab": {
          "base_uri": "https://localhost:8080/"
        },
        "id": "1uExwWyg_6Y2",
        "outputId": "31cecfdf-eec7-40dc-b580-cecd888e5c7c"
      },
      "source": [
        "diags = tf.constant([[1,2,3,4,5],\n",
        "                     [6,7,8,9,0.]])\n",
        "tf.linalg.set_diag(mat, diags, k = (-1,0))"
      ],
      "execution_count": null,
      "outputs": [
        {
          "output_type": "execute_result",
          "data": {
            "text/plain": [
              "<tf.Tensor: shape=(5, 5), dtype=float32, numpy=\n",
              "array([[1., 0., 0., 0., 0.],\n",
              "       [6., 2., 0., 0., 0.],\n",
              "       [0., 7., 3., 0., 0.],\n",
              "       [0., 0., 8., 4., 0.],\n",
              "       [0., 0., 0., 9., 5.]], dtype=float32)>"
            ]
          },
          "metadata": {
            "tags": []
          },
          "execution_count": 34
        }
      ]
    },
    {
      "cell_type": "markdown",
      "metadata": {
        "id": "V1VFMMuoApB9"
      },
      "source": [
        "## Random matrices\n",
        "Rather, they are part of tf.random library. Using Tensorflow we can create matrices whose entries come from normal, uniform, poisson, and gamma distributions."
      ]
    },
    {
      "cell_type": "code",
      "metadata": {
        "colab": {
          "base_uri": "https://localhost:8080/"
        },
        "id": "Bbu9LHG4_6cB",
        "outputId": "f1228b55-cb1b-4759-a804-c65768f4ba3a"
      },
      "source": [
        "# Random Uniform \n",
        "print(tf.random.uniform(shape = (5,5), minval = 0, maxval = 5, seed= 32))"
      ],
      "execution_count": null,
      "outputs": [
        {
          "output_type": "stream",
          "text": [
            "tf.Tensor(\n",
            "[[4.8578553  0.26324332 1.7549878  4.434555   2.3975224 ]\n",
            " [3.219039   0.4039365  0.92039883 2.9136662  4.9377174 ]\n",
            " [4.617196   3.6782126  4.0351195  4.8321657  4.206293  ]\n",
            " [2.3059547  4.922245   4.186061   2.1761923  0.88124394]\n",
            " [2.7422066  1.5948689  2.6099925  4.4901986  2.4033623 ]], shape=(5, 5), dtype=float32)\n"
          ],
          "name": "stdout"
        }
      ]
    },
    {
      "cell_type": "code",
      "metadata": {
        "colab": {
          "base_uri": "https://localhost:8080/"
        },
        "id": "kpzQKfwxAw_B",
        "outputId": "75078069-3c6c-4dbc-c788-e46d527b2ed6"
      },
      "source": [
        "# Random int\n",
        "uniform_int = tf.random.uniform(shape = (5,5), minval= 10, maxval = 20, dtype = tf.int32, seed = 1234)\n",
        "uniform_int"
      ],
      "execution_count": null,
      "outputs": [
        {
          "output_type": "execute_result",
          "data": {
            "text/plain": [
              "<tf.Tensor: shape=(5, 5), dtype=int32, numpy=\n",
              "array([[19, 15, 13, 14, 10],\n",
              "       [16, 18, 10, 15, 10],\n",
              "       [12, 13, 19, 12, 16],\n",
              "       [18, 11, 10, 18, 12],\n",
              "       [17, 18, 14, 19, 10]], dtype=int32)>"
            ]
          },
          "metadata": {
            "tags": []
          },
          "execution_count": 37
        }
      ]
    },
    {
      "cell_type": "markdown",
      "metadata": {
        "id": "mtgDRxQHB-or"
      },
      "source": [
        "For further processing we usually require matrix entries to be floating point numbers. This can be achieved by using tf.cast."
      ]
    },
    {
      "cell_type": "code",
      "metadata": {
        "colab": {
          "base_uri": "https://localhost:8080/"
        },
        "id": "pM0DWqF2AxCD",
        "outputId": "e4358d74-5f37-4428-b6f0-7ff339fe21b6"
      },
      "source": [
        "uniform_float = tf.dtypes.cast(uniform_int, dtype = tf.float32)\n",
        "uniform_float"
      ],
      "execution_count": null,
      "outputs": [
        {
          "output_type": "execute_result",
          "data": {
            "text/plain": [
              "<tf.Tensor: shape=(5, 5), dtype=float32, numpy=\n",
              "array([[19., 15., 13., 14., 10.],\n",
              "       [16., 18., 10., 15., 10.],\n",
              "       [12., 13., 19., 12., 16.],\n",
              "       [18., 11., 10., 18., 12.],\n",
              "       [17., 18., 14., 19., 10.]], dtype=float32)>"
            ]
          },
          "metadata": {
            "tags": []
          },
          "execution_count": 39
        }
      ]
    },
    {
      "cell_type": "code",
      "metadata": {
        "colab": {
          "base_uri": "https://localhost:8080/"
        },
        "id": "UeMBqHp5AxFU",
        "outputId": "456c33d6-5cd9-4e1b-f29e-ee57b94c7b2e"
      },
      "source": [
        "# Random Normal\n",
        "normal_tf = tf.random.normal(shape = (5,5), mean = 1, stddev= 3, seed = 253)\n",
        "normal_tf"
      ],
      "execution_count": null,
      "outputs": [
        {
          "output_type": "execute_result",
          "data": {
            "text/plain": [
              "<tf.Tensor: shape=(5, 5), dtype=float32, numpy=\n",
              "array([[ 1.5266892 , -5.114835  ,  4.4653835 , -1.013567  , -1.1874259 ],\n",
              "       [ 5.503375  , -1.4568715 , -1.3270268 ,  0.2747649 ,  3.1374507 ],\n",
              "       [ 4.211556  ,  4.618066  ,  1.2217634 ,  0.04707372,  1.4131291 ],\n",
              "       [-2.7024255 ,  0.81293994, -3.11763   , -3.043394  ,  5.5663233 ],\n",
              "       [ 1.4549919 ,  3.7368293 ,  1.2184538 ,  2.0713992 ,  0.19450545]],\n",
              "      dtype=float32)>"
            ]
          },
          "metadata": {
            "tags": []
          },
          "execution_count": 40
        }
      ]
    },
    {
      "cell_type": "code",
      "metadata": {
        "colab": {
          "base_uri": "https://localhost:8080/"
        },
        "id": "Yb7Z6fpICeKN",
        "outputId": "a3178c4d-ad7e-4273-804f-0f896c867659"
      },
      "source": [
        "# Random Truncated Normal\n",
        "tr_normal_tf = tf.random.truncated_normal(shape = (5,5), mean = 0, stddev= 2, seed = 82) \n",
        "tr_normal_tf"
      ],
      "execution_count": null,
      "outputs": [
        {
          "output_type": "execute_result",
          "data": {
            "text/plain": [
              "<tf.Tensor: shape=(5, 5), dtype=float32, numpy=\n",
              "array([[ 2.3130474 ,  1.9175851 ,  1.1134342 , -3.6221776 , -2.242488  ],\n",
              "       [ 2.8108876 , -1.8440694 ,  1.7630143 , -0.45916542, -0.20763762],\n",
              "       [-0.4769438 ,  2.3582413 , -0.45690525, -0.42088556, -1.8990422 ],\n",
              "       [-2.2638845 ,  2.9536312 ,  0.9591611 ,  2.670887  ,  1.4793464 ],\n",
              "       [-0.60492915,  3.6320126 ,  3.9752324 , -0.4684417 , -3.2791114 ]],\n",
              "      dtype=float32)>"
            ]
          },
          "metadata": {
            "tags": []
          },
          "execution_count": 41
        }
      ]
    },
    {
      "cell_type": "code",
      "metadata": {
        "colab": {
          "base_uri": "https://localhost:8080/"
        },
        "id": "kESfg7pACeUW",
        "outputId": "42eca9fd-436f-47ca-df1f-7de35ee7fa3b"
      },
      "source": [
        "# Random Poisson\n",
        "poisson_tf = tf.random.poisson(shape = (5,5), lam = 2, seed = 12)\n",
        "poisson_tf"
      ],
      "execution_count": null,
      "outputs": [
        {
          "output_type": "execute_result",
          "data": {
            "text/plain": [
              "<tf.Tensor: shape=(5, 5), dtype=float32, numpy=\n",
              "array([[1., 0., 1., 2., 3.],\n",
              "       [0., 1., 2., 3., 4.],\n",
              "       [2., 0., 2., 2., 2.],\n",
              "       [2., 0., 2., 2., 3.],\n",
              "       [1., 4., 2., 5., 4.]], dtype=float32)>"
            ]
          },
          "metadata": {
            "tags": []
          },
          "execution_count": 42
        }
      ]
    },
    {
      "cell_type": "code",
      "metadata": {
        "colab": {
          "base_uri": "https://localhost:8080/"
        },
        "id": "qSv3ovKTCeYh",
        "outputId": "9edb9b90-6ae2-454e-ba8d-06cb9595bfd1"
      },
      "source": [
        "# Random Gamma\n",
        "gamma_tf = tf.random.gamma(shape = (5,5), alpha = 0.7, beta= 0.3, seed = 232)\n",
        "gamma_tf"
      ],
      "execution_count": null,
      "outputs": [
        {
          "output_type": "execute_result",
          "data": {
            "text/plain": [
              "<tf.Tensor: shape=(5, 5), dtype=float32, numpy=\n",
              "array([[0.78733766, 2.5200539 , 0.9812998 , 5.141082  , 1.9184761 ],\n",
              "       [1.1069427 , 0.32923967, 0.13172682, 5.066955  , 2.8487072 ],\n",
              "       [0.39204285, 0.53647757, 5.3083944 , 1.618826  , 0.41352856],\n",
              "       [1.0327125 , 0.27330002, 0.34577194, 0.22123706, 0.77021873],\n",
              "       [0.38616025, 9.153643  , 1.4737413 , 6.029133  , 0.05517024]],\n",
              "      dtype=float32)>"
            ]
          },
          "metadata": {
            "tags": []
          },
          "execution_count": 43
        }
      ]
    },
    {
      "cell_type": "markdown",
      "metadata": {
        "id": "KRkbCe7aEaeq"
      },
      "source": [
        "## Sparse matrices\n",
        "\n",
        "Sparse matrices are within `tf.sparse` library. There are several functions specifically designed for sparse matrices. Full list of function in `tf.sparse` library can be found at [this link](https://www.tensorflow.org/api_docs/python/tf/sparse). The first argument is set of indices (rows and columns), second argument is the values at those indices. Third argument is the `dense_shape` of the sparse matrix."
      ]
    },
    {
      "cell_type": "code",
      "metadata": {
        "colab": {
          "base_uri": "https://localhost:8080/"
        },
        "id": "qC73YF_WEZ54",
        "outputId": "5bbcc805-dbe0-47c5-aa05-de5829235e59"
      },
      "source": [
        "sparse_mat = tf.sparse.SparseTensor([[0,1],[1,3],[3,2]], [-5, -10, 7], dense_shape= (5,5))\n",
        "sparse_mat"
      ],
      "execution_count": null,
      "outputs": [
        {
          "output_type": "execute_result",
          "data": {
            "text/plain": [
              "<tensorflow.python.framework.sparse_tensor.SparseTensor at 0x7fb437f0bed0>"
            ]
          },
          "metadata": {
            "tags": []
          },
          "execution_count": 44
        }
      ]
    },
    {
      "cell_type": "markdown",
      "metadata": {
        "id": "XT9jDC3jEzkF"
      },
      "source": [
        "To see the actual matrix, we have to convert the sparse matrix to a dense matrix. This is achieved using `to_dense` function."
      ]
    },
    {
      "cell_type": "code",
      "metadata": {
        "colab": {
          "base_uri": "https://localhost:8080/"
        },
        "id": "iHellni5EZ9f",
        "outputId": "16edb124-3107-43fb-ce19-1281ce691bd1"
      },
      "source": [
        "tf.sparse.to_dense(sparse_mat)"
      ],
      "execution_count": null,
      "outputs": [
        {
          "output_type": "execute_result",
          "data": {
            "text/plain": [
              "<tf.Tensor: shape=(5, 5), dtype=int32, numpy=\n",
              "array([[  0,  -5,   0,   0,   0],\n",
              "       [  0,   0,   0, -10,   0],\n",
              "       [  0,   0,   0,   0,   0],\n",
              "       [  0,   0,   7,   0,   0],\n",
              "       [  0,   0,   0,   0,   0]], dtype=int32)>"
            ]
          },
          "metadata": {
            "tags": []
          },
          "execution_count": 45
        }
      ]
    },
    {
      "cell_type": "markdown",
      "metadata": {
        "id": "jd5WhzRRFgxF"
      },
      "source": [
        "It should be noted that special algorithms exist to deal with sparse matrices. Those algorithms don't require the sparse matrix to be converted into its dense equivalent. By converting a sparse matrix into a dense one, all its special properties are lost. Therefore, sparse matrices should not be converted into dense ones."
      ]
    },
    {
      "cell_type": "markdown",
      "metadata": {
        "id": "KAx-ZmWIFk1z"
      },
      "source": [
        "## Matrix multiplication\n",
        "\n",
        "To multiply two vectors, or two matrices, or a matrix with a vector in a linear algebra sense, we have to use `linalg.matmul` function. Using `*` operator in python does element wise multiplication with broadcasting wherever possible. So to multiply two matrices, we have to call `linalg.matmul` function. Inputs to `linalg.matmul` function are matrices. Therefore, while multiplying two arrays, we have to first convert them into vectors and then multiply. Also note that `linalg.matmul` is same as `tf.matmul`. Both are aliases."
      ]
    },
    {
      "cell_type": "markdown",
      "metadata": {
        "id": "wrss4_reUmfb"
      },
      "source": [
        "### Vectors"
      ]
    },
    {
      "cell_type": "code",
      "metadata": {
        "colab": {
          "base_uri": "https://localhost:8080/"
        },
        "id": "KaHMSUP2E3gB",
        "outputId": "fed670a4-a5a1-4f2b-c490-18d1e5d52832"
      },
      "source": [
        "vector_1 = tf.constant([1., 2., 3.], shape = (3,1))\n",
        "vector_2 = tf.constant([2., 3., 4.], shape = (3,1))\n",
        "result = tf.matmul(a = vector_1, b = vector_2, transpose_a = True) # Inner product\n",
        "result.numpy()"
      ],
      "execution_count": null,
      "outputs": [
        {
          "output_type": "execute_result",
          "data": {
            "text/plain": [
              "array([[20.]], dtype=float32)"
            ]
          },
          "metadata": {
            "tags": []
          },
          "execution_count": 48
        }
      ]
    },
    {
      "cell_type": "code",
      "metadata": {
        "colab": {
          "base_uri": "https://localhost:8080/"
        },
        "id": "_GKL4voSE3jQ",
        "outputId": "d06208cc-354a-44e5-d879-7ffe363d40fb"
      },
      "source": [
        "vector_1 = tf.constant([1., 2., 3.], shape = (3,1))\n",
        "vector_2 = tf.constant([2., 3., 4.], shape = (3,1))\n",
        "result = tf.matmul(a = vector_1, b = vector_2, transpose_b = True) # Outer product\n",
        "result.numpy()"
      ],
      "execution_count": null,
      "outputs": [
        {
          "output_type": "execute_result",
          "data": {
            "text/plain": [
              "array([[ 2.,  3.,  4.],\n",
              "       [ 4.,  6.,  8.],\n",
              "       [ 6.,  9., 12.]], dtype=float32)"
            ]
          },
          "metadata": {
            "tags": []
          },
          "execution_count": 49
        }
      ]
    },
    {
      "cell_type": "markdown",
      "metadata": {
        "id": "Pr7U8fE-Vf0N"
      },
      "source": [
        "#### Multiplying a matrix with a vector\n",
        "\n",
        "There are two ways in which we can achieve this. We can convert the vector into a column vector (matrix with 1 column) and then apply `tf.matmul`, or we can use the built-in function `tf.linalg.matvec` to multiply a matrix with a vector."
      ]
    },
    {
      "cell_type": "code",
      "metadata": {
        "colab": {
          "base_uri": "https://localhost:8080/"
        },
        "id": "ikVvyZXpE3mn",
        "outputId": "af86e9c2-601a-4491-85b1-8491db8f5a00"
      },
      "source": [
        "vector_1 = tf.constant([1., 2., 3.], shape = (3,1))\n",
        "mat_1 = tf.constant([1, 2, 3, 4, 5, 6],shape = (2,3), dtype = tf.float32)\n",
        "print( mat_1.numpy() )\n",
        "tf.matmul(a = mat_1, b = vector_1).numpy()"
      ],
      "execution_count": null,
      "outputs": [
        {
          "output_type": "stream",
          "text": [
            "[[1. 2. 3.]\n",
            " [4. 5. 6.]]\n"
          ],
          "name": "stdout"
        },
        {
          "output_type": "execute_result",
          "data": {
            "text/plain": [
              "array([[14.],\n",
              "       [32.]], dtype=float32)"
            ]
          },
          "metadata": {
            "tags": []
          },
          "execution_count": 55
        }
      ]
    },
    {
      "cell_type": "code",
      "metadata": {
        "colab": {
          "base_uri": "https://localhost:8080/"
        },
        "id": "5m5YJqY5E3qM",
        "outputId": "09f113fb-2c74-4343-d110-6d3f6a423ea5"
      },
      "source": [
        "# another way, not prefered\n",
        "tf.linalg.matvec(mat_1, tf.constant([1,2,3.])) "
      ],
      "execution_count": null,
      "outputs": [
        {
          "output_type": "execute_result",
          "data": {
            "text/plain": [
              "<tf.Tensor: shape=(2,), dtype=float32, numpy=array([14., 32.], dtype=float32)>"
            ]
          },
          "metadata": {
            "tags": []
          },
          "execution_count": 56
        }
      ]
    },
    {
      "cell_type": "code",
      "metadata": {
        "colab": {
          "base_uri": "https://localhost:8080/"
        },
        "id": "8ZK_mRqXWmZ1",
        "outputId": "93bfbd54-f97b-4b25-daa5-382b5f3c68cf"
      },
      "source": [
        "mat = tf.constant([1, 2, 3, 4, 5, 6],shape = (2,3), dtype = tf.float32)\n",
        "tf.linalg.matmul(a = mat, b = mat, transpose_a=True).numpy() # Without `transpose_a` argument, result will be an error."
      ],
      "execution_count": null,
      "outputs": [
        {
          "output_type": "execute_result",
          "data": {
            "text/plain": [
              "array([[17., 22., 27.],\n",
              "       [22., 29., 36.],\n",
              "       [27., 36., 45.]], dtype=float32)"
            ]
          },
          "metadata": {
            "tags": []
          },
          "execution_count": 57
        }
      ]
    },
    {
      "cell_type": "code",
      "metadata": {
        "colab": {
          "base_uri": "https://localhost:8080/"
        },
        "id": "M9j282deWmi1",
        "outputId": "6ba06cf4-31a7-4bd8-8542-5445478103c0"
      },
      "source": [
        "mat = tf.constant([1, 2, 3, 4, 5, 6],shape = (2,3), dtype = tf.float32)\n",
        "tf.linalg.matmul(a = mat, b = mat, transpose_b=True).numpy()"
      ],
      "execution_count": null,
      "outputs": [
        {
          "output_type": "execute_result",
          "data": {
            "text/plain": [
              "array([[14., 32.],\n",
              "       [32., 77.]], dtype=float32)"
            ]
          },
          "metadata": {
            "tags": []
          },
          "execution_count": 58
        }
      ]
    },
    {
      "cell_type": "code",
      "metadata": {
        "id": "hXLpFtfVYE-F"
      },
      "source": [
        ""
      ],
      "execution_count": null,
      "outputs": []
    },
    {
      "cell_type": "code",
      "metadata": {
        "id": "ZLAD1_msYFGK"
      },
      "source": [
        ""
      ],
      "execution_count": null,
      "outputs": []
    },
    {
      "cell_type": "code",
      "metadata": {
        "colab": {
          "base_uri": "https://localhost:8080/"
        },
        "id": "87VOXmqnMvUQ",
        "outputId": "3d0381a9-eb71-4d62-fc62-4bd88f181975"
      },
      "source": [
        "import tensorflow as tf\n",
        "x= tf.constant(([1., 2, 3, 4]))\n",
        "y = tf.math.multiply(x, x)\n",
        "y"
      ],
      "execution_count": null,
      "outputs": [
        {
          "output_type": "execute_result",
          "data": {
            "text/plain": [
              "<tf.Tensor: shape=(4,), dtype=float32, numpy=array([ 1.,  4.,  9., 16.], dtype=float32)>"
            ]
          },
          "metadata": {
            "tags": []
          },
          "execution_count": 5
        }
      ]
    },
    {
      "cell_type": "code",
      "metadata": {
        "colab": {
          "base_uri": "https://localhost:8080/"
        },
        "id": "djoEuZQfPAXW",
        "outputId": "4f2f951f-ea4d-4b42-c1df-692206174db1"
      },
      "source": [
        "tf.reduce_mean(y)\n",
        "tf.math.sqrt(tf.reduce_mean(5* y))"
      ],
      "execution_count": null,
      "outputs": [
        {
          "output_type": "execute_result",
          "data": {
            "text/plain": [
              "<tf.Tensor: shape=(), dtype=float32, numpy=6.1237245>"
            ]
          },
          "metadata": {
            "tags": []
          },
          "execution_count": 6
        }
      ]
    },
    {
      "cell_type": "markdown",
      "metadata": {
        "id": "CObd2bfdc0Hq"
      },
      "source": [
        "Generate tensors"
      ]
    },
    {
      "cell_type": "markdown",
      "metadata": {
        "id": "HTWTFTYt5CDY"
      },
      "source": [
        "#optimization\n",
        "\n",
        "https://stackoverflow.com/questions/41918795/minimize-a-function-of-one-variable-in-tensorflow"
      ]
    },
    {
      "cell_type": "code",
      "metadata": {
        "id": "P5qDgWKd5Da5",
        "colab": {
          "base_uri": "https://localhost:8080/"
        },
        "outputId": "b1f30c17-0e1a-46e5-f42f-fa557a95d549"
      },
      "source": [
        "import tensorflow as tf\n",
        "from tensorflow.python.training import gradient_descent\n",
        "\n",
        "x = tf.Variable(10.0, trainable=True)\n",
        "y = tf.Variable(5.0, trainable=True)\n",
        "\n",
        "\n",
        "\n",
        "\n",
        "for i in range(10000):\n",
        "    if i % 1000 == 0:\n",
        "        z = tf.constant(i/100+1, dtype = 'float32')\n",
        "        t = x + 2\n",
        "        @tf.function\n",
        "        def f_x():\n",
        "            return (t - y)**2 + (x - z)**2\n",
        "        print([x.numpy(), y.numpy(), z.numpy(), f_x().numpy()])\n",
        "    gradient_descent.GradientDescentOptimizer(0.1).minimize(f_x)"
      ],
      "execution_count": null,
      "outputs": [
        {
          "output_type": "stream",
          "text": [
            "[10.0, 5.0, 1.0, 130.0]\n",
            "[1.0000002, 11.999998, 11.0, 180.99997]\n",
            "[10.999998, 3.0000007, 21.0, 199.99998]\n",
            "[20.999996, 12.999996, 31.0, 200.00008]\n",
            "[30.999996, 22.999992, 41.0, 200.00015]\n",
            "[40.999992, 32.99999, 51.0, 200.00023]\n",
            "[50.999992, 42.999985, 61.0, 200.0003]\n",
            "[60.999992, 52.999985, 71.0, 200.0003]\n",
            "[70.999985, 62.999985, 81.0, 200.0003]\n",
            "[80.999985, 72.99997, 91.0, 200.00061]\n"
          ],
          "name": "stdout"
        }
      ]
    },
    {
      "cell_type": "code",
      "metadata": {
        "colab": {
          "base_uri": "https://localhost:8080/"
        },
        "id": "rRYH-UPBeE5V",
        "outputId": "03420fc6-d0a1-4d1c-8b8c-f3d635707444"
      },
      "source": [
        "x"
      ],
      "execution_count": null,
      "outputs": [
        {
          "output_type": "execute_result",
          "data": {
            "text/plain": [
              "<tf.Variable 'Variable:0' shape=() dtype=float32, numpy=90.999985>"
            ]
          },
          "metadata": {
            "tags": []
          },
          "execution_count": 8
        }
      ]
    },
    {
      "cell_type": "markdown",
      "metadata": {
        "id": "El1kF3y2r5Pr"
      },
      "source": [
        "A complete example\n",
        "https://www.tensorflow.org/guide/keras/writing_a_training_loop_from_scratch"
      ]
    },
    {
      "cell_type": "code",
      "metadata": {
        "colab": {
          "base_uri": "https://localhost:8080/"
        },
        "id": "k-aFLkc9c10a",
        "outputId": "870e7819-0f14-47a8-bbe3-c0740bce89bf"
      },
      "source": [
        "x = tf.constant([0., 1., 0., 0.]) \n",
        "y = tf.constant([-2., 0., 2., 5.]) \n",
        "tf.math.maximum(x, y)"
      ],
      "execution_count": null,
      "outputs": [
        {
          "output_type": "execute_result",
          "data": {
            "text/plain": [
              "<tf.Tensor: shape=(4,), dtype=float32, numpy=array([0., 1., 2., 5.], dtype=float32)>"
            ]
          },
          "metadata": {
            "tags": []
          },
          "execution_count": 9
        }
      ]
    },
    {
      "cell_type": "code",
      "metadata": {
        "colab": {
          "base_uri": "https://localhost:8080/"
        },
        "id": "hvbQPV2dIGfo",
        "outputId": "b662d9c4-8545-433b-f202-35f981a84448"
      },
      "source": [
        "import tensorflow as tf\n",
        "X = tf.constant([1.,2.,3])\n",
        "tf.nn.softmax(X)"
      ],
      "execution_count": null,
      "outputs": [
        {
          "output_type": "execute_result",
          "data": {
            "text/plain": [
              "<tf.Tensor: shape=(3,), dtype=float32, numpy=array([0.09003057, 0.24472848, 0.66524094], dtype=float32)>"
            ]
          },
          "metadata": {
            "tags": []
          },
          "execution_count": 10
        }
      ]
    },
    {
      "cell_type": "code",
      "metadata": {
        "colab": {
          "base_uri": "https://localhost:8080/"
        },
        "id": "grobiaQlIwc_",
        "outputId": "8cefc2da-2aa0-4663-d1ad-a108ead8c788"
      },
      "source": [
        "indices = [0, 1, 2]\n",
        "depth = 3\n",
        "tf.one_hot(indices, depth)  # output: [3 x 3]\n",
        "# [[1., 0., 0.],\n",
        "#  [0., 1., 0.],\n",
        "#  [0., 0., 1.]]"
      ],
      "execution_count": null,
      "outputs": [
        {
          "output_type": "error",
          "ename": "NameError",
          "evalue": "ignored",
          "traceback": [
            "\u001b[0;31m---------------------------------------------------------------------------\u001b[0m",
            "\u001b[0;31mNameError\u001b[0m                                 Traceback (most recent call last)",
            "\u001b[0;32m<ipython-input-1-c798e397c8a0>\u001b[0m in \u001b[0;36m<module>\u001b[0;34m()\u001b[0m\n\u001b[1;32m      1\u001b[0m \u001b[0mindices\u001b[0m \u001b[0;34m=\u001b[0m \u001b[0;34m[\u001b[0m\u001b[0;36m0\u001b[0m\u001b[0;34m,\u001b[0m \u001b[0;36m1\u001b[0m\u001b[0;34m,\u001b[0m \u001b[0;36m2\u001b[0m\u001b[0;34m]\u001b[0m\u001b[0;34m\u001b[0m\u001b[0;34m\u001b[0m\u001b[0m\n\u001b[1;32m      2\u001b[0m \u001b[0mdepth\u001b[0m \u001b[0;34m=\u001b[0m \u001b[0;36m3\u001b[0m\u001b[0;34m\u001b[0m\u001b[0;34m\u001b[0m\u001b[0m\n\u001b[0;32m----> 3\u001b[0;31m \u001b[0mtf\u001b[0m\u001b[0;34m.\u001b[0m\u001b[0mone_hot\u001b[0m\u001b[0;34m(\u001b[0m\u001b[0mindices\u001b[0m\u001b[0;34m,\u001b[0m \u001b[0mdepth\u001b[0m\u001b[0;34m)\u001b[0m  \u001b[0;31m# output: [3 x 3]\u001b[0m\u001b[0;34m\u001b[0m\u001b[0;34m\u001b[0m\u001b[0m\n\u001b[0m\u001b[1;32m      4\u001b[0m \u001b[0;31m# [[1., 0., 0.],\u001b[0m\u001b[0;34m\u001b[0m\u001b[0;34m\u001b[0m\u001b[0;34m\u001b[0m\u001b[0m\n\u001b[1;32m      5\u001b[0m \u001b[0;31m#  [0., 1., 0.],\u001b[0m\u001b[0;34m\u001b[0m\u001b[0;34m\u001b[0m\u001b[0;34m\u001b[0m\u001b[0m\n",
            "\u001b[0;31mNameError\u001b[0m: name 'tf' is not defined"
          ]
        }
      ]
    },
    {
      "cell_type": "code",
      "metadata": {
        "colab": {
          "base_uri": "https://localhost:8080/"
        },
        "id": "GjeDaDLq-D7k",
        "outputId": "434b6458-f77a-425d-fbf4-81ad898b0e47"
      },
      "source": [
        "from google.colab import drive\n",
        "drive.mount('/content/gdrive')"
      ],
      "execution_count": null,
      "outputs": [
        {
          "output_type": "stream",
          "text": [
            "Mounted at /content/gdrive\n"
          ],
          "name": "stdout"
        }
      ]
    },
    {
      "cell_type": "code",
      "metadata": {
        "id": "IeolwhHR-KuI"
      },
      "source": [
        ""
      ],
      "execution_count": null,
      "outputs": []
    },
    {
      "cell_type": "code",
      "metadata": {
        "id": "3YEKXNX304hh"
      },
      "source": [
        "import numpy as np\n",
        "\n",
        "train_images = np.load(open('gdrive/My Drive/Colab Notebooks/TDI/datacourse/tensorflow/\\\n",
        "miniprojects/train_images.npy', 'rb'))\n",
        "train_labels = np.load(open('gdrive/My Drive/Colab Notebooks/TDI/datacourse/tensorflow/\\\n",
        "miniprojects/train_labels.npy', 'rb'))\n",
        "validation_images = np.load(open('gdrive/My Drive/Colab Notebooks/TDI/datacourse/tensorflow/\\\n",
        "miniprojects/validation_images.npy', 'rb'))"
      ],
      "execution_count": null,
      "outputs": []
    },
    {
      "cell_type": "code",
      "metadata": {
        "colab": {
          "base_uri": "https://localhost:8080/"
        },
        "id": "_MBwntx12c61",
        "outputId": "fc77933f-998d-4497-d0b1-3ab36429e07e"
      },
      "source": [
        "import tensorflow as tf\n",
        "from tensorflow.keras import layers\n",
        "from tensorflow.keras import models\n",
        "from tensorflow.keras.layers import Lambda\n",
        "from tensorflow.image import ResizeMethod\n",
        "\n",
        "# include_top=False will discard avg_pool before prediction layer\n",
        "inception = tf.keras.applications.inception_v3.InceptionV3(include_top=True, input_shape=(299, 299, 3))\n",
        "inception = tf.keras.Model([inception.input], [inception.layers[-2].output]) # manually discard prediction layer"
      ],
      "execution_count": null,
      "outputs": [
        {
          "output_type": "stream",
          "text": [
            "Downloading data from https://storage.googleapis.com/tensorflow/keras-applications/inception_v3/inception_v3_weights_tf_dim_ordering_tf_kernels.h5\n",
            "96116736/96112376 [==============================] - 1s 0us/step\n"
          ],
          "name": "stdout"
        }
      ]
    },
    {
      "cell_type": "code",
      "metadata": {
        "id": "aX1wGob42g9W"
      },
      "source": [
        "model = models.Sequential()\n",
        "model.add(Lambda(lambda inputs:tf.image.resize(inputs, (299,299), \n",
        "                                               method=ResizeMethod.BILINEAR, preserve_aspect_ratio=False), input_shape = (32,32,3)))\n",
        "model.add(inception)\n",
        "model.add(layers.Dense(512, activation = 'relu'))\n",
        "model.add(layers.Dense(10, activation = 'softmax'))"
      ],
      "execution_count": null,
      "outputs": []
    },
    {
      "cell_type": "code",
      "metadata": {
        "colab": {
          "base_uri": "https://localhost:8080/"
        },
        "id": "rgJgfcHk2kPQ",
        "outputId": "8093d8a6-a107-481c-c5a5-0a3c41871f87"
      },
      "source": [
        "model.summary()"
      ],
      "execution_count": null,
      "outputs": [
        {
          "output_type": "stream",
          "text": [
            "Model: \"sequential\"\n",
            "_________________________________________________________________\n",
            "Layer (type)                 Output Shape              Param #   \n",
            "=================================================================\n",
            "lambda (Lambda)              (None, 299, 299, 3)       0         \n",
            "_________________________________________________________________\n",
            "functional_1 (Functional)    (None, 2048)              21802784  \n",
            "_________________________________________________________________\n",
            "dense (Dense)                (None, 512)               1049088   \n",
            "_________________________________________________________________\n",
            "dense_1 (Dense)              (None, 10)                5130      \n",
            "=================================================================\n",
            "Total params: 22,857,002\n",
            "Trainable params: 22,822,570\n",
            "Non-trainable params: 34,432\n",
            "_________________________________________________________________\n"
          ],
          "name": "stdout"
        }
      ]
    },
    {
      "cell_type": "code",
      "metadata": {
        "colab": {
          "base_uri": "https://localhost:8080/"
        },
        "id": "ExiHwVcf1Wic",
        "outputId": "15bdcbe6-8322-4729-d80e-e02464b8fb98"
      },
      "source": [
        "from tensorflow.keras.utils import to_categorical\n",
        "\n",
        "train_labels_cat = to_categorical(train_labels)\n",
        "\n",
        "optimizer = tf.keras.optimizers.Adam(\n",
        "    learning_rate=1, beta_1=0.9, beta_2=0.999, epsilon=1e-07, amsgrad=False,\n",
        "    name='Adam')\n",
        "model.compile(optimizer='Adam', \n",
        "             loss = 'categorical_crossentropy',\n",
        "             metrics = 'accuracy')\n",
        "\n",
        "model.fit(train_images, train_labels_cat, epochs = 1, batch_size = 32)"
      ],
      "execution_count": null,
      "outputs": [
        {
          "output_type": "stream",
          "text": [
            "   2/1563 [..............................] - ETA: 4:55 - loss: 0.1374 - accuracy: 0.9844WARNING:tensorflow:Callbacks method `on_train_batch_end` is slow compared to the batch time (batch time: 0.0939s vs `on_train_batch_end` time: 0.1409s). Check your callbacks.\n",
            "1563/1563 [==============================] - 366s 234ms/step - loss: 0.2897 - accuracy: 0.9019\n"
          ],
          "name": "stdout"
        },
        {
          "output_type": "execute_result",
          "data": {
            "text/plain": [
              "<tensorflow.python.keras.callbacks.History at 0x7f48987586d8>"
            ]
          },
          "metadata": {
            "tags": []
          },
          "execution_count": 16
        }
      ]
    },
    {
      "cell_type": "code",
      "metadata": {
        "id": "tQ5XbKJi3WYR"
      },
      "source": [
        "preds = model.predict(validation_images)"
      ],
      "execution_count": null,
      "outputs": []
    },
    {
      "cell_type": "code",
      "metadata": {
        "id": "BJiWEp67B7xo"
      },
      "source": [
        "predicted_classes = [np.argmax(pred) for pred in preds]\n",
        "#predicted_classes"
      ],
      "execution_count": null,
      "outputs": []
    },
    {
      "cell_type": "code",
      "metadata": {
        "id": "MOd_XfqQ3Wf8"
      },
      "source": [
        "np.save('result', predicted_classes)"
      ],
      "execution_count": null,
      "outputs": []
    },
    {
      "cell_type": "markdown",
      "metadata": {
        "id": "dmUO_9h9ow3Y"
      },
      "source": [
        "# TF.V1\n",
        "\n",
        "take a look at this [response](https://stackoverflow.com/questions/55142951/tensorflow-2-0-attributeerror-module-tensorflow-has-no-attribute-session) \n"
      ]
    },
    {
      "cell_type": "code",
      "metadata": {
        "id": "o1bHVeOqo204"
      },
      "source": [
        ""
      ],
      "execution_count": null,
      "outputs": []
    }
  ]
}