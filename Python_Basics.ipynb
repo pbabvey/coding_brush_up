{
  "nbformat": 4,
  "nbformat_minor": 0,
  "metadata": {
    "kernelspec": {
      "display_name": "Python 3",
      "language": "python",
      "name": "python3"
    },
    "language_info": {
      "codemirror_mode": {
        "name": "ipython",
        "version": 3
      },
      "file_extension": ".py",
      "mimetype": "text/x-python",
      "name": "python",
      "nbconvert_exporter": "python",
      "pygments_lexer": "ipython3",
      "version": "3.6.2"
    },
    "colab": {
      "name": "Python_Basics_Full_Collection.ipynb",
      "provenance": [],
      "toc_visible": true,
      "include_colab_link": true
    }
  },
  "cells": [
    {
      "cell_type": "markdown",
      "metadata": {
        "id": "view-in-github",
        "colab_type": "text"
      },
      "source": [
        "<a href=\"https://colab.research.google.com/github/pbabvey/coding_brush_up/blob/master/Python_Basics.ipynb\" target=\"_parent\"><img src=\"https://colab.research.google.com/assets/colab-badge.svg\" alt=\"Open In Colab\"/></a>"
      ]
    },
    {
      "cell_type": "markdown",
      "metadata": {
        "id": "BEncfECLuG_H"
      },
      "source": [
        "# Python Basics"
      ]
    },
    {
      "cell_type": "markdown",
      "metadata": {
        "id": "DTVEAqo4uG_L"
      },
      "source": [
        "# List, Set, dictionary"
      ]
    },
    {
      "cell_type": "code",
      "metadata": {
        "id": "gJfmE6JSuG_M",
        "outputId": "445a5ff6-2cf8-478a-c3f7-cf46d3428441"
      },
      "source": [
        "a=[(1,3),(4,6),(3,6),(9,7),(3,0)]\n",
        "b=[(8,9),(7,4)]\n",
        "a.append((5,8))\n",
        "a.extend(b)\n",
        "\n",
        "b = a[2:]\n",
        "\n",
        "h=zip(*a)\n",
        "print('h',h)\n",
        "\n",
        "# split the first item, second item, in different tuples in a list\n",
        "g=list(zip(*a))\n",
        "print('g',g)\n",
        "\n",
        "# split the first item, second item, in different tuples in a tuple\n",
        "i=tuple(zip(*a))\n",
        "print('i',i)\n",
        "\n",
        "# POP: produce an output\n",
        "a.pop(1)\n",
        "\n",
        "# del: does not produce any output\n",
        "del a[0]"
      ],
      "execution_count": null,
      "outputs": [
        {
          "output_type": "stream",
          "text": [
            "h <zip object at 0x10c889488>\n",
            "g [(1, 4, 3, 9, 3, 5, 8, 7), (3, 6, 6, 7, 0, 8, 9, 4)]\n",
            "i ((1, 4, 3, 9, 3, 5, 8, 7), (3, 6, 6, 7, 0, 8, 9, 4))\n"
          ],
          "name": "stdout"
        }
      ]
    },
    {
      "cell_type": "code",
      "metadata": {
        "id": "XcBCi76ZuG_R",
        "outputId": "7cdb1984-39be-400a-e3c1-15e172af58a6"
      },
      "source": [
        "# Remove\n",
        "s = set([1, 2, 3, 4, 5, 6, 7, 8, 9])\n",
        "s.remove(5)\n",
        "\n",
        "# Discard: does not produce an output\n",
        "s = set([1, 2, 3, 4, 5, 6, 7, 8, 9])\n",
        "s.discard(5)\n",
        "\n",
        "# POP: produce an output\n",
        "s = set([1])    \n",
        "print (s.pop() )"
      ],
      "execution_count": null,
      "outputs": [
        {
          "output_type": "stream",
          "text": [
            "None\n",
            "1\n"
          ],
          "name": "stdout"
        }
      ]
    },
    {
      "cell_type": "code",
      "metadata": {
        "id": "QrldoTm0uG_U"
      },
      "source": [
        "s = set(map(int, input().split())) \n",
        "# ADD\n",
        "s = set('HackerRank')\n",
        "s.add('H')\n",
        "print (s.add('HackerRank') )\n",
        "# None"
      ],
      "execution_count": null,
      "outputs": []
    },
    {
      "cell_type": "code",
      "metadata": {
        "id": "pUx_6DiQuG_X"
      },
      "source": [
        "# an example using pop, remove, discard\n",
        "n = int(input() )\n",
        "numbers = input().strip().split(\" \")\n",
        "numbers = set([int(s) for s in numbers])\n",
        "m = int(input())\n",
        "for i in range(m):\n",
        "    string = input().strip().split()\n",
        "    s = string[0]\n",
        "    if string[0] != \"pop\":\n",
        "        k = int(string[1])\n",
        "    if s == \"pop\":\n",
        "        if len(s) > 0:\n",
        "            numbers.pop()\n",
        "    if s == \"remove\":\n",
        "        if k in numbers:\n",
        "            numbers.remove(k)\n",
        "    if s == \"discard\":\n",
        "        if k in numbers:\n",
        "            numbers.discard(k)\n",
        "print(sum(numbers))\n",
        "\n",
        "\n",
        "    \n",
        "a = [1,2,31,1,1,1]\n",
        "b = Counter(a)\n",
        "b = dict(b)\n",
        "del b[1]"
      ],
      "execution_count": null,
      "outputs": []
    },
    {
      "cell_type": "markdown",
      "metadata": {
        "id": "siBsctjsPi06"
      },
      "source": [
        "# String"
      ]
    },
    {
      "cell_type": "code",
      "metadata": {
        "id": "CABMBobbPj8D"
      },
      "source": [
        "'sff    sflll   4444'.split(' ', 1)"
      ],
      "execution_count": null,
      "outputs": []
    },
    {
      "cell_type": "markdown",
      "metadata": {
        "id": "tgb2fyzZO0V9"
      },
      "source": [
        "# Class in Python"
      ]
    },
    {
      "cell_type": "markdown",
      "metadata": {
        "id": "EH-blXUpO61C"
      },
      "source": [
        "#Class, super\n",
        "https://realpython.com/python-super/\n",
        "\n",
        "## @classmethod, \n",
        "\n",
        "check [here](https://stackoverflow.com/questions/12179271/meaning-of-classmethod-and-staticmethod-for-beginner)"
      ]
    },
    {
      "cell_type": "markdown",
      "metadata": {
        "id": "iLySo6mrFduS"
      },
      "source": [
        "# Decorators in Python\n",
        "\n",
        "https://www.geeksforgeeks.org/decorators-in-python/"
      ]
    },
    {
      "cell_type": "code",
      "metadata": {
        "id": "855XFcGpO4Z6",
        "colab": {
          "base_uri": "https://localhost:8080/"
        },
        "outputId": "12261af5-9c2a-4c47-9a31-b356784b345b"
      },
      "source": [
        "# importing libraries \n",
        "import time \n",
        "import math \n",
        "\n",
        "# decorator to calculate duration \n",
        "# taken by any function. \n",
        "def calculate_time(func): \n",
        "\t\n",
        "\t# added arguments inside the inner1, \n",
        "\t# if function takes any arguments, \n",
        "\t# can be added like this. \n",
        "\tdef inner1(*args, **kwargs): \n",
        "\n",
        "\t\t# storing time before function execution \n",
        "\t\tbegin = time.time() \n",
        "\t\t\n",
        "\t\tfunc(*args, **kwargs) \n",
        "\n",
        "\t\t# storing time after function execution \n",
        "\t\tend = time.time() \n",
        "\t\tprint(\"Total time taken in : \", func.__name__, end - begin) \n",
        "\n",
        "\treturn inner1 \n",
        "\n",
        "\n",
        "\n",
        "# this can be added to any function present, \n",
        "# in this case to calculate a factorial \n",
        "@calculate_time\n",
        "def factorial(num): \n",
        "\n",
        "\t# sleep 2 seconds because it takes very less time \n",
        "\t# so that you can see the actual difference \n",
        "\ttime.sleep(2) \n",
        "\tprint(math.factorial(num)) \n",
        "\n",
        "# calling the function. \n",
        "factorial(10) \n"
      ],
      "execution_count": null,
      "outputs": [
        {
          "output_type": "stream",
          "text": [
            "3628800\n",
            "Total time taken in :  factorial 2.002305507659912\n"
          ],
          "name": "stdout"
        }
      ]
    },
    {
      "cell_type": "code",
      "metadata": {
        "colab": {
          "base_uri": "https://localhost:8080/"
        },
        "id": "-mAUb2Ro6HXv",
        "outputId": "fccea55f-8771-4ed0-81a9-878bb7773dc9"
      },
      "source": [
        "import time \n",
        "import math \n",
        "\n",
        "# decorator to calculate duration \n",
        "# taken by any function. \n",
        "def calculate_time(func): \n",
        "\n",
        "\tdef inner1(*args, **kwargs): \n",
        "\n",
        "\t\t# storing time before function execution \n",
        "\t\tbegin = time.time() \n",
        "\t\tfunc(*args, **kwargs) \n",
        "\n",
        "\t\t# storing time after function execution \n",
        "\t\tend = time.time() \n",
        "\t\tprint(\"Total time taken in : \", func.__name__, end - begin) \n",
        "\n",
        "\treturn inner1 \n",
        "\n",
        "@calculate_time\n",
        "def factorial(num): \n",
        "\n",
        "\ttime.sleep(2) \n",
        "\tprint(math.factorial(num)) \n",
        "\n",
        "# calling the function. \n",
        "factorial(10) \n"
      ],
      "execution_count": null,
      "outputs": [
        {
          "output_type": "stream",
          "text": [
            "3628800\n",
            "Total time taken in :  factorial 2.002190589904785\n"
          ],
          "name": "stdout"
        }
      ]
    },
    {
      "cell_type": "code",
      "metadata": {
        "id": "LjzENagz-Fit"
      },
      "source": [
        "import time\n",
        "\n",
        "def myDecorator(func):\n",
        "\n",
        "    def inner(*args, **kwargs):\n",
        "\n",
        "        begin = time.time()\n",
        "\n",
        "        func(*args, **kwargs)\n",
        "\n",
        "        end = time.time()\n",
        "\n",
        "\n",
        "    return inner\n",
        "\n",
        "@myDecorator\n",
        "def add(a,b):\n",
        "    return a+b\n",
        "\n",
        "add(8,9)"
      ],
      "execution_count": null,
      "outputs": []
    },
    {
      "cell_type": "markdown",
      "metadata": {
        "id": "Oo9w3IHUe73_"
      },
      "source": [
        "## Staticmethod"
      ]
    },
    {
      "cell_type": "code",
      "metadata": {
        "colab": {
          "base_uri": "https://localhost:8080/"
        },
        "id": "IrAOSYLoe-C9",
        "outputId": "9138c197-e626-4d0a-c51b-a43e1131a3ff"
      },
      "source": [
        "class Student():\n",
        "    def __init__(self,mark):\n",
        "        self.mark = mark\n",
        "\n",
        "    @staticmethod\n",
        "    def find_min(mark):\n",
        "        return min(mark, 100)\n",
        "\n",
        "print(Student.find_min(20))\n",
        "\n"
      ],
      "execution_count": null,
      "outputs": [
        {
          "output_type": "stream",
          "text": [
            "20\n"
          ],
          "name": "stdout"
        }
      ]
    },
    {
      "cell_type": "markdown",
      "metadata": {
        "id": "-J-KujpwOdo-"
      },
      "source": [
        "# and, or, bytwise transformations"
      ]
    },
    {
      "cell_type": "code",
      "metadata": {
        "id": "21NB4eKPOhlH"
      },
      "source": [
        "# You can use | and & here\n",
        "A = set({1,2,3}) \n",
        "B = {3,4}\n",
        "A &= B\n",
        "A\n",
        "\n",
        "A = set({1,2,3}) \n",
        "B = {3,4}\n",
        "A |= B\n",
        "A"
      ],
      "execution_count": null,
      "outputs": []
    },
    {
      "cell_type": "markdown",
      "metadata": {
        "id": "bGagoCuxuG_a"
      },
      "source": [
        "# Default Dict\n",
        "Using defaultdict you can define a new key and evaluate the value at the same time.\n"
      ]
    },
    {
      "cell_type": "code",
      "metadata": {
        "id": "L-5Dy2VRuG_b",
        "outputId": "2b09203c-af06-4478-ae84-ba8fdbab3d60"
      },
      "source": [
        "from collections import defaultdict\n",
        "A = defaultdict()\n",
        "A['a'] = 3\n",
        "A['b'] = 5\n",
        "print(A)"
      ],
      "execution_count": null,
      "outputs": [
        {
          "output_type": "stream",
          "text": [
            "defaultdict(None, {'a': 3, 'b': 5})\n"
          ],
          "name": "stdout"
        }
      ]
    },
    {
      "cell_type": "code",
      "metadata": {
        "id": "tXWEWFQXuG_e"
      },
      "source": [
        "from collections import defaultdict as ddict\n",
        "def metroCard(l):\n",
        "\n",
        "    monthsLen = [31, 28, 31, 30, 31, 30, 31, 31, 30, 31, 30, 31]\n",
        "    nextm = ddict(set)\n",
        "    \n",
        "    for i in range(12):\n",
        "        nextm[monthsLen[i]].add(monthsLen[(i+1) % 12])\n",
        "        pass\n",
        "    print(nextm)\n",
        "    return nextm "
      ],
      "execution_count": null,
      "outputs": []
    },
    {
      "cell_type": "markdown",
      "metadata": {
        "id": "Lb3OxJwguG_h"
      },
      "source": [
        "# Defaultdict of Defaultdict\n",
        "Here is the link to stackoverflow link:\n",
        "https://stackoverflow.com/questions/5029934/python-defaultdict-of-defaultdict"
      ]
    },
    {
      "cell_type": "code",
      "metadata": {
        "id": "SBRVVKzUuG_i"
      },
      "source": [
        ""
      ],
      "execution_count": null,
      "outputs": []
    },
    {
      "cell_type": "code",
      "metadata": {
        "id": "KCsrJLcNuG_m",
        "outputId": "55a4a222-6ce6-418e-819d-90864c39d1a6"
      },
      "source": [
        "# A nice trick to connect lists together\n",
        "#weighted random choice\n",
        "import random\n",
        "from functools import reduce\n",
        "\n",
        "weighted_choice = lambda s : random.choice(reduce(lambda c,x: c+x, [[v]*wt for (v,wt) in s], []))\n",
        "# define choices and relative weights\n",
        "choices = [(\"WHITE\",5), (\"RED\",3),(\"GREEN\",2)]\n",
        "\n",
        "# initialize tally dict\n",
        "tally = dict.fromkeys([x[0] for x in choices],0)\n",
        "\n",
        "# tally up 1000 weighted choices\n",
        "for i in range(10000):\n",
        "    tally[weighted_choice(choices)] += 1\n",
        "\n",
        "print( tally.items() )"
      ],
      "execution_count": null,
      "outputs": [
        {
          "output_type": "stream",
          "text": [
            "GREEN\n",
            "dict_items([('WHITE', 4999), ('RED', 3000), ('GREEN', 2001)])\n"
          ],
          "name": "stdout"
        }
      ]
    },
    {
      "cell_type": "markdown",
      "metadata": {
        "id": "I0R2vyTCuG_p"
      },
      "source": [
        "# Functions"
      ]
    },
    {
      "cell_type": "code",
      "metadata": {
        "id": "RZBYdN9DuG_q",
        "outputId": "97831be4-9c86-4ffb-d918-7505b90b5511"
      },
      "source": [
        "import itertools\n",
        "class gene(object):\n",
        "    def __init__(self):\n",
        "\n",
        "        self.a = itertools.count(1,1)\n",
        "    \n",
        "    def make(self,i):\n",
        "        if i % 2 == 0:\n",
        "            return next(self.a)\n",
        "        else:\n",
        "            return self.a\n",
        "    \n",
        "gigi = gene()\n",
        "for i in range(20):\n",
        "    print(gigi.make(i))"
      ],
      "execution_count": null,
      "outputs": [
        {
          "output_type": "stream",
          "text": [
            "1\n",
            "count(2)\n",
            "2\n",
            "count(3)\n",
            "3\n",
            "count(4)\n",
            "4\n",
            "count(5)\n",
            "5\n",
            "count(6)\n",
            "6\n",
            "count(7)\n",
            "7\n",
            "count(8)\n",
            "8\n",
            "count(9)\n",
            "9\n",
            "count(10)\n",
            "10\n",
            "count(11)\n"
          ],
          "name": "stdout"
        }
      ]
    },
    {
      "cell_type": "code",
      "metadata": {
        "id": "vAXA_aXuuG_t",
        "outputId": "aa7168af-2562-4de3-8fcf-92355a8a0504"
      },
      "source": [
        "def f(a,b):\n",
        "    return a+b\n",
        "\n",
        "xx = 'f'\n",
        "print(eval('%s(%s,%s)'%(xx,2,3)))\n",
        "\n",
        "\n",
        "funcdict = {'myvar': f}\n",
        "\n",
        "h = funcdict['myvar'](3, 4)\n",
        "print(h)"
      ],
      "execution_count": null,
      "outputs": [
        {
          "output_type": "stream",
          "text": [
            "5\n",
            "7\n"
          ],
          "name": "stdout"
        }
      ]
    },
    {
      "cell_type": "code",
      "metadata": {
        "id": "3iUEGJz3uG_v"
      },
      "source": [
        "# -*- coding: utf-8 -*-\n",
        "\"\"\"\n",
        "Created on Mon Nov 21 02:30:25 2016\n",
        "\n",
        "@author: 15\n",
        "\"\"\"\n",
        "\n",
        "def game(response1 , response2):\n",
        "               \n",
        "    if  response1 == 1 and response2 == 1:\n",
        "        x =2\n",
        "        y =1\n",
        "    elif  response1 == 2 and response2 == 2:\n",
        "        x =1\n",
        "        y =2 \n",
        "    else:\n",
        "        x=0\n",
        "        y=0  \n",
        "        \n",
        "    return x, y\n",
        "\n",
        "def change(*A):\n",
        "    for i in range(len(A)):\n",
        "        if A[i] == 4:\n",
        "            A[i] = 100\n",
        "            \n",
        "def try_to_change_list_contents(the_list):\n",
        "    print('got', the_list)\n",
        "    the_list.append('four')\n",
        "    print('changed to', the_list)\n",
        "\n",
        "\n",
        "if __name__ == \"__main__\":\n",
        "    \n",
        "    (m, n)= game(1,1) \n",
        "    print (m, \" \",n)\n",
        "    print (game(1,2) )\n",
        "    print (game(2,2) )\n",
        "    \n",
        "    A = [6,5,4,3,5,7,34,3,2,6]\n",
        "    change(A)\n",
        "    \n",
        "    outer_list = ['one', 'two', 'three']\n",
        "\n",
        "    print('before, outer_list =', outer_list)\n",
        "    try_to_change_list_contents(outer_list)\n",
        "    print('after, outer_list =', outer_list)"
      ],
      "execution_count": null,
      "outputs": []
    },
    {
      "cell_type": "markdown",
      "metadata": {
        "id": "_0Y2UbSKuG_y"
      },
      "source": [
        "# Linked List"
      ]
    },
    {
      "cell_type": "code",
      "metadata": {
        "collapsed": true,
        "id": "WVHNIHnEuG_z"
      },
      "source": [
        "class Node(object):\n",
        "\n",
        "    def __init__(self, data=None, next_node=None):\n",
        "        self.data = data\n",
        "        self.next_node = next_node\n",
        "\n",
        "    def get_data(self):\n",
        "        return self.data\n",
        "\n",
        "    def get_next(self):\n",
        "        return self.next_node\n",
        "\n",
        "    def set_next(self, new_next):\n",
        "        self.next_node = new_next\n",
        "        \n",
        "        \n",
        "        \n",
        "class LinkedList(object):\n",
        "    def __init__(self, head=None):\n",
        "        self.head = head\n",
        "        \n",
        "        \n",
        "    def insert(self, data):\n",
        "        new_node = Node(data)\n",
        "        new_node.set_next(self.head)\n",
        "        self.head = new_node\n",
        "        \n",
        "    def size(self):\n",
        "        current = self.head\n",
        "        count = 0\n",
        "        while current:\n",
        "            count += 1\n",
        "            current = current.get_next()\n",
        "        return count\n",
        "    \n",
        "    def search(self, data):\n",
        "        current = self.head\n",
        "        found = False\n",
        "        while current and found is False:\n",
        "            if current.get_data() == data:\n",
        "                found = True\n",
        "            else:\n",
        "                current = current.get_next()\n",
        "        if current is None:\n",
        "            raise ValueError(\"Data not in list\")\n",
        "        return current\n",
        "    def delete(self, data):\n",
        "        current = self.head\n",
        "        previous = None\n",
        "        found = False\n",
        "        while current and found is False:\n",
        "            if current.get_data() == data:\n",
        "                found = True\n",
        "            else:\n",
        "                previous = current\n",
        "                current = current.get_next()\n",
        "        if current is None:\n",
        "            raise ValueError(\"Data not in list\")\n",
        "        if previous is None:\n",
        "            self.head = current.get_next()\n",
        "        else:\n",
        "            previous.set_next(current.get_next())"
      ],
      "execution_count": null,
      "outputs": []
    },
    {
      "cell_type": "markdown",
      "metadata": {
        "id": "jTucOfSBuG_2"
      },
      "source": [
        "# Reduce"
      ]
    },
    {
      "cell_type": "code",
      "metadata": {
        "id": "tEIqZMpxuG_3",
        "outputId": "791ce42c-6ad1-4323-f94a-180bd524660b"
      },
      "source": [
        "reduce(lambda x,y: (x+1)*y,[1,2,3,4])"
      ],
      "execution_count": null,
      "outputs": [
        {
          "output_type": "execute_result",
          "data": {
            "text/plain": [
              "64"
            ]
          },
          "metadata": {
            "tags": []
          },
          "execution_count": 32
        }
      ]
    },
    {
      "cell_type": "code",
      "metadata": {
        "id": "092IRy3HOr8y"
      },
      "source": [
        "from functools import reduce\n",
        "def add(x,y):\n",
        "    return x+y\n",
        "reduce(add,[1,12,4,6])"
      ],
      "execution_count": null,
      "outputs": []
    },
    {
      "cell_type": "code",
      "metadata": {
        "id": "5ho5DVwnuG_6",
        "outputId": "d634513f-44d6-4be9-ce09-3d2d94815d48"
      },
      "source": [
        "from functools import reduce\n",
        "a = [[1,2,3], [4,5,6], [7,8,9]]\n",
        "reduce(lambda c, x: c + x, a, [])\n",
        "b=[*x for x in a]\n",
        "print(b)"
      ],
      "execution_count": null,
      "outputs": [
        {
          "output_type": "error",
          "ename": "SyntaxError",
          "evalue": "iterable unpacking cannot be used in comprehension (<ipython-input-21-9e53eb0e36f7>, line 4)",
          "traceback": [
            "\u001b[0;36m  File \u001b[0;32m\"<ipython-input-21-9e53eb0e36f7>\"\u001b[0;36m, line \u001b[0;32m4\u001b[0m\n\u001b[0;31m    b=[*x for x in a]\u001b[0m\n\u001b[0m      ^\u001b[0m\n\u001b[0;31mSyntaxError\u001b[0m\u001b[0;31m:\u001b[0m iterable unpacking cannot be used in comprehension\n"
          ]
        }
      ]
    },
    {
      "cell_type": "code",
      "metadata": {
        "id": "K_ggkolhuG_9"
      },
      "source": [
        "from functools import reduce\n",
        "# initialization can be as input\n",
        "def fib(n):\n",
        "    return reduce(lambda x,_: [x[1], x[0] + x[1]], range(n),range(n+1))[0]\n",
        "\n",
        "fib(10)"
      ],
      "execution_count": null,
      "outputs": []
    },
    {
      "cell_type": "code",
      "metadata": {
        "id": "cOpIz9ajuG__",
        "outputId": "1aa26ba3-8234-4dee-932e-5da3f685995e"
      },
      "source": [
        "ranges = [range(i) for i in range(5)]\n",
        "Are = [*item for item in ranges]\n",
        "B = {*item for item in ranges}\n"
      ],
      "execution_count": null,
      "outputs": [
        {
          "output_type": "error",
          "ename": "SyntaxError",
          "evalue": "iterable unpacking cannot be used in comprehension (<ipython-input-25-87eb5c832203>, line 2)",
          "traceback": [
            "\u001b[0;36m  File \u001b[0;32m\"<ipython-input-25-87eb5c832203>\"\u001b[0;36m, line \u001b[0;32m2\u001b[0m\n\u001b[0;31m    Are = [*item for item in ranges]\u001b[0m\n\u001b[0m          ^\u001b[0m\n\u001b[0;31mSyntaxError\u001b[0m\u001b[0;31m:\u001b[0m iterable unpacking cannot be used in comprehension\n"
          ]
        }
      ]
    },
    {
      "cell_type": "markdown",
      "metadata": {
        "id": "zQ8FEz_ePYv3"
      },
      "source": [
        "# groupby"
      ]
    },
    {
      "cell_type": "code",
      "metadata": {
        "id": "p5a9S_oGPXsp"
      },
      "source": [
        "# [k for k, g in groupby('AAAABBBCCDAABBB')] --> A B C D A B\n",
        "# [list(g) for k, g in groupby('AAAABBBCCD')] --> AAAA BBB CC D\n",
        "data = [2,2,3,1,2,1,1,1,6,7]\n",
        "for key,val in groupby(data):\n",
        "    print(key, [v for v in val])"
      ],
      "execution_count": null,
      "outputs": []
    },
    {
      "cell_type": "code",
      "metadata": {
        "id": "VJH_iMHuPp0k"
      },
      "source": [
        "from operator import itemgetter\n",
        "for key,val in groupby(data,itemgetter(0)):\n",
        "    print(key, [v for v in val])"
      ],
      "execution_count": null,
      "outputs": []
    },
    {
      "cell_type": "markdown",
      "metadata": {
        "id": "um7iH_iwuHAC"
      },
      "source": [
        "# Time"
      ]
    },
    {
      "cell_type": "code",
      "metadata": {
        "id": "jLO9XeYSuHAD",
        "outputId": "3f19dd19-e2cb-4440-bd4a-1e39c68b8b0b"
      },
      "source": [
        "import time\n",
        "start_time = time.time()\n",
        "\n",
        "for i in range(10000):\n",
        "    for j in range(10000):\n",
        "        if 1 == 2 :\n",
        "            print(\"impossible\")\n",
        "\n",
        "print(\"--- %.5f seconds ---\" % (time.time() - start_time))"
      ],
      "execution_count": null,
      "outputs": [
        {
          "output_type": "stream",
          "text": [
            "--- 5.65327 seconds ---\n"
          ],
          "name": "stdout"
        }
      ]
    },
    {
      "cell_type": "markdown",
      "metadata": {
        "id": "9ribgB6MfyrG"
      },
      "source": [
        "Fraction, gcd"
      ]
    },
    {
      "cell_type": "code",
      "metadata": {
        "id": "EIuYg8uef0fU",
        "colab": {
          "base_uri": "https://localhost:8080/"
        },
        "outputId": "c4d6f452-e5e7-44d2-c3ff-050787f06bed"
      },
      "source": [
        "from fractions import Fraction\n",
        "Fraction(4,6)"
      ],
      "execution_count": null,
      "outputs": [
        {
          "output_type": "execute_result",
          "data": {
            "text/plain": [
              "Fraction(2, 3)"
            ]
          },
          "metadata": {
            "tags": []
          },
          "execution_count": 3
        }
      ]
    },
    {
      "cell_type": "markdown",
      "metadata": {
        "id": "CudGKSdMSGfP"
      },
      "source": [
        "# Numpy"
      ]
    },
    {
      "cell_type": "code",
      "metadata": {
        "colab": {
          "base_uri": "https://localhost:8080/"
        },
        "id": "_AzJX_jlSH3R",
        "outputId": "f170ebe1-b263-47b2-f92e-e56b6c400485"
      },
      "source": [
        "import numpy as np\n",
        "np.cumsum([1,2,3])"
      ],
      "execution_count": null,
      "outputs": [
        {
          "output_type": "execute_result",
          "data": {
            "text/plain": [
              "array([1, 3, 6])"
            ]
          },
          "metadata": {
            "tags": []
          },
          "execution_count": 1
        }
      ]
    },
    {
      "cell_type": "markdown",
      "metadata": {
        "id": "rom4wMsIuHAF"
      },
      "source": [
        "# Panda - Anything I need to know"
      ]
    },
    {
      "cell_type": "code",
      "metadata": {
        "id": "x_mu_pY0uHAG",
        "outputId": "2b23857f-38b2-41cb-e6a7-22aaf292c87e"
      },
      "source": [
        ""
      ],
      "execution_count": null,
      "outputs": [
        {
          "output_type": "stream",
          "text": [
            "  Color State\n",
            "0   Red    MA\n",
            "1   Red    PA\n",
            "2  Blue    PA\n",
            "  Color  Count\n",
            "0   Red      2\n",
            "1  Blue      1\n",
            "   length    name  weight\n",
            "0      32    Asad      54\n",
            "1      45   Javad      32\n",
            "2      65   naghi      11\n",
            "3      12  Khasha      79\n",
            "4      34   Arvin     100 \n",
            "\n",
            "     name  length\n",
            "0    Asad      32\n",
            "1   Javad      45\n",
            "2   naghi      65\n",
            "3  Khasha      12\n",
            "4   Arvin      34\n",
            "[['Asad' 54]\n",
            " ['Javad' 32]\n",
            " ['naghi' 11]\n",
            " ['Khasha' 79]\n",
            " ['Arvin' 100]]\n"
          ],
          "name": "stdout"
        },
        {
          "output_type": "execute_result",
          "data": {
            "text/plain": [
              "length      32\n",
              "name      Asad\n",
              "weight      54\n",
              "Name: 0, dtype: object"
            ]
          },
          "metadata": {
            "tags": []
          },
          "execution_count": 33
        }
      ]
    },
    {
      "cell_type": "markdown",
      "metadata": {
        "id": "vwP6t4AwuHAL"
      },
      "source": [
        "# Itertools"
      ]
    },
    {
      "cell_type": "code",
      "metadata": {
        "id": "_UYat3-zPFIA"
      },
      "source": [
        "from itertools import groupby\n",
        "from operator import itemgetter\n",
        "import sys\n",
        "\n",
        "def read_input(file, encoding='utf-8'):\n",
        "    for line in file:\n",
        "        yield line.decode(encoding)\n",
        "\n",
        "def write_line(line, encoding='utf-8'):\n",
        "    sys.stdout.buffer.write((line + '\\n').encode(encoding))\n",
        "\n",
        "def main(separator='\\t'):\n",
        "    data = map(lambda line: line.split(separator, 1),\n",
        "               read_input(sys.stdin.buffer))\n",
        "    for current_word, group in groupby(data, itemgetter(0)):\n",
        "        total_count = sum(int(count) for _, count in group)\n",
        "        write_line(\"%s%s%d\" % (current_word, separator, total_count))"
      ],
      "execution_count": null,
      "outputs": []
    },
    {
      "cell_type": "code",
      "metadata": {
        "id": "oIDc0XuluHAM",
        "outputId": "ab1ed9fb-8a86-4f13-eb4a-fee4e4460813"
      },
      "source": [
        "import itertools\n",
        "import numpy as np\n",
        "\n",
        "#part 1 Product\n",
        "print( list(itertools.product([1,2,3],repeat = 2)) ,'\\n')\n",
        "print( list(itertools.product([1,2,3],[3,4])),'\\n')\n",
        "A = [[1,2,3],[3,4,5]]\n",
        "print( list(itertools.product(*A)),'\\n')\n",
        "B = [[0,1],[0,1],[0,1]]\n",
        "print( list(itertools.product(*B)),'\\n')\n",
        "\n",
        "# Hackerrank itertools 1\n",
        "A =  list(map(int,input().strip().split(' ')))\n",
        "B = list( map(int,input().strip().split(' ')))\n",
        "C = list(itertools.product(A,B))\n",
        "D = [ str(c) for c in C]\n",
        "#print(' '.join(D))\n",
        "#part 2 Permutation\n",
        "horses = [1, 2, 3, 4]\n",
        "races = itertools.permutations(horses)\n",
        "print( list(itertools.permutations(horses)),'\\n')\n",
        "print (list(itertools.permutations(['1','2','3'])) )\n",
        "print (list(itertools.permutations(['1','2','3'],2)) )\n",
        "print (list(itertools.permutations('abcdef',3)))\n",
        "\n",
        "# Hackerrank itertools 2\n",
        "string, n = input().strip().split(' ')\n",
        "n = int(n)\n",
        "out = list(itertools.permutations(string, n))\n",
        "sorted_out = sorted(out)\n",
        "for i in range(len(sorted_out)):\n",
        "    print(''.join(sorted_out[i]))\n",
        "\n",
        "# Hackerrank itertools 3    \n",
        "string, n = input().strip().split(' ')\n",
        "n = int(n)\n",
        "output_list =[]\n",
        "for i in range(1,n+1):\n",
        "    raw_list = list(itertools.combinations(string, i))\n",
        "    sorted_element_list = [sorted(s) for s in raw_list]\n",
        "    sorted_out = sorted(sorted_element_list)\n",
        "    output_list.extend(sorted_out)\n",
        "for i in range(len(output_list)):\n",
        "    print(''.join(sorted(output_list[i])))\n",
        "\n",
        "# Hackerrank itertools 4-combinations\n",
        "string, n = input().strip().split(' ')\n",
        "n = int(n)\n",
        "output_list =[]\n",
        "\n",
        "raw_list = list(itertools.combinations_with_replacement(string, n))\n",
        "sorted_element_list = [sorted(s) for s in raw_list]\n",
        "sorted_out = sorted(sorted_element_list)\n",
        "output_list.extend(sorted_out)\n",
        "for i in range(len(output_list)):\n",
        "    print(''.join(sorted(output_list[i])))\n",
        "\n",
        "# Hackerrank itertools 4-groupby\n",
        "a = input()\n",
        "b= itertools.groupby(a)\n",
        "\n",
        "c = [str((len( list(j) ) ,int(i) ))  for (i,j) in b]\n",
        "\n",
        "d = ' '.join(c) \n",
        "print(d)\n",
        "\n",
        "# Hackerrank itertools 6-\n",
        "\n",
        "k, m = input().strip().split(' ')\n",
        "k = int(k)\n",
        "m = int(m)\n",
        "temp = []\n",
        "for i in range(k):\n",
        "    temp.append( input().strip().split(' ') )\n",
        "    temp[-1].pop(0)\n",
        "    temp[-1] = [ int(x) for x in temp[-1]]\n",
        "sets = list(itertools.product(*temp))\n",
        "\n",
        "solution = 0\n",
        "for s in sets:\n",
        "    if sum([x**2 for x in s]) % m > solution:\n",
        "        solution = sum([x**2 for x in s]) % m\n",
        "print(solution)\n",
        "\n",
        "\n",
        "\n"
      ],
      "execution_count": null,
      "outputs": [
        {
          "output_type": "stream",
          "text": [
            "[(1, 1), (1, 2), (1, 3), (2, 1), (2, 2), (2, 3), (3, 1), (3, 2), (3, 3)] \n",
            "\n",
            "[(1, 3), (1, 4), (2, 3), (2, 4), (3, 3), (3, 4)] \n",
            "\n",
            "[(1, 3), (1, 4), (1, 5), (2, 3), (2, 4), (2, 5), (3, 3), (3, 4), (3, 5)] \n",
            "\n",
            "[(0, 0, 0), (0, 0, 1), (0, 1, 0), (0, 1, 1), (1, 0, 0), (1, 0, 1), (1, 1, 0), (1, 1, 1)] \n",
            "\n",
            "56\n",
            "4\n",
            "[(1, 2, 3, 4), (1, 2, 4, 3), (1, 3, 2, 4), (1, 3, 4, 2), (1, 4, 2, 3), (1, 4, 3, 2), (2, 1, 3, 4), (2, 1, 4, 3), (2, 3, 1, 4), (2, 3, 4, 1), (2, 4, 1, 3), (2, 4, 3, 1), (3, 1, 2, 4), (3, 1, 4, 2), (3, 2, 1, 4), (3, 2, 4, 1), (3, 4, 1, 2), (3, 4, 2, 1), (4, 1, 2, 3), (4, 1, 3, 2), (4, 2, 1, 3), (4, 2, 3, 1), (4, 3, 1, 2), (4, 3, 2, 1)] \n",
            "\n",
            "[('1', '2', '3'), ('1', '3', '2'), ('2', '1', '3'), ('2', '3', '1'), ('3', '1', '2'), ('3', '2', '1')]\n",
            "[('1', '2'), ('1', '3'), ('2', '1'), ('2', '3'), ('3', '1'), ('3', '2')]\n",
            "[('a', 'b', 'c'), ('a', 'b', 'd'), ('a', 'b', 'e'), ('a', 'b', 'f'), ('a', 'c', 'b'), ('a', 'c', 'd'), ('a', 'c', 'e'), ('a', 'c', 'f'), ('a', 'd', 'b'), ('a', 'd', 'c'), ('a', 'd', 'e'), ('a', 'd', 'f'), ('a', 'e', 'b'), ('a', 'e', 'c'), ('a', 'e', 'd'), ('a', 'e', 'f'), ('a', 'f', 'b'), ('a', 'f', 'c'), ('a', 'f', 'd'), ('a', 'f', 'e'), ('b', 'a', 'c'), ('b', 'a', 'd'), ('b', 'a', 'e'), ('b', 'a', 'f'), ('b', 'c', 'a'), ('b', 'c', 'd'), ('b', 'c', 'e'), ('b', 'c', 'f'), ('b', 'd', 'a'), ('b', 'd', 'c'), ('b', 'd', 'e'), ('b', 'd', 'f'), ('b', 'e', 'a'), ('b', 'e', 'c'), ('b', 'e', 'd'), ('b', 'e', 'f'), ('b', 'f', 'a'), ('b', 'f', 'c'), ('b', 'f', 'd'), ('b', 'f', 'e'), ('c', 'a', 'b'), ('c', 'a', 'd'), ('c', 'a', 'e'), ('c', 'a', 'f'), ('c', 'b', 'a'), ('c', 'b', 'd'), ('c', 'b', 'e'), ('c', 'b', 'f'), ('c', 'd', 'a'), ('c', 'd', 'b'), ('c', 'd', 'e'), ('c', 'd', 'f'), ('c', 'e', 'a'), ('c', 'e', 'b'), ('c', 'e', 'd'), ('c', 'e', 'f'), ('c', 'f', 'a'), ('c', 'f', 'b'), ('c', 'f', 'd'), ('c', 'f', 'e'), ('d', 'a', 'b'), ('d', 'a', 'c'), ('d', 'a', 'e'), ('d', 'a', 'f'), ('d', 'b', 'a'), ('d', 'b', 'c'), ('d', 'b', 'e'), ('d', 'b', 'f'), ('d', 'c', 'a'), ('d', 'c', 'b'), ('d', 'c', 'e'), ('d', 'c', 'f'), ('d', 'e', 'a'), ('d', 'e', 'b'), ('d', 'e', 'c'), ('d', 'e', 'f'), ('d', 'f', 'a'), ('d', 'f', 'b'), ('d', 'f', 'c'), ('d', 'f', 'e'), ('e', 'a', 'b'), ('e', 'a', 'c'), ('e', 'a', 'd'), ('e', 'a', 'f'), ('e', 'b', 'a'), ('e', 'b', 'c'), ('e', 'b', 'd'), ('e', 'b', 'f'), ('e', 'c', 'a'), ('e', 'c', 'b'), ('e', 'c', 'd'), ('e', 'c', 'f'), ('e', 'd', 'a'), ('e', 'd', 'b'), ('e', 'd', 'c'), ('e', 'd', 'f'), ('e', 'f', 'a'), ('e', 'f', 'b'), ('e', 'f', 'c'), ('e', 'f', 'd'), ('f', 'a', 'b'), ('f', 'a', 'c'), ('f', 'a', 'd'), ('f', 'a', 'e'), ('f', 'b', 'a'), ('f', 'b', 'c'), ('f', 'b', 'd'), ('f', 'b', 'e'), ('f', 'c', 'a'), ('f', 'c', 'b'), ('f', 'c', 'd'), ('f', 'c', 'e'), ('f', 'd', 'a'), ('f', 'd', 'b'), ('f', 'd', 'c'), ('f', 'd', 'e'), ('f', 'e', 'a'), ('f', 'e', 'b'), ('f', 'e', 'c'), ('f', 'e', 'd')]\n",
            "5\n"
          ],
          "name": "stdout"
        },
        {
          "output_type": "error",
          "ename": "ValueError",
          "evalue": "not enough values to unpack (expected 2, got 1)",
          "traceback": [
            "\u001b[0;31m---------------------------------------------------------------------------\u001b[0m",
            "\u001b[0;31mValueError\u001b[0m                                Traceback (most recent call last)",
            "\u001b[0;32m<ipython-input-35-b5045ef8369e>\u001b[0m in \u001b[0;36m<module>\u001b[0;34m()\u001b[0m\n\u001b[1;32m     25\u001b[0m \u001b[0;34m\u001b[0m\u001b[0m\n\u001b[1;32m     26\u001b[0m \u001b[0;31m# Hackerrank itertools 2\u001b[0m\u001b[0;34m\u001b[0m\u001b[0;34m\u001b[0m\u001b[0m\n\u001b[0;32m---> 27\u001b[0;31m \u001b[0mstring\u001b[0m\u001b[0;34m,\u001b[0m \u001b[0mn\u001b[0m \u001b[0;34m=\u001b[0m \u001b[0minput\u001b[0m\u001b[0;34m(\u001b[0m\u001b[0;34m)\u001b[0m\u001b[0;34m.\u001b[0m\u001b[0mstrip\u001b[0m\u001b[0;34m(\u001b[0m\u001b[0;34m)\u001b[0m\u001b[0;34m.\u001b[0m\u001b[0msplit\u001b[0m\u001b[0;34m(\u001b[0m\u001b[0;34m' '\u001b[0m\u001b[0;34m)\u001b[0m\u001b[0;34m\u001b[0m\u001b[0m\n\u001b[0m\u001b[1;32m     28\u001b[0m \u001b[0mn\u001b[0m \u001b[0;34m=\u001b[0m \u001b[0mint\u001b[0m\u001b[0;34m(\u001b[0m\u001b[0mn\u001b[0m\u001b[0;34m)\u001b[0m\u001b[0;34m\u001b[0m\u001b[0m\n\u001b[1;32m     29\u001b[0m \u001b[0mout\u001b[0m \u001b[0;34m=\u001b[0m \u001b[0mlist\u001b[0m\u001b[0;34m(\u001b[0m\u001b[0mitertools\u001b[0m\u001b[0;34m.\u001b[0m\u001b[0mpermutations\u001b[0m\u001b[0;34m(\u001b[0m\u001b[0mstring\u001b[0m\u001b[0;34m,\u001b[0m \u001b[0mn\u001b[0m\u001b[0;34m)\u001b[0m\u001b[0;34m)\u001b[0m\u001b[0;34m\u001b[0m\u001b[0m\n",
            "\u001b[0;31mValueError\u001b[0m: not enough values to unpack (expected 2, got 1)"
          ]
        }
      ]
    },
    {
      "cell_type": "code",
      "metadata": {
        "id": "9VOGWIK9uHAP",
        "outputId": "d5ddbfc9-f002-409f-8e4a-d439e890f55b"
      },
      "source": [
        "#Permutation\n",
        "import itertools\n",
        "\n",
        "if __name__ == \"__main__\":\n",
        "    string, n = input().strip().split(' ')\n",
        "    n = int(n)\n",
        "    out = list(itertools.permutations(string, n))\n",
        "    sorted_out = sorted(out)\n",
        "    for i in range(len(sorted_out)):\n",
        "        print(''.join(sorted_out[i]))\n",
        "        \n",
        "        \n",
        "        \n",
        "#Combination\n",
        "import itertools\n",
        "\n",
        "if __name__==\"__main__\":\n",
        "    string, n = input().strip().split(' ')\n",
        "    n = int(n)\n",
        "    output_list =[]\n",
        "    for i in range(1,n+1):\n",
        "        raw_list = list(itertools.combinations(string, i))\n",
        "        sorted_element_list = [sorted(s) for s in raw_list]\n",
        "        sorted_out = sorted(sorted_element_list)\n",
        "        output_list.extend(sorted_out)\n",
        "    for i in range(len(output_list)):\n",
        "        print(''.join(sorted(output_list[i])))\n",
        "        \n",
        "# Combination with replacement\n",
        "import itertools\n",
        "\n",
        "if __name__==\"__main__\":\n",
        "    string, n = input().strip().split(' ')\n",
        "    n = int(n)\n",
        "    output_list =[]\n",
        "    \n",
        "    raw_list = list(itertools.combinations_with_replacement(string, n))\n",
        "    sorted_element_list = [sorted(s) for s in raw_list]\n",
        "    sorted_out = sorted(sorted_element_list)\n",
        "    output_list.extend(sorted_out)\n",
        "    for i in range(len(output_list)):\n",
        "        print(''.join(sorted(output_list[i])))\n",
        "        \n",
        "# Compress the String!       \n",
        "import itertools\n",
        "\n",
        "\n",
        "if __name__==\"__main__\":\n",
        "    a = input()\n",
        "    b= itertools.groupby(a)\n",
        "\n",
        "    c = [str((len( list(j) ) ,int(i) ))  for (i,j) in b]\n",
        "    \n",
        "    d = ' '.join(c) \n",
        "    print(d)\n",
        "    \n",
        "#Iterables and Iterators  \n",
        "import itertools\n",
        "\n",
        "if __name__ == \"__main__\":\n",
        "    n = int( input() )\n",
        "    string = input()\n",
        "    k = int( input() )\n",
        "    count = sum([ch=='a' for ch in string])\n",
        "    combo_denaminator = len(list(itertools.combinations(range(n),k)) )\n",
        "    combo_numerator = len(list(itertools.combinations(range(n-count),k)) )\n",
        "\n",
        "    print(1-combo_numerator/combo_denaminator)\n",
        "            \n",
        "#Maximize it!\n",
        "import itertools\n",
        "\n",
        "if __name__ == \"__main__\":\n",
        "    k, m = input().strip().split(' ')\n",
        "    k = int(k)\n",
        "    m = int(m)\n",
        "    temp = []\n",
        "    for i in range(k):\n",
        "        temp.append( input().strip().split(' ') )\n",
        "        temp[-1].pop(0)\n",
        "        temp[-1] = [ int(x) for x in temp[-1]]\n",
        "    sets = list(itertools.product(*temp))\n",
        "    \n",
        "    solution = 0\n",
        "    for s in sets:\n",
        "        if sum([x**2 for x in s]) % m > solution:\n",
        "            solution = sum([x**2 for x in s]) % m\n",
        "    print(solution)           \n",
        "\n",
        "\n",
        "# Math 3\n",
        "for i in range(1,int(input())+1): #More than 2 lines will result in 0 score. Do not leave a blank line also\n",
        "    print ( int((10**i-1)/9)**2)\n",
        "\n",
        "\n",
        "# Math 4\n",
        "n = int(input() )\n",
        "m = int(input() )\n",
        "r = n % m\n",
        "q = int( (n-r)/m )\n",
        "print(q)\n",
        "print(r)\n",
        "a = (q,r)\n",
        "print(a)\n",
        "\n",
        "# Math 5\n",
        "n = int(input())\n",
        "m = int(input())\n",
        "d = int(input())\n",
        "print(n**m)\n",
        "print(n**m % d)\n",
        "\n",
        "\n",
        "# Math 6\n",
        "a = int(input())\n",
        "b = int(input())\n",
        "c = int(input())\n",
        "d = int(input())\n",
        "print(pow(a,b)+pow(c,d))\n",
        "\n",
        "\n",
        "# Math 7\n",
        "for i in range(1,int(input())): #More than 2 lines will result in 0 score. Do not leave a blank line also\n",
        "    print( i*int((10**i-1)/9) )\n",
        "\n",
        "\n",
        "\n",
        "# Collections Counter\n",
        "import collections\n",
        "\n",
        "if __name__==\"__main__\":\n",
        "    \n",
        "    \n",
        "    #Problem 1\n",
        "    n = int( input() )\n",
        "    sizes = input().strip().split(' ')\n",
        "    \n",
        "    sizes = collections.Counter(sizes)\n",
        "    sizes = {int(key): int(sizes[key]) for key in sizes}\n",
        "    #print(sizes)\n",
        "    \n",
        "    customers = int( input() )\n",
        "    #print(customers)\n",
        "    \n",
        "    customerSet =[]\n",
        "    earnedMoney = 0 \n",
        "    for customer in range(customers):\n",
        "        key, value = input().strip().split(' ')\n",
        "        key = int(key)\n",
        "        value =  int(value)\n",
        "        if key in sizes:\n",
        "            if (sizes[key] > 0):\n",
        "                earnedMoney += value\n",
        "                sizes[key] -=1\n",
        "            else:\n",
        "                pass\n",
        "    print(earnedMoney) \n",
        "    \n",
        "# Collections Defaultdict\n",
        "import collections\n",
        "\n",
        "if __name__==\"__main__\":\n",
        "    \n",
        "    n, m = input().strip().split(' ')\n",
        "    n, m = int(n), int(m)\n",
        "    d = collections.defaultdict(list)\n",
        "    for i in range(1,n+1):\n",
        "            char = input() \n",
        "            d[char].append(i)\n",
        " \n",
        "    for i in range(m):\n",
        "        char = input()\n",
        "        temp = [str(x) for x in d[char]]\n",
        "        if (len(temp) == 0):\n",
        "            print('-1')\n",
        "        else:\n",
        "            print(' '.join(temp))"
      ],
      "execution_count": null,
      "outputs": [
        {
          "output_type": "stream",
          "text": [
            "5\n"
          ],
          "name": "stdout"
        },
        {
          "output_type": "error",
          "ename": "ValueError",
          "evalue": "not enough values to unpack (expected 2, got 1)",
          "traceback": [
            "\u001b[0;31m---------------------------------------------------------------------------\u001b[0m",
            "\u001b[0;31mValueError\u001b[0m                                Traceback (most recent call last)",
            "\u001b[0;32m<ipython-input-14-791d7bd735cf>\u001b[0m in \u001b[0;36m<module>\u001b[0;34m()\u001b[0m\n\u001b[1;32m      3\u001b[0m \u001b[0;34m\u001b[0m\u001b[0m\n\u001b[1;32m      4\u001b[0m \u001b[0;32mif\u001b[0m \u001b[0m__name__\u001b[0m \u001b[0;34m==\u001b[0m \u001b[0;34m\"__main__\"\u001b[0m\u001b[0;34m:\u001b[0m\u001b[0;34m\u001b[0m\u001b[0m\n\u001b[0;32m----> 5\u001b[0;31m     \u001b[0mstring\u001b[0m\u001b[0;34m,\u001b[0m \u001b[0mn\u001b[0m \u001b[0;34m=\u001b[0m \u001b[0minput\u001b[0m\u001b[0;34m(\u001b[0m\u001b[0;34m)\u001b[0m\u001b[0;34m.\u001b[0m\u001b[0mstrip\u001b[0m\u001b[0;34m(\u001b[0m\u001b[0;34m)\u001b[0m\u001b[0;34m.\u001b[0m\u001b[0msplit\u001b[0m\u001b[0;34m(\u001b[0m\u001b[0;34m' '\u001b[0m\u001b[0;34m)\u001b[0m\u001b[0;34m\u001b[0m\u001b[0m\n\u001b[0m\u001b[1;32m      6\u001b[0m     \u001b[0mn\u001b[0m \u001b[0;34m=\u001b[0m \u001b[0mint\u001b[0m\u001b[0;34m(\u001b[0m\u001b[0mn\u001b[0m\u001b[0;34m)\u001b[0m\u001b[0;34m\u001b[0m\u001b[0m\n\u001b[1;32m      7\u001b[0m     \u001b[0mout\u001b[0m \u001b[0;34m=\u001b[0m \u001b[0mlist\u001b[0m\u001b[0;34m(\u001b[0m\u001b[0mitertools\u001b[0m\u001b[0;34m.\u001b[0m\u001b[0mpermutations\u001b[0m\u001b[0;34m(\u001b[0m\u001b[0mstring\u001b[0m\u001b[0;34m,\u001b[0m \u001b[0mn\u001b[0m\u001b[0;34m)\u001b[0m\u001b[0;34m)\u001b[0m\u001b[0;34m\u001b[0m\u001b[0m\n",
            "\u001b[0;31mValueError\u001b[0m: not enough values to unpack (expected 2, got 1)"
          ]
        }
      ]
    },
    {
      "cell_type": "code",
      "metadata": {
        "id": "TOgh8LwOuHAR",
        "outputId": "96d1b23c-1a20-4323-c4cf-4ddb8f9f20ba"
      },
      "source": [
        "# Count Cycle\n",
        "import itertools\n",
        "x = itertools.count(1,2) # it produces 1,3,5,...\n",
        "print( next(x) )\n",
        "print( next(x) )\n",
        "print( next(x) )\n",
        "y = itertools.cycle(['a','b','c'])\n",
        "\n",
        "cyc = [ next(y) for i in range(20)]\n",
        "print(cyc)\n",
        "\n",
        "\n",
        "z = itertools.repeat([1,2,3])\n",
        "rep = [next(z) for i in range(10)]\n",
        "print(rep)"
      ],
      "execution_count": null,
      "outputs": [
        {
          "output_type": "stream",
          "text": [
            "1\n",
            "3\n",
            "5\n",
            "['a', 'b', 'c', 'a', 'b', 'c', 'a', 'b', 'c', 'a', 'b', 'c', 'a', 'b', 'c', 'a', 'b', 'c', 'a', 'b']\n",
            "[[1, 2, 3], [1, 2, 3], [1, 2, 3], [1, 2, 3], [1, 2, 3], [1, 2, 3], [1, 2, 3], [1, 2, 3], [1, 2, 3], [1, 2, 3]]\n"
          ],
          "name": "stdout"
        }
      ]
    },
    {
      "cell_type": "markdown",
      "metadata": {
        "id": "fsP1AEBHuHAW"
      },
      "source": [
        "# Generator"
      ]
    },
    {
      "cell_type": "code",
      "metadata": {
        "id": "K59LzjvauHAX",
        "outputId": "2b2872aa-f228-48ef-f494-479dc68b0d7b"
      },
      "source": [
        "a = [1,2,3,4,5]\n",
        "def gen(whatever):\n",
        "    for i in whatever:\n",
        "        yield i\n",
        "item_generator = gen(a)\n",
        "print(next(item_generator))\n",
        "print(next(item_generator))\n",
        "print(next(item_generator))\n",
        "print(next(item_generator))\n",
        "print(next(item_generator))"
      ],
      "execution_count": null,
      "outputs": [
        {
          "output_type": "stream",
          "text": [
            "1\n",
            "2\n",
            "3\n",
            "4\n",
            "5\n"
          ],
          "name": "stdout"
        }
      ]
    },
    {
      "cell_type": "markdown",
      "metadata": {
        "id": "AMAOfv3TuHAZ"
      },
      "source": [
        "# Linked List"
      ]
    },
    {
      "cell_type": "code",
      "metadata": {
        "collapsed": true,
        "id": "ikwIcEKcuHAZ"
      },
      "source": [
        "class Node:\n",
        "    def __init__(self, value = None, next = None):\n",
        "        self.value = value\n",
        "        self.next = next\n",
        "\n",
        "    def __str__(self):\n",
        "        return 'Node ['+str(self.value)+']'\n",
        "\n",
        "class LinkedList:\n",
        "    def __init__(self):\n",
        "        self.first = None\n",
        "        self.last = None\n",
        "\n",
        "    def insert(self, x):\n",
        "        if self.first == None:\n",
        "            self.first = Node(x, None)\n",
        "            self.last = self.first\n",
        "        elif self.last == self.first:\n",
        "            self.last = Node(x, None)\n",
        "            self.first.next = self.last\n",
        "        else:\n",
        "            current = Node(x, None)\n",
        "            self.last.next = current\n",
        "            self.last = current\n",
        "\n",
        "    def __str__(self):\n",
        "        if self.first != None:\n",
        "            current = self.first\n",
        "            out = 'LinkedList [\\n' +str(current.value) +'\\n'\n",
        "            while current.next != None:\n",
        "                current = current.next\n",
        "                out += str(current.value) + '\\n'\n",
        "            return out + ']'\n",
        "        return 'LinkedList []'\n",
        "\n",
        "    def clear(self):\n",
        "        self.__init__()\n",
        "              \n",
        "        \n"
      ],
      "execution_count": null,
      "outputs": []
    },
    {
      "cell_type": "code",
      "metadata": {
        "id": "x2yMx5TLuHAb",
        "outputId": "2bfa4199-a0b3-4e07-ae39-7c0c69ac8d0e"
      },
      "source": [
        "L = LinkedList()\n",
        "L.insert(1)\n",
        "L.insert(1)\n",
        "L.insert(2)\n",
        "L.insert(4)\n",
        "print (L)\n",
        "L.clear()\n",
        "print (L)"
      ],
      "execution_count": null,
      "outputs": [
        {
          "output_type": "stream",
          "text": [
            "LinkedList [\n",
            "1\n",
            "1\n",
            "2\n",
            "4\n",
            "]\n",
            "LinkedList []\n"
          ],
          "name": "stdout"
        }
      ]
    },
    {
      "cell_type": "code",
      "metadata": {
        "id": "p-ndRUliuHAd",
        "outputId": "a24377c2-deaf-4772-97a8-669cb159f473"
      },
      "source": [
        "for i in range(10):\n",
        "    print(i)"
      ],
      "execution_count": null,
      "outputs": [
        {
          "output_type": "stream",
          "text": [
            "0\n",
            "1\n",
            "2\n",
            "3\n",
            "4\n",
            "5\n",
            "6\n",
            "7\n",
            "8\n",
            "9\n"
          ],
          "name": "stdout"
        }
      ]
    },
    {
      "cell_type": "markdown",
      "metadata": {
        "collapsed": true,
        "id": "oA5joixsuHAf"
      },
      "source": [
        "# Bitwise Operations"
      ]
    },
    {
      "cell_type": "code",
      "metadata": {
        "id": "ZSHAgcUKuHAg",
        "outputId": "8c069642-da15-404d-f5c1-64bb623ab4d8"
      },
      "source": [
        "a = 10 \n",
        "a <<= 4 \n",
        "print(a)\n",
        "a = 7 ^ 8  # xor\n",
        "print(a)"
      ],
      "execution_count": null,
      "outputs": [
        {
          "output_type": "stream",
          "text": [
            "160\n",
            "15\n"
          ],
          "name": "stdout"
        }
      ]
    },
    {
      "cell_type": "markdown",
      "metadata": {
        "id": "k5BWx14BuHAi"
      },
      "source": [
        "# Numpy arrays"
      ]
    },
    {
      "cell_type": "code",
      "metadata": {
        "collapsed": true,
        "id": "7P4XIThAuHAi"
      },
      "source": [
        "A=np.array([1,2,3,4])\n",
        "A.shape = (1,4)\n",
        "#print(A.T)\n",
        "\n",
        "B = np.zeros((4,4))\n",
        "print(A.shape, B.shape)\n",
        "C = np.concatenate((B,A.T), axis = 1)\n",
        "print(C)\n",
        "A=np.array([1,2,3,4],ndmin = 2)\n",
        "A.shape"
      ],
      "execution_count": null,
      "outputs": []
    },
    {
      "cell_type": "code",
      "metadata": {
        "id": "FkWmvylquHAm",
        "outputId": "4a0a036c-6a57-446f-bb7c-cb8125b7db29"
      },
      "source": [
        "import numpy as np\n",
        "A = np.zeros((5,4))\n",
        "A[3,2]=3 \n",
        "print(A)\n",
        "B =np.concatenate((np.array([1,2,3,4], ndmin = 2), A), axis = 0)\n",
        "print(B)"
      ],
      "execution_count": null,
      "outputs": [
        {
          "output_type": "stream",
          "text": [
            "[[0. 0. 0. 0.]\n",
            " [0. 0. 0. 0.]\n",
            " [0. 0. 0. 0.]\n",
            " [0. 0. 3. 0.]\n",
            " [0. 0. 0. 0.]]\n",
            "[[1. 2. 3. 4.]\n",
            " [0. 0. 0. 0.]\n",
            " [0. 0. 0. 0.]\n",
            " [0. 0. 0. 0.]\n",
            " [0. 0. 3. 0.]\n",
            " [0. 0. 0. 0.]]\n"
          ],
          "name": "stdout"
        }
      ]
    },
    {
      "cell_type": "markdown",
      "metadata": {
        "id": "Sxo6ITpYuHAn"
      },
      "source": [
        "# Heap"
      ]
    },
    {
      "cell_type": "code",
      "metadata": {
        "id": "0J9ULtituHAo"
      },
      "source": [
        "class BinHeap:\n",
        "    def __init__(self):\n",
        "        self.heapList = [0]\n",
        "        self.currentSize = 0\n",
        "    def percUp(self,i):\n",
        "        while i // 2 > 0:\n",
        "            if self.heapList[i][1] < self.heapList[i // 2][1]:\n",
        "                tmp = self.heapList[i // 2]\n",
        "                self.heapList[i // 2]= self.heapList[i]\n",
        "                self.heapList[i] = tmp\n",
        "            i = i // 2\n",
        "    def insert(self,k):\n",
        "        self.heapList.append(k)\n",
        "        self.currentSize = self.currentSize + 1\n",
        "        self.percUp(self.currentSize)\n",
        "    def percDown(self,i):\n",
        "        while (i * 2) <= self.currentSize:\n",
        "            mc = self.minChild(i)\n",
        "            if self.heapList[i][1] > self.heapList[mc][1]:\n",
        "                tmp = self.heapList[i]\n",
        "                self.heapList[i] = self.heapList[mc]\n",
        "                self.heapList[mc] = tmp\n",
        "            i = mc\n",
        "    def delMin(self):\n",
        "        retval = self.heapList[1]\n",
        "        self.heapList[1] = self.heapList[self.currentSize]\n",
        "        self.currentSize = self.currentSize - 1\n",
        "        self.heapList.pop()\n",
        "        self.percDown(1)\n",
        "        return retval\n",
        "    def buildHeap(self,alist):\n",
        "        i = len(alist) // 2\n",
        "        self.currentSize = len(alist)\n",
        "        self.heapList = [0] + alist[:]\n",
        "        while (i > 0):\n",
        "            self.percDown(i)\n",
        "            i = i - 1\n",
        "    def minChild(self,i):\n",
        "        if i * 2 + 1 > self.currentSize:\n",
        "            return i * 2\n",
        "        else:\n",
        "            if self.heapList[i*2][1] < self.heapList[i*2+1][1]:\n",
        "                return i * 2\n",
        "            else:\n",
        "                return i * 2 + 1"
      ],
      "execution_count": null,
      "outputs": []
    },
    {
      "cell_type": "code",
      "metadata": {
        "id": "IdIPw5fruHAq"
      },
      "source": [
        "class BinHeap:\n",
        "    def __init__(self):\n",
        "        self.heaplist = [0]\n",
        "        self.currentSize = 0\n",
        "    def buildHeap(self, L):\n",
        "        i = len(L)//2 \n",
        "        self.currentSize = len(L)\n",
        "        self.heaplist = [0] + L[:] # to copy the contents \n",
        "        while ( i > 0 ):\n",
        "            self.percDown(i)\n",
        "            i -= 1 \n",
        "    def insert(self, k):\n",
        "        self.heaplist.append(k)\n",
        "        self.currentSize += 1 \n",
        "        self.percUp(self.currentSize) \n",
        "    def delMin(self):\n",
        "        retval = self.heaplist[1]\n",
        "        self.heaplist[1] = self.heaplist[self.currentSize]\n",
        "        self.heaplist.pop()\n",
        "        self.currentSize -= 1 \n",
        "        self.percDown(1)\n",
        "        return retval\n",
        "    def percUp(self, i):\n",
        "        while i>0:\n",
        "            if self.heaplist[i] < self.heaplist[i//2]:\n",
        "                temp = self.heaplist[i]\n",
        "                self.heaplist[i] = self.heaplist[i//2]\n",
        "                self.heaplist[i//2] = temp \n",
        "            i //= 2\n",
        "    def percDown(self,i):\n",
        "        while 2*i<= self.currentSize:\n",
        "            mc = self.minChild(i)\n",
        "            if self.heaplist[i] > self.heaplist[mc]:\n",
        "                temp = self.heaplist[i] \n",
        "                self.heaplist[i] = self.heaplist[mc]\n",
        "                self.heaplist[mc] = temp\n",
        "            i = mc\n",
        "        \n",
        "    def minChild(self, i):\n",
        "        if 2*i+1 > self.currentSize:\n",
        "            return 2*i \n",
        "        else:\n",
        "            if self.heaplist[2*i] < self.heaplist[2*i+1]:\n",
        "                return 2*i \n",
        "            else: \n",
        "                return 2*i+1 \n",
        "            \n",
        "        "
      ],
      "execution_count": null,
      "outputs": []
    },
    {
      "cell_type": "code",
      "metadata": {
        "id": "RhmH6ycQuHAs",
        "outputId": "e8983fa2-ac8b-4ec8-8e65-27ec669e242e"
      },
      "source": [
        "B = BinHeap()\n",
        "B.buildHeap([6,3,19,4,11,7,8,17,14,5,1,13])\n",
        "print(B.heaplist)\n",
        "B.insert(2)\n",
        "print(B.heaplist)\n",
        "B.insert(0)\n",
        "print(B.heaplist)\n",
        "print(B.delMin())\n",
        "print(B.heaplist)"
      ],
      "execution_count": null,
      "outputs": [
        {
          "output_type": "stream",
          "text": [
            "[0, 1, 3, 7, 4, 5, 13, 8, 17, 14, 6, 11, 19]\n",
            "[0, 1, 3, 2, 4, 5, 7, 8, 17, 14, 6, 11, 19, 13]\n",
            "[0, 0, 3, 1, 4, 5, 7, 2, 17, 14, 6, 11, 19, 13, 8]\n",
            "0\n",
            "[0, 1, 3, 2, 4, 5, 7, 8, 17, 14, 6, 11, 19, 13]\n"
          ],
          "name": "stdout"
        }
      ]
    },
    {
      "cell_type": "markdown",
      "metadata": {
        "id": "9i3_WDoZuHAx"
      },
      "source": [
        "# Lambda, Map"
      ]
    },
    {
      "cell_type": "code",
      "metadata": {
        "id": "OfYCuhQquHAy",
        "outputId": "6c5e218f-1a21-426d-9ee1-bba8a2ed4711"
      },
      "source": [
        "\n",
        "from fractions import Fraction\n",
        "from math import gcd\n",
        "from functools import reduce\n",
        "cube = lambda x:x**3\n",
        "\n",
        "\n",
        "def product(fracs):\n",
        "    \n",
        "    t = reduce(lambda a,b: Fraction(a.numerator*b.numerator,a.denominator*b.denominator),fracs)    \n",
        "    return t.numerator, t.denominator\n",
        "\n",
        "def reduce_func():\n",
        "    fracs = []\n",
        "    for _ in range(int(input())):\n",
        "        fracs.append(Fraction(*map(int, input().split())))\n",
        "    result = product(fracs)\n",
        "    print(*result)\n",
        "    \n",
        "    \n",
        "    \n",
        "if __name__ == \"__main__\":\n",
        "    print (list(map(len, ['Tina', 'Raj', 'Tom']))) \n",
        "    \n",
        "    \"\"\"\n",
        "    Lambda functions cannot use the return statement and can only \n",
        "    have a single expression. Unlike def, which creates a function \n",
        "    and assigns it a name, lambda creates a function and returns \n",
        "    the function itself. Lambda can be used inside lists and dictionaries.\n",
        "    \"\"\"\n",
        "    sum = lambda a, b, c: a + b + c\n",
        "    sum(1, 2, 3)\n",
        "    cube = lambda x:x**3\n",
        "    print (list(map(cube, range(10)))) \n",
        "    print(*map(int, \"1 2 \".split()))\n",
        "    print(map(int, \"1 2\".split()))\n",
        "    \n",
        "    print (reduce(lambda x, y : x + y, [1,2,3], -3) )\n",
        "    print (reduce(gcd, [2,4,8], 3) )\n",
        "    \n",
        "    fracs = []\n",
        "    for _ in range(int(input())):\n",
        "        fracs.append(Fraction(*map(int, input().split())))\n",
        "    result = product(fracs)\n",
        "    print(*result)"
      ],
      "execution_count": null,
      "outputs": [
        {
          "output_type": "stream",
          "text": [
            "[4, 3, 3]\n",
            "[0, 1, 8, 27, 64, 125, 216, 343, 512, 729]\n",
            "1 2\n",
            "<map object at 0x10c8b22e8>\n",
            "3\n",
            "1\n",
            "5 \n",
            "6\n",
            "7\n",
            "8\n",
            "9\n",
            "10\n",
            "30240 1\n"
          ],
          "name": "stdout"
        }
      ]
    },
    {
      "cell_type": "code",
      "metadata": {
        "collapsed": true,
        "id": "i_jnLN0iuHAz"
      },
      "source": [
        ""
      ],
      "execution_count": null,
      "outputs": []
    },
    {
      "cell_type": "markdown",
      "metadata": {
        "id": "twMOROKjGinz"
      },
      "source": [
        "#Collections"
      ]
    },
    {
      "cell_type": "code",
      "metadata": {
        "id": "Ff7rRE5xGlh1"
      },
      "source": [
        "MatchResult = collections.nanedtuple('llatchResu1t', ('winning_team', 'Iosing_team') )\n"
      ],
      "execution_count": null,
      "outputs": []
    },
    {
      "cell_type": "markdown",
      "metadata": {
        "id": "Dwir2GMEvraf"
      },
      "source": [
        "# Matplotlib"
      ]
    },
    {
      "cell_type": "code",
      "metadata": {
        "colab": {
          "base_uri": "https://localhost:8080/",
          "height": 300
        },
        "id": "9EHg1tEJvq13",
        "outputId": "494f6b22-3ee2-4817-f036-a04127c9f809"
      },
      "source": [
        "import numpy as np\n",
        "import math as mth\n",
        "import matplotlib.pyplot as plt\n",
        "import scipy.stats as stats\n",
        "\n",
        "x=np.linspace(0,39,40)\n",
        "y=2-np.exp(-x/10)\n",
        "\n",
        "\n",
        "\n",
        "labels = [\"0\", \"1\", \"2\", \"3\" , \"4\" , \"5\" , \"6\"]\n",
        "\n",
        "\n",
        "# create a bar plot to illusrate the generated versus expected counts\n",
        "plt.figure()\n",
        "plt.bar(x,y, color='g', label=\"r\")\n",
        "plt.ylim([1,2])\n",
        "plt.xlabel(\"Participants\")\n",
        "plt.ylabel(\"Payoff Coefficient\")\n",
        "plt.legend(loc=\"best\")\n"
      ],
      "execution_count": null,
      "outputs": [
        {
          "output_type": "execute_result",
          "data": {
            "text/plain": [
              "<matplotlib.legend.Legend at 0x7f41fe6a33c8>"
            ]
          },
          "metadata": {
            "tags": []
          },
          "execution_count": 1
        },
        {
          "output_type": "display_data",
          "data": {
            "image/png": "[encoded data removed]",
            "text/plain": [
              "<Figure size 432x288 with 1 Axes>"
            ]
          },
          "metadata": {
            "tags": [],
            "needs_background": "light"
          }
        }
      ]
    }
  ]
}